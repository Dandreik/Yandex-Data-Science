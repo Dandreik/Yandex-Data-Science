{
 "cells": [
  {
   "cell_type": "markdown",
   "metadata": {},
   "source": [
    "<div style=\"border:solid Chocolate 2px; padding: 40px\">\n",
    "\n",
    "<b>Михаил, привет!</b>\n",
    "\n",
    "Меня зовут Евгений Головин, я буду ревьюером твоего проекта. Если ты не против, то предлагаю построить наше общение на \"ты\" ;) Если удобнее на \"вы\", то нет проблем, только скажи об этом. \n",
    "\n",
    "В ходе работы я оставил тебе комментарии <font color='green'>зеленого</font>, <font color='gold'>желтого</font> и <font color='red'>красного</font> цветов. Сейчас объясню, что они значат:\n",
    "\n",
    "<br/>\n",
    "\n",
    "<div class=\"alert alert-success\">\n",
    "<h2> Комментарий ревьюера <a class=\"tocSkip\"> </h2>\n",
    "\n",
    "<b>Все супер!👍:</b> Решение на этом шаге является полностью правильным.\n",
    "</div>\n",
    "\n",
    "<br/>\n",
    "\n",
    "<div class=\"alert alert-warning\">\n",
    "    <h2> Комментарий ревьюера <a class=\"tocSkip\"> </h2>\n",
    "    \n",
    "<b>Небольшие замечания и рекомендации💡:</b> Решение на этом шаге станет еще лучше, если внести небольшие коррективы.\n",
    "</div>\n",
    "\n",
    "\n",
    "<br/>\n",
    "<div class=\"alert alert-block alert-danger\">\n",
    "<h2> Комментарий ревьюера <a class=\"tocSkip\"></h2>\n",
    "\n",
    "    \n",
    "<b>На доработку🤔:</b>\n",
    " Решение на этом шаге требует существенной переработки и внесения правок. Напоминаю, что проект не может быть принят с первого раза, если ревью содержит комментарии, рекомендующие доработать шаги.\n",
    "</div>\n",
    "    \n",
    "Увидев мой комментарий, не удаляй его, он будет очень полезен в случае повторной проверки работы :)\n",
    "    \n",
    "<div class=\"alert alert-info\">\n",
    "<b>А свой помечай вот так, чтобы я его не потерял ;)</b> \n",
    "</div>\n",
    "    \n",
    "На мои комменатрии можно и нужно реагировать, только делать это стоит так, чтобы твои и мои комменты не смешались: выделяй свои цветами, сильно отличающимися от моих.\n",
    "    \n",
    "Увидев у тебя неточность, в первый раз я лишь укажу на ее наличие и дам тебе возможность самому найти и исправить ее. На реальной работе твой руководитель будет поступать также, и я пытаюсь подготовить тебя именно к работе аналитиком. Но если ты пока не справишься с такой задачей - при следующей проверке я дам более точную подсказку! "
   ]
  },
  {
   "cell_type": "markdown",
   "metadata": {},
   "source": [
    "<div class=\"alert alert-info\">\n",
    "<b>Не пойму что с платформой, уже 3 раз отправляет не ту версию. А проверить какая версия отправилась невозможно</b> \n",
    "</div>"
   ]
  },
  {
   "cell_type": "markdown",
   "metadata": {},
   "source": [
    "# Сборный проект 1\n",
    "\n",
    "Вы работаете в интернет-магазине «Стримчик», который продаёт по всему миру компьютерные игры. Из открытых источников доступны исторические данные о продажах игр, оценки пользователей и экспертов, жанры и платформы (например, Xbox или PlayStation). Вам нужно выявить определяющие успешность игры закономерности. Это позволит сделать ставку на потенциально популярный продукт и спланировать рекламные кампании.\n",
    "\n",
    "Перед вами данные до 2016 года. Представим, что сейчас декабрь 2016 г., и вы планируете кампанию на 2017-й. Нужно отработать принцип работы с данными. Неважно, прогнозируете ли вы продажи на 2017 год по данным 2016-го или же 2027-й — по данным 2026 года.\n",
    "\n",
    "В наборе данных попадается аббревиатура ESRB (Entertainment Software Rating Board) — это ассоциация, определяющая возрастной рейтинг компьютерных игр. ESRB оценивает игровой контент и присваивает ему подходящую возрастную категорию, например, «Для взрослых», «Для детей младшего возраста» или «Для подростков»."
   ]
  },
  {
   "cell_type": "markdown",
   "metadata": {},
   "source": [
    "<div class=\"alert alert-warning\">\n",
    "    <h2> Комментарий ревьюера v2 <a class=\"tocSkip\"> </h2>\n",
    "    \n",
    "<b>Небольшие замечания и рекомендации💡:</b> Отлично! Было бы супер добавить еще план работы и описание данных"
   ]
  },
  {
   "cell_type": "markdown",
   "metadata": {},
   "source": [
    "## Изучение общей информации о данных"
   ]
  },
  {
   "cell_type": "code",
   "execution_count": 1,
   "metadata": {},
   "outputs": [],
   "source": [
    "# Импортируем необходимые нам библиотеки\n",
    "\n",
    "import pandas as pd\n",
    "import numpy as np\n",
    "from matplotlib import pyplot as plt\n",
    "import seaborn as sns\n",
    "from scipy import stats as st"
   ]
  },
  {
   "cell_type": "code",
   "execution_count": 2,
   "metadata": {},
   "outputs": [],
   "source": [
    "# Прочитаем датафрейм из файла и посмотрим общую информацию о датафрейме\n",
    "df= pd.read_csv('/datasets/games.csv')"
   ]
  },
  {
   "cell_type": "code",
   "execution_count": 3,
   "metadata": {},
   "outputs": [
    {
     "name": "stdout",
     "output_type": "stream",
     "text": [
      "<class 'pandas.core.frame.DataFrame'>\n",
      "RangeIndex: 16715 entries, 0 to 16714\n",
      "Data columns (total 11 columns):\n",
      " #   Column           Non-Null Count  Dtype  \n",
      "---  ------           --------------  -----  \n",
      " 0   Name             16713 non-null  object \n",
      " 1   Platform         16715 non-null  object \n",
      " 2   Year_of_Release  16446 non-null  float64\n",
      " 3   Genre            16713 non-null  object \n",
      " 4   NA_sales         16715 non-null  float64\n",
      " 5   EU_sales         16715 non-null  float64\n",
      " 6   JP_sales         16715 non-null  float64\n",
      " 7   Other_sales      16715 non-null  float64\n",
      " 8   Critic_Score     8137 non-null   float64\n",
      " 9   User_Score       10014 non-null  object \n",
      " 10  Rating           9949 non-null   object \n",
      "dtypes: float64(6), object(5)\n",
      "memory usage: 1.4+ MB\n"
     ]
    }
   ],
   "source": [
    "df. info()"
   ]
  },
  {
   "cell_type": "code",
   "execution_count": 4,
   "metadata": {},
   "outputs": [
    {
     "data": {
      "text/html": [
       "<div>\n",
       "<style scoped>\n",
       "    .dataframe tbody tr th:only-of-type {\n",
       "        vertical-align: middle;\n",
       "    }\n",
       "\n",
       "    .dataframe tbody tr th {\n",
       "        vertical-align: top;\n",
       "    }\n",
       "\n",
       "    .dataframe thead th {\n",
       "        text-align: right;\n",
       "    }\n",
       "</style>\n",
       "<table border=\"1\" class=\"dataframe\">\n",
       "  <thead>\n",
       "    <tr style=\"text-align: right;\">\n",
       "      <th></th>\n",
       "      <th>Name</th>\n",
       "      <th>Platform</th>\n",
       "      <th>Year_of_Release</th>\n",
       "      <th>Genre</th>\n",
       "      <th>NA_sales</th>\n",
       "      <th>EU_sales</th>\n",
       "      <th>JP_sales</th>\n",
       "      <th>Other_sales</th>\n",
       "      <th>Critic_Score</th>\n",
       "      <th>User_Score</th>\n",
       "      <th>Rating</th>\n",
       "    </tr>\n",
       "  </thead>\n",
       "  <tbody>\n",
       "    <tr>\n",
       "      <th>0</th>\n",
       "      <td>Wii Sports</td>\n",
       "      <td>Wii</td>\n",
       "      <td>2006.0</td>\n",
       "      <td>Sports</td>\n",
       "      <td>41.36</td>\n",
       "      <td>28.96</td>\n",
       "      <td>3.77</td>\n",
       "      <td>8.45</td>\n",
       "      <td>76.0</td>\n",
       "      <td>8</td>\n",
       "      <td>E</td>\n",
       "    </tr>\n",
       "    <tr>\n",
       "      <th>1</th>\n",
       "      <td>Super Mario Bros.</td>\n",
       "      <td>NES</td>\n",
       "      <td>1985.0</td>\n",
       "      <td>Platform</td>\n",
       "      <td>29.08</td>\n",
       "      <td>3.58</td>\n",
       "      <td>6.81</td>\n",
       "      <td>0.77</td>\n",
       "      <td>NaN</td>\n",
       "      <td>NaN</td>\n",
       "      <td>NaN</td>\n",
       "    </tr>\n",
       "    <tr>\n",
       "      <th>2</th>\n",
       "      <td>Mario Kart Wii</td>\n",
       "      <td>Wii</td>\n",
       "      <td>2008.0</td>\n",
       "      <td>Racing</td>\n",
       "      <td>15.68</td>\n",
       "      <td>12.76</td>\n",
       "      <td>3.79</td>\n",
       "      <td>3.29</td>\n",
       "      <td>82.0</td>\n",
       "      <td>8.3</td>\n",
       "      <td>E</td>\n",
       "    </tr>\n",
       "    <tr>\n",
       "      <th>3</th>\n",
       "      <td>Wii Sports Resort</td>\n",
       "      <td>Wii</td>\n",
       "      <td>2009.0</td>\n",
       "      <td>Sports</td>\n",
       "      <td>15.61</td>\n",
       "      <td>10.93</td>\n",
       "      <td>3.28</td>\n",
       "      <td>2.95</td>\n",
       "      <td>80.0</td>\n",
       "      <td>8</td>\n",
       "      <td>E</td>\n",
       "    </tr>\n",
       "    <tr>\n",
       "      <th>4</th>\n",
       "      <td>Pokemon Red/Pokemon Blue</td>\n",
       "      <td>GB</td>\n",
       "      <td>1996.0</td>\n",
       "      <td>Role-Playing</td>\n",
       "      <td>11.27</td>\n",
       "      <td>8.89</td>\n",
       "      <td>10.22</td>\n",
       "      <td>1.00</td>\n",
       "      <td>NaN</td>\n",
       "      <td>NaN</td>\n",
       "      <td>NaN</td>\n",
       "    </tr>\n",
       "    <tr>\n",
       "      <th>5</th>\n",
       "      <td>Tetris</td>\n",
       "      <td>GB</td>\n",
       "      <td>1989.0</td>\n",
       "      <td>Puzzle</td>\n",
       "      <td>23.20</td>\n",
       "      <td>2.26</td>\n",
       "      <td>4.22</td>\n",
       "      <td>0.58</td>\n",
       "      <td>NaN</td>\n",
       "      <td>NaN</td>\n",
       "      <td>NaN</td>\n",
       "    </tr>\n",
       "    <tr>\n",
       "      <th>6</th>\n",
       "      <td>New Super Mario Bros.</td>\n",
       "      <td>DS</td>\n",
       "      <td>2006.0</td>\n",
       "      <td>Platform</td>\n",
       "      <td>11.28</td>\n",
       "      <td>9.14</td>\n",
       "      <td>6.50</td>\n",
       "      <td>2.88</td>\n",
       "      <td>89.0</td>\n",
       "      <td>8.5</td>\n",
       "      <td>E</td>\n",
       "    </tr>\n",
       "    <tr>\n",
       "      <th>7</th>\n",
       "      <td>Wii Play</td>\n",
       "      <td>Wii</td>\n",
       "      <td>2006.0</td>\n",
       "      <td>Misc</td>\n",
       "      <td>13.96</td>\n",
       "      <td>9.18</td>\n",
       "      <td>2.93</td>\n",
       "      <td>2.84</td>\n",
       "      <td>58.0</td>\n",
       "      <td>6.6</td>\n",
       "      <td>E</td>\n",
       "    </tr>\n",
       "    <tr>\n",
       "      <th>8</th>\n",
       "      <td>New Super Mario Bros. Wii</td>\n",
       "      <td>Wii</td>\n",
       "      <td>2009.0</td>\n",
       "      <td>Platform</td>\n",
       "      <td>14.44</td>\n",
       "      <td>6.94</td>\n",
       "      <td>4.70</td>\n",
       "      <td>2.24</td>\n",
       "      <td>87.0</td>\n",
       "      <td>8.4</td>\n",
       "      <td>E</td>\n",
       "    </tr>\n",
       "    <tr>\n",
       "      <th>9</th>\n",
       "      <td>Duck Hunt</td>\n",
       "      <td>NES</td>\n",
       "      <td>1984.0</td>\n",
       "      <td>Shooter</td>\n",
       "      <td>26.93</td>\n",
       "      <td>0.63</td>\n",
       "      <td>0.28</td>\n",
       "      <td>0.47</td>\n",
       "      <td>NaN</td>\n",
       "      <td>NaN</td>\n",
       "      <td>NaN</td>\n",
       "    </tr>\n",
       "  </tbody>\n",
       "</table>\n",
       "</div>"
      ],
      "text/plain": [
       "                        Name Platform  Year_of_Release         Genre  \\\n",
       "0                 Wii Sports      Wii           2006.0        Sports   \n",
       "1          Super Mario Bros.      NES           1985.0      Platform   \n",
       "2             Mario Kart Wii      Wii           2008.0        Racing   \n",
       "3          Wii Sports Resort      Wii           2009.0        Sports   \n",
       "4   Pokemon Red/Pokemon Blue       GB           1996.0  Role-Playing   \n",
       "5                     Tetris       GB           1989.0        Puzzle   \n",
       "6      New Super Mario Bros.       DS           2006.0      Platform   \n",
       "7                   Wii Play      Wii           2006.0          Misc   \n",
       "8  New Super Mario Bros. Wii      Wii           2009.0      Platform   \n",
       "9                  Duck Hunt      NES           1984.0       Shooter   \n",
       "\n",
       "   NA_sales  EU_sales  JP_sales  Other_sales  Critic_Score User_Score Rating  \n",
       "0     41.36     28.96      3.77         8.45          76.0          8      E  \n",
       "1     29.08      3.58      6.81         0.77           NaN        NaN    NaN  \n",
       "2     15.68     12.76      3.79         3.29          82.0        8.3      E  \n",
       "3     15.61     10.93      3.28         2.95          80.0          8      E  \n",
       "4     11.27      8.89     10.22         1.00           NaN        NaN    NaN  \n",
       "5     23.20      2.26      4.22         0.58           NaN        NaN    NaN  \n",
       "6     11.28      9.14      6.50         2.88          89.0        8.5      E  \n",
       "7     13.96      9.18      2.93         2.84          58.0        6.6      E  \n",
       "8     14.44      6.94      4.70         2.24          87.0        8.4      E  \n",
       "9     26.93      0.63      0.28         0.47           NaN        NaN    NaN  "
      ]
     },
     "execution_count": 4,
     "metadata": {},
     "output_type": "execute_result"
    }
   ],
   "source": [
    "df.head(10)"
   ]
  },
  {
   "cell_type": "code",
   "execution_count": 5,
   "metadata": {},
   "outputs": [
    {
     "data": {
      "text/html": [
       "<div>\n",
       "<style scoped>\n",
       "    .dataframe tbody tr th:only-of-type {\n",
       "        vertical-align: middle;\n",
       "    }\n",
       "\n",
       "    .dataframe tbody tr th {\n",
       "        vertical-align: top;\n",
       "    }\n",
       "\n",
       "    .dataframe thead th {\n",
       "        text-align: right;\n",
       "    }\n",
       "</style>\n",
       "<table border=\"1\" class=\"dataframe\">\n",
       "  <thead>\n",
       "    <tr style=\"text-align: right;\">\n",
       "      <th></th>\n",
       "      <th>Name</th>\n",
       "      <th>Platform</th>\n",
       "      <th>Year_of_Release</th>\n",
       "      <th>Genre</th>\n",
       "      <th>NA_sales</th>\n",
       "      <th>EU_sales</th>\n",
       "      <th>JP_sales</th>\n",
       "      <th>Other_sales</th>\n",
       "      <th>Critic_Score</th>\n",
       "      <th>User_Score</th>\n",
       "      <th>Rating</th>\n",
       "    </tr>\n",
       "  </thead>\n",
       "  <tbody>\n",
       "    <tr>\n",
       "      <th>16705</th>\n",
       "      <td>15 Days</td>\n",
       "      <td>PC</td>\n",
       "      <td>2009.0</td>\n",
       "      <td>Adventure</td>\n",
       "      <td>0.00</td>\n",
       "      <td>0.01</td>\n",
       "      <td>0.00</td>\n",
       "      <td>0.0</td>\n",
       "      <td>63.0</td>\n",
       "      <td>5.8</td>\n",
       "      <td>NaN</td>\n",
       "    </tr>\n",
       "    <tr>\n",
       "      <th>16706</th>\n",
       "      <td>Men in Black II: Alien Escape</td>\n",
       "      <td>GC</td>\n",
       "      <td>2003.0</td>\n",
       "      <td>Shooter</td>\n",
       "      <td>0.01</td>\n",
       "      <td>0.00</td>\n",
       "      <td>0.00</td>\n",
       "      <td>0.0</td>\n",
       "      <td>NaN</td>\n",
       "      <td>tbd</td>\n",
       "      <td>T</td>\n",
       "    </tr>\n",
       "    <tr>\n",
       "      <th>16707</th>\n",
       "      <td>Aiyoku no Eustia</td>\n",
       "      <td>PSV</td>\n",
       "      <td>2014.0</td>\n",
       "      <td>Misc</td>\n",
       "      <td>0.00</td>\n",
       "      <td>0.00</td>\n",
       "      <td>0.01</td>\n",
       "      <td>0.0</td>\n",
       "      <td>NaN</td>\n",
       "      <td>NaN</td>\n",
       "      <td>NaN</td>\n",
       "    </tr>\n",
       "    <tr>\n",
       "      <th>16708</th>\n",
       "      <td>Woody Woodpecker in Crazy Castle 5</td>\n",
       "      <td>GBA</td>\n",
       "      <td>2002.0</td>\n",
       "      <td>Platform</td>\n",
       "      <td>0.01</td>\n",
       "      <td>0.00</td>\n",
       "      <td>0.00</td>\n",
       "      <td>0.0</td>\n",
       "      <td>NaN</td>\n",
       "      <td>NaN</td>\n",
       "      <td>NaN</td>\n",
       "    </tr>\n",
       "    <tr>\n",
       "      <th>16709</th>\n",
       "      <td>SCORE International Baja 1000: The Official Game</td>\n",
       "      <td>PS2</td>\n",
       "      <td>2008.0</td>\n",
       "      <td>Racing</td>\n",
       "      <td>0.00</td>\n",
       "      <td>0.00</td>\n",
       "      <td>0.00</td>\n",
       "      <td>0.0</td>\n",
       "      <td>NaN</td>\n",
       "      <td>NaN</td>\n",
       "      <td>NaN</td>\n",
       "    </tr>\n",
       "    <tr>\n",
       "      <th>16710</th>\n",
       "      <td>Samurai Warriors: Sanada Maru</td>\n",
       "      <td>PS3</td>\n",
       "      <td>2016.0</td>\n",
       "      <td>Action</td>\n",
       "      <td>0.00</td>\n",
       "      <td>0.00</td>\n",
       "      <td>0.01</td>\n",
       "      <td>0.0</td>\n",
       "      <td>NaN</td>\n",
       "      <td>NaN</td>\n",
       "      <td>NaN</td>\n",
       "    </tr>\n",
       "    <tr>\n",
       "      <th>16711</th>\n",
       "      <td>LMA Manager 2007</td>\n",
       "      <td>X360</td>\n",
       "      <td>2006.0</td>\n",
       "      <td>Sports</td>\n",
       "      <td>0.00</td>\n",
       "      <td>0.01</td>\n",
       "      <td>0.00</td>\n",
       "      <td>0.0</td>\n",
       "      <td>NaN</td>\n",
       "      <td>NaN</td>\n",
       "      <td>NaN</td>\n",
       "    </tr>\n",
       "    <tr>\n",
       "      <th>16712</th>\n",
       "      <td>Haitaka no Psychedelica</td>\n",
       "      <td>PSV</td>\n",
       "      <td>2016.0</td>\n",
       "      <td>Adventure</td>\n",
       "      <td>0.00</td>\n",
       "      <td>0.00</td>\n",
       "      <td>0.01</td>\n",
       "      <td>0.0</td>\n",
       "      <td>NaN</td>\n",
       "      <td>NaN</td>\n",
       "      <td>NaN</td>\n",
       "    </tr>\n",
       "    <tr>\n",
       "      <th>16713</th>\n",
       "      <td>Spirits &amp; Spells</td>\n",
       "      <td>GBA</td>\n",
       "      <td>2003.0</td>\n",
       "      <td>Platform</td>\n",
       "      <td>0.01</td>\n",
       "      <td>0.00</td>\n",
       "      <td>0.00</td>\n",
       "      <td>0.0</td>\n",
       "      <td>NaN</td>\n",
       "      <td>NaN</td>\n",
       "      <td>NaN</td>\n",
       "    </tr>\n",
       "    <tr>\n",
       "      <th>16714</th>\n",
       "      <td>Winning Post 8 2016</td>\n",
       "      <td>PSV</td>\n",
       "      <td>2016.0</td>\n",
       "      <td>Simulation</td>\n",
       "      <td>0.00</td>\n",
       "      <td>0.00</td>\n",
       "      <td>0.01</td>\n",
       "      <td>0.0</td>\n",
       "      <td>NaN</td>\n",
       "      <td>NaN</td>\n",
       "      <td>NaN</td>\n",
       "    </tr>\n",
       "  </tbody>\n",
       "</table>\n",
       "</div>"
      ],
      "text/plain": [
       "                                                   Name Platform  \\\n",
       "16705                                           15 Days       PC   \n",
       "16706                     Men in Black II: Alien Escape       GC   \n",
       "16707                                  Aiyoku no Eustia      PSV   \n",
       "16708                Woody Woodpecker in Crazy Castle 5      GBA   \n",
       "16709  SCORE International Baja 1000: The Official Game      PS2   \n",
       "16710                     Samurai Warriors: Sanada Maru      PS3   \n",
       "16711                                  LMA Manager 2007     X360   \n",
       "16712                           Haitaka no Psychedelica      PSV   \n",
       "16713                                  Spirits & Spells      GBA   \n",
       "16714                               Winning Post 8 2016      PSV   \n",
       "\n",
       "       Year_of_Release       Genre  NA_sales  EU_sales  JP_sales  Other_sales  \\\n",
       "16705           2009.0   Adventure      0.00      0.01      0.00          0.0   \n",
       "16706           2003.0     Shooter      0.01      0.00      0.00          0.0   \n",
       "16707           2014.0        Misc      0.00      0.00      0.01          0.0   \n",
       "16708           2002.0    Platform      0.01      0.00      0.00          0.0   \n",
       "16709           2008.0      Racing      0.00      0.00      0.00          0.0   \n",
       "16710           2016.0      Action      0.00      0.00      0.01          0.0   \n",
       "16711           2006.0      Sports      0.00      0.01      0.00          0.0   \n",
       "16712           2016.0   Adventure      0.00      0.00      0.01          0.0   \n",
       "16713           2003.0    Platform      0.01      0.00      0.00          0.0   \n",
       "16714           2016.0  Simulation      0.00      0.00      0.01          0.0   \n",
       "\n",
       "       Critic_Score User_Score Rating  \n",
       "16705          63.0        5.8    NaN  \n",
       "16706           NaN        tbd      T  \n",
       "16707           NaN        NaN    NaN  \n",
       "16708           NaN        NaN    NaN  \n",
       "16709           NaN        NaN    NaN  \n",
       "16710           NaN        NaN    NaN  \n",
       "16711           NaN        NaN    NaN  \n",
       "16712           NaN        NaN    NaN  \n",
       "16713           NaN        NaN    NaN  \n",
       "16714           NaN        NaN    NaN  "
      ]
     },
     "execution_count": 5,
     "metadata": {},
     "output_type": "execute_result"
    }
   ],
   "source": [
    "df.tail(10)"
   ]
  },
  {
   "cell_type": "markdown",
   "metadata": {},
   "source": [
    "При первоначальном осмотре данных выявлены следующие проблемы:\n",
    "\n",
    "* Необходимо привести названия столбцов к нижнему регистру\n",
    "* Необходимо привести типы данных в нужные для правильно обработки\n",
    "* Необходимо обработаь пропущенные данные\n",
    "* Возможно, встречаются дубликаты"
   ]
  },
  {
   "cell_type": "markdown",
   "metadata": {},
   "source": [
    "<div class=\"alert alert-success\">\n",
    "<h2> Комментарий ревьюера v2 <a class=\"tocSkip\"> </h2>\n",
    "\n",
    "<b>Все супер!👍:</b> Отличный вывод по обзору данных!"
   ]
  },
  {
   "cell_type": "markdown",
   "metadata": {},
   "source": [
    "## Подготовка данных"
   ]
  },
  {
   "cell_type": "markdown",
   "metadata": {},
   "source": [
    "### Обработка названий столбцов"
   ]
  },
  {
   "cell_type": "code",
   "execution_count": 6,
   "metadata": {
    "scrolled": true
   },
   "outputs": [
    {
     "data": {
      "text/html": [
       "<div>\n",
       "<style scoped>\n",
       "    .dataframe tbody tr th:only-of-type {\n",
       "        vertical-align: middle;\n",
       "    }\n",
       "\n",
       "    .dataframe tbody tr th {\n",
       "        vertical-align: top;\n",
       "    }\n",
       "\n",
       "    .dataframe thead th {\n",
       "        text-align: right;\n",
       "    }\n",
       "</style>\n",
       "<table border=\"1\" class=\"dataframe\">\n",
       "  <thead>\n",
       "    <tr style=\"text-align: right;\">\n",
       "      <th></th>\n",
       "      <th>name</th>\n",
       "      <th>platform</th>\n",
       "      <th>year_of_release</th>\n",
       "      <th>genre</th>\n",
       "      <th>na_sales</th>\n",
       "      <th>eu_sales</th>\n",
       "      <th>jp_sales</th>\n",
       "      <th>other_sales</th>\n",
       "      <th>critic_score</th>\n",
       "      <th>user_score</th>\n",
       "      <th>rating</th>\n",
       "    </tr>\n",
       "  </thead>\n",
       "  <tbody>\n",
       "    <tr>\n",
       "      <th>0</th>\n",
       "      <td>Wii Sports</td>\n",
       "      <td>Wii</td>\n",
       "      <td>2006.0</td>\n",
       "      <td>Sports</td>\n",
       "      <td>41.36</td>\n",
       "      <td>28.96</td>\n",
       "      <td>3.77</td>\n",
       "      <td>8.45</td>\n",
       "      <td>76.0</td>\n",
       "      <td>8</td>\n",
       "      <td>E</td>\n",
       "    </tr>\n",
       "    <tr>\n",
       "      <th>1</th>\n",
       "      <td>Super Mario Bros.</td>\n",
       "      <td>NES</td>\n",
       "      <td>1985.0</td>\n",
       "      <td>Platform</td>\n",
       "      <td>29.08</td>\n",
       "      <td>3.58</td>\n",
       "      <td>6.81</td>\n",
       "      <td>0.77</td>\n",
       "      <td>NaN</td>\n",
       "      <td>NaN</td>\n",
       "      <td>NaN</td>\n",
       "    </tr>\n",
       "    <tr>\n",
       "      <th>2</th>\n",
       "      <td>Mario Kart Wii</td>\n",
       "      <td>Wii</td>\n",
       "      <td>2008.0</td>\n",
       "      <td>Racing</td>\n",
       "      <td>15.68</td>\n",
       "      <td>12.76</td>\n",
       "      <td>3.79</td>\n",
       "      <td>3.29</td>\n",
       "      <td>82.0</td>\n",
       "      <td>8.3</td>\n",
       "      <td>E</td>\n",
       "    </tr>\n",
       "    <tr>\n",
       "      <th>3</th>\n",
       "      <td>Wii Sports Resort</td>\n",
       "      <td>Wii</td>\n",
       "      <td>2009.0</td>\n",
       "      <td>Sports</td>\n",
       "      <td>15.61</td>\n",
       "      <td>10.93</td>\n",
       "      <td>3.28</td>\n",
       "      <td>2.95</td>\n",
       "      <td>80.0</td>\n",
       "      <td>8</td>\n",
       "      <td>E</td>\n",
       "    </tr>\n",
       "    <tr>\n",
       "      <th>4</th>\n",
       "      <td>Pokemon Red/Pokemon Blue</td>\n",
       "      <td>GB</td>\n",
       "      <td>1996.0</td>\n",
       "      <td>Role-Playing</td>\n",
       "      <td>11.27</td>\n",
       "      <td>8.89</td>\n",
       "      <td>10.22</td>\n",
       "      <td>1.00</td>\n",
       "      <td>NaN</td>\n",
       "      <td>NaN</td>\n",
       "      <td>NaN</td>\n",
       "    </tr>\n",
       "  </tbody>\n",
       "</table>\n",
       "</div>"
      ],
      "text/plain": [
       "                       name platform  year_of_release         genre  na_sales  \\\n",
       "0                Wii Sports      Wii           2006.0        Sports     41.36   \n",
       "1         Super Mario Bros.      NES           1985.0      Platform     29.08   \n",
       "2            Mario Kart Wii      Wii           2008.0        Racing     15.68   \n",
       "3         Wii Sports Resort      Wii           2009.0        Sports     15.61   \n",
       "4  Pokemon Red/Pokemon Blue       GB           1996.0  Role-Playing     11.27   \n",
       "\n",
       "   eu_sales  jp_sales  other_sales  critic_score user_score rating  \n",
       "0     28.96      3.77         8.45          76.0          8      E  \n",
       "1      3.58      6.81         0.77           NaN        NaN    NaN  \n",
       "2     12.76      3.79         3.29          82.0        8.3      E  \n",
       "3     10.93      3.28         2.95          80.0          8      E  \n",
       "4      8.89     10.22         1.00           NaN        NaN    NaN  "
      ]
     },
     "execution_count": 6,
     "metadata": {},
     "output_type": "execute_result"
    }
   ],
   "source": [
    "# Приводем название столбцов к нижнему регистру\n",
    "df.columns = df.columns.str.lower()\n",
    "df.head()"
   ]
  },
  {
   "cell_type": "markdown",
   "metadata": {},
   "source": [
    "<div class=\"alert alert-success\">\n",
    "<h2> Комментарий ревьюера v2 <a class=\"tocSkip\"> </h2>\n",
    "\n",
    "<b>Все супер!👍:</b> Супер, что верно используешь метод lower()"
   ]
  },
  {
   "cell_type": "markdown",
   "metadata": {},
   "source": [
    "### Обработка пропусков"
   ]
  },
  {
   "cell_type": "code",
   "execution_count": 7,
   "metadata": {},
   "outputs": [
    {
     "data": {
      "text/plain": [
       "name                  2\n",
       "platform              0\n",
       "year_of_release     269\n",
       "genre                 2\n",
       "na_sales              0\n",
       "eu_sales              0\n",
       "jp_sales              0\n",
       "other_sales           0\n",
       "critic_score       8578\n",
       "user_score         6701\n",
       "rating             6766\n",
       "dtype: int64"
      ]
     },
     "execution_count": 7,
     "metadata": {},
     "output_type": "execute_result"
    }
   ],
   "source": [
    "# Оценим количество пропущенных значений в каждом столбце\n",
    "df.isna().sum()"
   ]
  },
  {
   "cell_type": "markdown",
   "metadata": {},
   "source": [
    "#### Столбец name"
   ]
  },
  {
   "cell_type": "code",
   "execution_count": 8,
   "metadata": {},
   "outputs": [
    {
     "data": {
      "text/html": [
       "<div>\n",
       "<style scoped>\n",
       "    .dataframe tbody tr th:only-of-type {\n",
       "        vertical-align: middle;\n",
       "    }\n",
       "\n",
       "    .dataframe tbody tr th {\n",
       "        vertical-align: top;\n",
       "    }\n",
       "\n",
       "    .dataframe thead th {\n",
       "        text-align: right;\n",
       "    }\n",
       "</style>\n",
       "<table border=\"1\" class=\"dataframe\">\n",
       "  <thead>\n",
       "    <tr style=\"text-align: right;\">\n",
       "      <th></th>\n",
       "      <th>name</th>\n",
       "      <th>platform</th>\n",
       "      <th>year_of_release</th>\n",
       "      <th>genre</th>\n",
       "      <th>na_sales</th>\n",
       "      <th>eu_sales</th>\n",
       "      <th>jp_sales</th>\n",
       "      <th>other_sales</th>\n",
       "      <th>critic_score</th>\n",
       "      <th>user_score</th>\n",
       "      <th>rating</th>\n",
       "    </tr>\n",
       "  </thead>\n",
       "  <tbody>\n",
       "    <tr>\n",
       "      <th>659</th>\n",
       "      <td>NaN</td>\n",
       "      <td>GEN</td>\n",
       "      <td>1993.0</td>\n",
       "      <td>NaN</td>\n",
       "      <td>1.78</td>\n",
       "      <td>0.53</td>\n",
       "      <td>0.00</td>\n",
       "      <td>0.08</td>\n",
       "      <td>NaN</td>\n",
       "      <td>NaN</td>\n",
       "      <td>NaN</td>\n",
       "    </tr>\n",
       "    <tr>\n",
       "      <th>14244</th>\n",
       "      <td>NaN</td>\n",
       "      <td>GEN</td>\n",
       "      <td>1993.0</td>\n",
       "      <td>NaN</td>\n",
       "      <td>0.00</td>\n",
       "      <td>0.00</td>\n",
       "      <td>0.03</td>\n",
       "      <td>0.00</td>\n",
       "      <td>NaN</td>\n",
       "      <td>NaN</td>\n",
       "      <td>NaN</td>\n",
       "    </tr>\n",
       "  </tbody>\n",
       "</table>\n",
       "</div>"
      ],
      "text/plain": [
       "      name platform  year_of_release genre  na_sales  eu_sales  jp_sales  \\\n",
       "659    NaN      GEN           1993.0   NaN      1.78      0.53      0.00   \n",
       "14244  NaN      GEN           1993.0   NaN      0.00      0.00      0.03   \n",
       "\n",
       "       other_sales  critic_score user_score rating  \n",
       "659           0.08           NaN        NaN    NaN  \n",
       "14244         0.00           NaN        NaN    NaN  "
      ]
     },
     "execution_count": 8,
     "metadata": {},
     "output_type": "execute_result"
    }
   ],
   "source": [
    "# Значений немного, можем посмотреть на строки с пропущенными значениями\n",
    "df[df['name'].isna()]"
   ]
  },
  {
   "cell_type": "code",
   "execution_count": 9,
   "metadata": {},
   "outputs": [
    {
     "data": {
      "text/plain": [
       "0"
      ]
     },
     "execution_count": 9,
     "metadata": {},
     "output_type": "execute_result"
    }
   ],
   "source": [
    "# Без названия игр, не получится провести полноценный анализ, поэтому отбросим данные строки\n",
    "df.dropna(subset=['name'], inplace = True)\n",
    "df['name'].isna().sum()"
   ]
  },
  {
   "cell_type": "markdown",
   "metadata": {},
   "source": [
    "<div class=\"alert alert-success\">\n",
    "<h2> Комментарий ревьюера v2 <a class=\"tocSkip\"> </h2>\n",
    "\n",
    "<b>Все супер!👍:</b> Окей"
   ]
  },
  {
   "cell_type": "markdown",
   "metadata": {},
   "source": [
    "#### Столбец year_of_release"
   ]
  },
  {
   "cell_type": "code",
   "execution_count": 10,
   "metadata": {},
   "outputs": [
    {
     "data": {
      "text/plain": [
       "count    16444.000000\n",
       "mean      2006.486256\n",
       "std          5.875525\n",
       "min       1980.000000\n",
       "25%       2003.000000\n",
       "50%       2007.000000\n",
       "75%       2010.000000\n",
       "max       2016.000000\n",
       "Name: year_of_release, dtype: float64"
      ]
     },
     "execution_count": 10,
     "metadata": {},
     "output_type": "execute_result"
    }
   ],
   "source": [
    "df['year_of_release'].describe()"
   ]
  },
  {
   "cell_type": "code",
   "execution_count": 11,
   "metadata": {},
   "outputs": [
    {
     "data": {
      "text/plain": [
       "232"
      ]
     },
     "execution_count": 11,
     "metadata": {},
     "output_type": "execute_result"
    }
   ],
   "source": [
    "# Видим что игры выпускались с 1980 по 2016 год\n",
    "# Составим список игр без года выпуска, в дальнейшем попробуем посмотреть, есть ли эти игры под другие платформы \n",
    "games_nan_year = list(df.loc[df['year_of_release'].isna()]['name'].unique())\n",
    "len(games_nan_year)"
   ]
  },
  {
   "cell_type": "code",
   "execution_count": 12,
   "metadata": {},
   "outputs": [
    {
     "data": {
      "text/html": [
       "<div>\n",
       "<style scoped>\n",
       "    .dataframe tbody tr th:only-of-type {\n",
       "        vertical-align: middle;\n",
       "    }\n",
       "\n",
       "    .dataframe tbody tr th {\n",
       "        vertical-align: top;\n",
       "    }\n",
       "\n",
       "    .dataframe thead th {\n",
       "        text-align: right;\n",
       "    }\n",
       "</style>\n",
       "<table border=\"1\" class=\"dataframe\">\n",
       "  <thead>\n",
       "    <tr style=\"text-align: right;\">\n",
       "      <th></th>\n",
       "      <th>name</th>\n",
       "      <th>year_of_release</th>\n",
       "    </tr>\n",
       "  </thead>\n",
       "  <tbody>\n",
       "    <tr>\n",
       "      <th>0</th>\n",
       "      <td>Call of Duty: Black Ops</td>\n",
       "      <td>2010.0</td>\n",
       "    </tr>\n",
       "    <tr>\n",
       "      <th>1</th>\n",
       "      <td>Madden NFL 06</td>\n",
       "      <td>2005.0</td>\n",
       "    </tr>\n",
       "    <tr>\n",
       "      <th>2</th>\n",
       "      <td>Madden NFL 07</td>\n",
       "      <td>2006.0</td>\n",
       "    </tr>\n",
       "    <tr>\n",
       "      <th>3</th>\n",
       "      <td>Sonic the Hedgehog</td>\n",
       "      <td>1991.0</td>\n",
       "    </tr>\n",
       "    <tr>\n",
       "      <th>4</th>\n",
       "      <td>Namco Museum</td>\n",
       "      <td>2001.0</td>\n",
       "    </tr>\n",
       "    <tr>\n",
       "      <th>...</th>\n",
       "      <td>...</td>\n",
       "      <td>...</td>\n",
       "    </tr>\n",
       "    <tr>\n",
       "      <th>94</th>\n",
       "      <td>Majesty 2: The Fantasy Kingdom Sim</td>\n",
       "      <td>2009.0</td>\n",
       "    </tr>\n",
       "    <tr>\n",
       "      <th>95</th>\n",
       "      <td>Star Trek: Legacy</td>\n",
       "      <td>2006.0</td>\n",
       "    </tr>\n",
       "    <tr>\n",
       "      <th>96</th>\n",
       "      <td>Aquaman: Battle for Atlantis</td>\n",
       "      <td>2003.0</td>\n",
       "    </tr>\n",
       "    <tr>\n",
       "      <th>97</th>\n",
       "      <td>Dinotopia: The Sunstone Odyssey</td>\n",
       "      <td>2003.0</td>\n",
       "    </tr>\n",
       "    <tr>\n",
       "      <th>98</th>\n",
       "      <td>Luxor: Pharaoh's Challenge</td>\n",
       "      <td>2007.0</td>\n",
       "    </tr>\n",
       "  </tbody>\n",
       "</table>\n",
       "<p>99 rows × 2 columns</p>\n",
       "</div>"
      ],
      "text/plain": [
       "                                  name  year_of_release\n",
       "0              Call of Duty: Black Ops           2010.0\n",
       "1                        Madden NFL 06           2005.0\n",
       "2                        Madden NFL 07           2006.0\n",
       "3                   Sonic the Hedgehog           1991.0\n",
       "4                         Namco Museum           2001.0\n",
       "..                                 ...              ...\n",
       "94  Majesty 2: The Fantasy Kingdom Sim           2009.0\n",
       "95                   Star Trek: Legacy           2006.0\n",
       "96        Aquaman: Battle for Atlantis           2003.0\n",
       "97     Dinotopia: The Sunstone Odyssey           2003.0\n",
       "98          Luxor: Pharaoh's Challenge           2007.0\n",
       "\n",
       "[99 rows x 2 columns]"
      ]
     },
     "execution_count": 12,
     "metadata": {},
     "output_type": "execute_result"
    }
   ],
   "source": [
    "# Попробуем составить список имен из списка с пропусками и соответствующих годов выпуска\n",
    "game_year = df.filter(['name', 'year_of_release']).query('name in @games_nan_year').dropna(subset=['year_of_release']).drop_duplicates(subset='name').reset_index(drop=True)\n",
    "game_year"
   ]
  },
  {
   "cell_type": "code",
   "execution_count": 13,
   "metadata": {},
   "outputs": [],
   "source": [
    "# Отлично, 99 пропусков мы можем заполнить!\n",
    "for i, row in game_year.iterrows():\n",
    "    df.loc[((df['year_of_release'].isna()) & (df['name'] == row['name'])), 'year_of_release' ] = row['year_of_release']"
   ]
  },
  {
   "cell_type": "code",
   "execution_count": 14,
   "metadata": {},
   "outputs": [
    {
     "data": {
      "text/plain": [
       "146"
      ]
     },
     "execution_count": 14,
     "metadata": {},
     "output_type": "execute_result"
    }
   ],
   "source": [
    "# Проверим значения после заполения\n",
    "df['year_of_release'].isna().sum()"
   ]
  },
  {
   "cell_type": "code",
   "execution_count": 15,
   "metadata": {},
   "outputs": [
    {
     "data": {
      "text/plain": [
       "0"
      ]
     },
     "execution_count": 15,
     "metadata": {},
     "output_type": "execute_result"
    }
   ],
   "source": [
    "# После замены осталось 146 пустых значений, придется их удалить, т.к. игры без года в нашем исследовании недопустимы\n",
    "df = df.dropna(subset=['year_of_release'])\n",
    "df['year_of_release'].isna().sum()"
   ]
  },
  {
   "cell_type": "markdown",
   "metadata": {},
   "source": [
    "<div class=\"alert alert-warning\">\n",
    "    <h2> Комментарий ревьюера v2 <a class=\"tocSkip\"> </h2>\n",
    "    \n",
    "<b>Небольшие замечания и рекомендации💡:</b>Всегда ли год релиза совпадает с названием у игры? "
   ]
  },
  {
   "cell_type": "markdown",
   "metadata": {},
   "source": [
    "#### Столбец critic_score"
   ]
  },
  {
   "cell_type": "code",
   "execution_count": 16,
   "metadata": {},
   "outputs": [
    {
     "data": {
      "text/plain": [
       "8492"
      ]
     },
     "execution_count": 16,
     "metadata": {},
     "output_type": "execute_result"
    }
   ],
   "source": [
    "# Посмотрим на колиичество пропущенных значений в данном столбце\n",
    "df['critic_score'].isna().sum()"
   ]
  },
  {
   "cell_type": "code",
   "execution_count": 17,
   "metadata": {},
   "outputs": [
    {
     "data": {
      "text/plain": [
       "count    8075.000000\n",
       "mean       68.991950\n",
       "std        13.923383\n",
       "min        13.000000\n",
       "25%        60.000000\n",
       "50%        71.000000\n",
       "75%        79.000000\n",
       "max        98.000000\n",
       "Name: critic_score, dtype: float64"
      ]
     },
     "execution_count": 17,
     "metadata": {},
     "output_type": "execute_result"
    }
   ],
   "source": [
    "df['critic_score'].describe()"
   ]
  },
  {
   "cell_type": "markdown",
   "metadata": {},
   "source": [
    "Пропусков очень много, отбросить такой объем мы не можем.\n",
    "На мой взгляд, корректно заполнить значения невозможно, придется оставлять в таком виде"
   ]
  },
  {
   "cell_type": "markdown",
   "metadata": {},
   "source": [
    "<div class=\"alert alert-warning\">\n",
    "    <h2> Комментарий ревьюера v2 <a class=\"tocSkip\"> </h2>\n",
    "    \n",
    "<b>Небольшие замечания и рекомендации💡:</b>Поддерживаю"
   ]
  },
  {
   "cell_type": "markdown",
   "metadata": {},
   "source": [
    "#### Столбец user_score"
   ]
  },
  {
   "cell_type": "code",
   "execution_count": 18,
   "metadata": {},
   "outputs": [
    {
     "data": {
      "text/plain": [
       "count     9934\n",
       "unique      96\n",
       "top        tbd\n",
       "freq      2394\n",
       "Name: user_score, dtype: object"
      ]
     },
     "execution_count": 18,
     "metadata": {},
     "output_type": "execute_result"
    }
   ],
   "source": [
    "df['user_score'].describe()"
   ]
  },
  {
   "cell_type": "code",
   "execution_count": 19,
   "metadata": {},
   "outputs": [
    {
     "data": {
      "text/plain": [
       "6633"
      ]
     },
     "execution_count": 19,
     "metadata": {},
     "output_type": "execute_result"
    }
   ],
   "source": [
    "df['user_score'].isna().sum()"
   ]
  },
  {
   "cell_type": "markdown",
   "metadata": {},
   "source": [
    "С пропусками ситуация, аналогичная critic_score\n",
    "Разберемся со значением tbd"
   ]
  },
  {
   "cell_type": "code",
   "execution_count": 20,
   "metadata": {},
   "outputs": [
    {
     "data": {
      "text/html": [
       "<div>\n",
       "<style scoped>\n",
       "    .dataframe tbody tr th:only-of-type {\n",
       "        vertical-align: middle;\n",
       "    }\n",
       "\n",
       "    .dataframe tbody tr th {\n",
       "        vertical-align: top;\n",
       "    }\n",
       "\n",
       "    .dataframe thead th {\n",
       "        text-align: right;\n",
       "    }\n",
       "</style>\n",
       "<table border=\"1\" class=\"dataframe\">\n",
       "  <thead>\n",
       "    <tr style=\"text-align: right;\">\n",
       "      <th></th>\n",
       "      <th>name</th>\n",
       "      <th>platform</th>\n",
       "      <th>year_of_release</th>\n",
       "      <th>genre</th>\n",
       "      <th>na_sales</th>\n",
       "      <th>eu_sales</th>\n",
       "      <th>jp_sales</th>\n",
       "      <th>other_sales</th>\n",
       "      <th>critic_score</th>\n",
       "      <th>user_score</th>\n",
       "      <th>rating</th>\n",
       "    </tr>\n",
       "  </thead>\n",
       "  <tbody>\n",
       "    <tr>\n",
       "      <th>119</th>\n",
       "      <td>Zumba Fitness</td>\n",
       "      <td>Wii</td>\n",
       "      <td>2010.0</td>\n",
       "      <td>Sports</td>\n",
       "      <td>3.45</td>\n",
       "      <td>2.59</td>\n",
       "      <td>0.0</td>\n",
       "      <td>0.66</td>\n",
       "      <td>NaN</td>\n",
       "      <td>tbd</td>\n",
       "      <td>E</td>\n",
       "    </tr>\n",
       "    <tr>\n",
       "      <th>301</th>\n",
       "      <td>Namco Museum: 50th Anniversary</td>\n",
       "      <td>PS2</td>\n",
       "      <td>2005.0</td>\n",
       "      <td>Misc</td>\n",
       "      <td>2.08</td>\n",
       "      <td>1.35</td>\n",
       "      <td>0.0</td>\n",
       "      <td>0.54</td>\n",
       "      <td>61.0</td>\n",
       "      <td>tbd</td>\n",
       "      <td>E10+</td>\n",
       "    </tr>\n",
       "    <tr>\n",
       "      <th>520</th>\n",
       "      <td>Zumba Fitness 2</td>\n",
       "      <td>Wii</td>\n",
       "      <td>2011.0</td>\n",
       "      <td>Sports</td>\n",
       "      <td>1.51</td>\n",
       "      <td>1.03</td>\n",
       "      <td>0.0</td>\n",
       "      <td>0.27</td>\n",
       "      <td>NaN</td>\n",
       "      <td>tbd</td>\n",
       "      <td>T</td>\n",
       "    </tr>\n",
       "    <tr>\n",
       "      <th>645</th>\n",
       "      <td>uDraw Studio</td>\n",
       "      <td>Wii</td>\n",
       "      <td>2010.0</td>\n",
       "      <td>Misc</td>\n",
       "      <td>1.65</td>\n",
       "      <td>0.57</td>\n",
       "      <td>0.0</td>\n",
       "      <td>0.20</td>\n",
       "      <td>71.0</td>\n",
       "      <td>tbd</td>\n",
       "      <td>E</td>\n",
       "    </tr>\n",
       "    <tr>\n",
       "      <th>718</th>\n",
       "      <td>Just Dance Kids</td>\n",
       "      <td>Wii</td>\n",
       "      <td>2010.0</td>\n",
       "      <td>Misc</td>\n",
       "      <td>1.52</td>\n",
       "      <td>0.54</td>\n",
       "      <td>0.0</td>\n",
       "      <td>0.18</td>\n",
       "      <td>NaN</td>\n",
       "      <td>tbd</td>\n",
       "      <td>E</td>\n",
       "    </tr>\n",
       "  </tbody>\n",
       "</table>\n",
       "</div>"
      ],
      "text/plain": [
       "                               name platform  year_of_release   genre  \\\n",
       "119                   Zumba Fitness      Wii           2010.0  Sports   \n",
       "301  Namco Museum: 50th Anniversary      PS2           2005.0    Misc   \n",
       "520                 Zumba Fitness 2      Wii           2011.0  Sports   \n",
       "645                    uDraw Studio      Wii           2010.0    Misc   \n",
       "718                 Just Dance Kids      Wii           2010.0    Misc   \n",
       "\n",
       "     na_sales  eu_sales  jp_sales  other_sales  critic_score user_score rating  \n",
       "119      3.45      2.59       0.0         0.66           NaN        tbd      E  \n",
       "301      2.08      1.35       0.0         0.54          61.0        tbd   E10+  \n",
       "520      1.51      1.03       0.0         0.27           NaN        tbd      T  \n",
       "645      1.65      0.57       0.0         0.20          71.0        tbd      E  \n",
       "718      1.52      0.54       0.0         0.18           NaN        tbd      E  "
      ]
     },
     "execution_count": 20,
     "metadata": {},
     "output_type": "execute_result"
    }
   ],
   "source": [
    "df[df['user_score']=='tbd'].head()"
   ]
  },
  {
   "cell_type": "code",
   "execution_count": 21,
   "metadata": {},
   "outputs": [],
   "source": [
    "# Аббревиатура TBD означает to be determined, подлежит уточнению, т.е эти данные можно заменить на NaN\n",
    "df.loc[df['user_score']=='tbd', 'user_score'] = np.nan"
   ]
  },
  {
   "cell_type": "markdown",
   "metadata": {},
   "source": [
    "<div class=\"alert alert-warning\">\n",
    "    <h2> Комментарий ревьюера v2 <a class=\"tocSkip\"> </h2>\n",
    "    \n",
    "<b>Небольшие замечания и рекомендации💡:</b> Окей)"
   ]
  },
  {
   "cell_type": "markdown",
   "metadata": {},
   "source": [
    "#### Столбец rating"
   ]
  },
  {
   "cell_type": "code",
   "execution_count": 22,
   "metadata": {},
   "outputs": [
    {
     "data": {
      "text/plain": [
       "6699"
      ]
     },
     "execution_count": 22,
     "metadata": {},
     "output_type": "execute_result"
    }
   ],
   "source": [
    "df['rating'].isna().sum()"
   ]
  },
  {
   "cell_type": "code",
   "execution_count": 23,
   "metadata": {},
   "outputs": [
    {
     "data": {
      "text/plain": [
       "count     9868\n",
       "unique       8\n",
       "top          E\n",
       "freq      3958\n",
       "Name: rating, dtype: object"
      ]
     },
     "execution_count": 23,
     "metadata": {},
     "output_type": "execute_result"
    }
   ],
   "source": [
    "df['rating'].describe()"
   ]
  },
  {
   "cell_type": "code",
   "execution_count": 24,
   "metadata": {},
   "outputs": [],
   "source": [
    "# Видим множество пропусков. Можем поступить аналогично столбцу с годом выпуска\n",
    "non_rating_names = list(df.loc[df['rating'].isna()]['name'].unique())"
   ]
  },
  {
   "cell_type": "code",
   "execution_count": 25,
   "metadata": {},
   "outputs": [],
   "source": [
    "name_rating = df.filter(['name', 'rating']).query('name in @non_rating_names').dropna(subset=['rating']).drop_duplicates(subset='name').reset_index(drop=True)"
   ]
  },
  {
   "cell_type": "code",
   "execution_count": 26,
   "metadata": {},
   "outputs": [
    {
     "data": {
      "text/html": [
       "<div>\n",
       "<style scoped>\n",
       "    .dataframe tbody tr th:only-of-type {\n",
       "        vertical-align: middle;\n",
       "    }\n",
       "\n",
       "    .dataframe tbody tr th {\n",
       "        vertical-align: top;\n",
       "    }\n",
       "\n",
       "    .dataframe thead th {\n",
       "        text-align: right;\n",
       "    }\n",
       "</style>\n",
       "<table border=\"1\" class=\"dataframe\">\n",
       "  <thead>\n",
       "    <tr style=\"text-align: right;\">\n",
       "      <th></th>\n",
       "      <th>name</th>\n",
       "      <th>rating</th>\n",
       "    </tr>\n",
       "  </thead>\n",
       "  <tbody>\n",
       "    <tr>\n",
       "      <th>0</th>\n",
       "      <td>Call of Duty: Ghosts</td>\n",
       "      <td>M</td>\n",
       "    </tr>\n",
       "    <tr>\n",
       "      <th>1</th>\n",
       "      <td>The Elder Scrolls V: Skyrim</td>\n",
       "      <td>M</td>\n",
       "    </tr>\n",
       "    <tr>\n",
       "      <th>2</th>\n",
       "      <td>Need for Speed Underground 2</td>\n",
       "      <td>E</td>\n",
       "    </tr>\n",
       "    <tr>\n",
       "      <th>3</th>\n",
       "      <td>FIFA 14</td>\n",
       "      <td>E</td>\n",
       "    </tr>\n",
       "    <tr>\n",
       "      <th>4</th>\n",
       "      <td>Donkey Kong Country Returns</td>\n",
       "      <td>E</td>\n",
       "    </tr>\n",
       "    <tr>\n",
       "      <th>...</th>\n",
       "      <td>...</td>\n",
       "      <td>...</td>\n",
       "    </tr>\n",
       "    <tr>\n",
       "      <th>354</th>\n",
       "      <td>Puyo Pop Fever</td>\n",
       "      <td>E</td>\n",
       "    </tr>\n",
       "    <tr>\n",
       "      <th>355</th>\n",
       "      <td>The Book of Unwritten Tales 2</td>\n",
       "      <td>T</td>\n",
       "    </tr>\n",
       "    <tr>\n",
       "      <th>356</th>\n",
       "      <td>Satisfashion</td>\n",
       "      <td>E</td>\n",
       "    </tr>\n",
       "    <tr>\n",
       "      <th>357</th>\n",
       "      <td>Banjo-Kazooie</td>\n",
       "      <td>E</td>\n",
       "    </tr>\n",
       "    <tr>\n",
       "      <th>358</th>\n",
       "      <td>Metal Gear Solid HD Edition</td>\n",
       "      <td>M</td>\n",
       "    </tr>\n",
       "  </tbody>\n",
       "</table>\n",
       "<p>359 rows × 2 columns</p>\n",
       "</div>"
      ],
      "text/plain": [
       "                              name rating\n",
       "0             Call of Duty: Ghosts      M\n",
       "1      The Elder Scrolls V: Skyrim      M\n",
       "2     Need for Speed Underground 2      E\n",
       "3                          FIFA 14      E\n",
       "4      Donkey Kong Country Returns      E\n",
       "..                             ...    ...\n",
       "354                 Puyo Pop Fever      E\n",
       "355  The Book of Unwritten Tales 2      T\n",
       "356                   Satisfashion      E\n",
       "357                  Banjo-Kazooie      E\n",
       "358    Metal Gear Solid HD Edition      M\n",
       "\n",
       "[359 rows x 2 columns]"
      ]
     },
     "execution_count": 26,
     "metadata": {},
     "output_type": "execute_result"
    }
   ],
   "source": [
    "name_rating"
   ]
  },
  {
   "cell_type": "code",
   "execution_count": 27,
   "metadata": {},
   "outputs": [],
   "source": [
    "# Не густо, но 359 строк мы можем заполнить\n",
    "for i, row in name_rating.iterrows():\n",
    "    df.loc[((df['rating'].isna()) & (df['name'] == row['name'])), 'rating' ] = row['rating']"
   ]
  },
  {
   "cell_type": "code",
   "execution_count": 28,
   "metadata": {},
   "outputs": [
    {
     "data": {
      "text/plain": [
       "6262"
      ]
     },
     "execution_count": 28,
     "metadata": {},
     "output_type": "execute_result"
    }
   ],
   "source": [
    "df['rating'].isna().sum()"
   ]
  },
  {
   "cell_type": "code",
   "execution_count": 29,
   "metadata": {},
   "outputs": [
    {
     "data": {
      "text/plain": [
       "E       4119\n",
       "T       3063\n",
       "M       1644\n",
       "E10+    1462\n",
       "EC        10\n",
       "K-A        4\n",
       "RP         2\n",
       "AO         1\n",
       "Name: rating, dtype: int64"
      ]
     },
     "execution_count": 29,
     "metadata": {},
     "output_type": "execute_result"
    }
   ],
   "source": [
    "# Все что могли мы заполнили. Теперь посмотрим сами значения\n",
    "df['rating'].value_counts()"
   ]
  },
  {
   "cell_type": "markdown",
   "metadata": {},
   "source": [
    "Для справки:\n",
    "Рейтинг ESRB:\n",
    "\n",
    "* E - Everyone\n",
    "* M - Mature\n",
    "* T - Teen\n",
    "* E10+ - Everyone 10+\n",
    "* K-A - Everyone\n",
    "* AO - Adults Only 18+\n",
    "* EC - Early Childhood\n",
    "* RP - Rating Pending\n",
    "То есть E и K-A означают одно и то же. Первое обозначение использовалось до 1998 года, второе после, но смысл один. Поправим."
   ]
  },
  {
   "cell_type": "code",
   "execution_count": 30,
   "metadata": {},
   "outputs": [],
   "source": [
    "# Заменим рейтинг K-A на E\n",
    "df['rating'] = df['rating'].replace('K-A', 'E')"
   ]
  },
  {
   "cell_type": "code",
   "execution_count": 31,
   "metadata": {},
   "outputs": [
    {
     "data": {
      "text/plain": [
       "None    6264\n",
       "E       4123\n",
       "T       3063\n",
       "M       1644\n",
       "E10+    1462\n",
       "EC        10\n",
       "AO         1\n",
       "Name: rating, dtype: int64"
      ]
     },
     "execution_count": 31,
     "metadata": {},
     "output_type": "execute_result"
    }
   ],
   "source": [
    "# RP заменим на None, как и пропуски\n",
    "df['rating'] = df['rating'].replace('RP', 'None')\n",
    "df['rating'] = df['rating'].replace(np.nan, 'None')\n",
    "df['rating'].value_counts()"
   ]
  },
  {
   "cell_type": "code",
   "execution_count": 32,
   "metadata": {},
   "outputs": [
    {
     "data": {
      "text/plain": [
       "None    6264\n",
       "E       4123\n",
       "T       3063\n",
       "M       1644\n",
       "E10+    1462\n",
       "Name: rating, dtype: int64"
      ]
     },
     "execution_count": 32,
     "metadata": {},
     "output_type": "execute_result"
    }
   ],
   "source": [
    "# значения ЕС и АО удалим как выбросы\n",
    "df['rating'] = df['rating'].replace('EC', np.nan)\n",
    "df['rating'] = df['rating'].replace('AO', np.nan)\n",
    "df.dropna(subset=['name'], inplace=True)\n",
    "df['rating'].value_counts()"
   ]
  },
  {
   "cell_type": "code",
   "execution_count": 33,
   "metadata": {
    "scrolled": true
   },
   "outputs": [
    {
     "data": {
      "text/plain": [
       "user_score         9027\n",
       "critic_score       8492\n",
       "rating               11\n",
       "name                  0\n",
       "platform              0\n",
       "year_of_release       0\n",
       "genre                 0\n",
       "na_sales              0\n",
       "eu_sales              0\n",
       "jp_sales              0\n",
       "other_sales           0\n",
       "dtype: int64"
      ]
     },
     "execution_count": 33,
     "metadata": {},
     "output_type": "execute_result"
    }
   ],
   "source": [
    "df.isna().sum().sort_values(ascending = False)"
   ]
  },
  {
   "cell_type": "markdown",
   "metadata": {},
   "source": [
    "Остальные данные можно не трогать т.к ESRB это рейтинговая система для США\\Канады. И для издателей игр для локального рынка (особенно для специфичного азиатского) нет никакого смысла от данного рейтинга"
   ]
  },
  {
   "cell_type": "markdown",
   "metadata": {},
   "source": [
    "<div class=\"alert alert-warning\">\n",
    "    <h2> Комментарий ревьюера v2 <a class=\"tocSkip\"> </h2>\n",
    "    \n",
    "<b>Небольшие замечания и рекомендации💡:</b> Ты проделал большую работу по восстановлению пропусков. Но иногда пропуск сам по себе является ценной информацией. Для каких стран создавалась система ESRB? Будут ли стараться авторы игр для локального рынка других стран получить рейтинг ESRB?"
   ]
  },
  {
   "cell_type": "markdown",
   "metadata": {},
   "source": [
    "<div class=\"alert alert-info\">\n",
    "<b>Добавлено небольшое отступление о рейтинговой системе</b> \n",
    "</div>"
   ]
  },
  {
   "cell_type": "markdown",
   "metadata": {},
   "source": [
    "### Проверка на дубликаты"
   ]
  },
  {
   "cell_type": "code",
   "execution_count": 34,
   "metadata": {},
   "outputs": [
    {
     "data": {
      "text/plain": [
       "1"
      ]
     },
     "execution_count": 34,
     "metadata": {},
     "output_type": "execute_result"
    }
   ],
   "source": [
    "# После всех проведенных работ, посмотрим, есть ли дубликаты:\n",
    "df.duplicated(['name', 'platform', 'year_of_release']).sum()"
   ]
  },
  {
   "cell_type": "code",
   "execution_count": 35,
   "metadata": {},
   "outputs": [
    {
     "data": {
      "text/html": [
       "<div>\n",
       "<style scoped>\n",
       "    .dataframe tbody tr th:only-of-type {\n",
       "        vertical-align: middle;\n",
       "    }\n",
       "\n",
       "    .dataframe tbody tr th {\n",
       "        vertical-align: top;\n",
       "    }\n",
       "\n",
       "    .dataframe thead th {\n",
       "        text-align: right;\n",
       "    }\n",
       "</style>\n",
       "<table border=\"1\" class=\"dataframe\">\n",
       "  <thead>\n",
       "    <tr style=\"text-align: right;\">\n",
       "      <th></th>\n",
       "      <th>name</th>\n",
       "      <th>platform</th>\n",
       "      <th>year_of_release</th>\n",
       "      <th>genre</th>\n",
       "      <th>na_sales</th>\n",
       "      <th>eu_sales</th>\n",
       "      <th>jp_sales</th>\n",
       "      <th>other_sales</th>\n",
       "      <th>critic_score</th>\n",
       "      <th>user_score</th>\n",
       "      <th>rating</th>\n",
       "    </tr>\n",
       "  </thead>\n",
       "  <tbody>\n",
       "    <tr>\n",
       "      <th>16230</th>\n",
       "      <td>Madden NFL 13</td>\n",
       "      <td>PS3</td>\n",
       "      <td>2012.0</td>\n",
       "      <td>Sports</td>\n",
       "      <td>0.0</td>\n",
       "      <td>0.01</td>\n",
       "      <td>0.0</td>\n",
       "      <td>0.0</td>\n",
       "      <td>83.0</td>\n",
       "      <td>5.5</td>\n",
       "      <td>E</td>\n",
       "    </tr>\n",
       "  </tbody>\n",
       "</table>\n",
       "</div>"
      ],
      "text/plain": [
       "                name platform  year_of_release   genre  na_sales  eu_sales  \\\n",
       "16230  Madden NFL 13      PS3           2012.0  Sports       0.0      0.01   \n",
       "\n",
       "       jp_sales  other_sales  critic_score user_score rating  \n",
       "16230       0.0          0.0          83.0        5.5      E  "
      ]
     },
     "execution_count": 35,
     "metadata": {},
     "output_type": "execute_result"
    }
   ],
   "source": [
    "# Один все же нашелся, посмотрим на него\n",
    "df[df.duplicated(['name', 'platform', 'year_of_release'])]"
   ]
  },
  {
   "cell_type": "code",
   "execution_count": 36,
   "metadata": {},
   "outputs": [],
   "source": [
    "# Он мало на что повлияет, но для чистоты результатов удалим его\n",
    "df.drop_duplicates(subset=['name', 'platform', 'year_of_release', ], inplace=True)"
   ]
  },
  {
   "cell_type": "markdown",
   "metadata": {},
   "source": [
    "<div class=\"alert alert-warning\">\n",
    "    <h2> Комментарий ревьюера v2 <a class=\"tocSkip\"> </h2>\n",
    "    \n",
    "<b>Небольшие замечания и рекомендации💡:</b> Можно было еще проверить явные дуликаты) "
   ]
  },
  {
   "cell_type": "markdown",
   "metadata": {},
   "source": [
    "### Подсчитаем сумму всех продаж"
   ]
  },
  {
   "cell_type": "code",
   "execution_count": 37,
   "metadata": {
    "scrolled": true
   },
   "outputs": [
    {
     "data": {
      "text/html": [
       "<div>\n",
       "<style scoped>\n",
       "    .dataframe tbody tr th:only-of-type {\n",
       "        vertical-align: middle;\n",
       "    }\n",
       "\n",
       "    .dataframe tbody tr th {\n",
       "        vertical-align: top;\n",
       "    }\n",
       "\n",
       "    .dataframe thead th {\n",
       "        text-align: right;\n",
       "    }\n",
       "</style>\n",
       "<table border=\"1\" class=\"dataframe\">\n",
       "  <thead>\n",
       "    <tr style=\"text-align: right;\">\n",
       "      <th></th>\n",
       "      <th>name</th>\n",
       "      <th>platform</th>\n",
       "      <th>year_of_release</th>\n",
       "      <th>genre</th>\n",
       "      <th>na_sales</th>\n",
       "      <th>eu_sales</th>\n",
       "      <th>jp_sales</th>\n",
       "      <th>other_sales</th>\n",
       "      <th>critic_score</th>\n",
       "      <th>user_score</th>\n",
       "      <th>rating</th>\n",
       "      <th>total_sales</th>\n",
       "    </tr>\n",
       "  </thead>\n",
       "  <tbody>\n",
       "    <tr>\n",
       "      <th>0</th>\n",
       "      <td>Wii Sports</td>\n",
       "      <td>Wii</td>\n",
       "      <td>2006.0</td>\n",
       "      <td>Sports</td>\n",
       "      <td>41.36</td>\n",
       "      <td>28.96</td>\n",
       "      <td>3.77</td>\n",
       "      <td>8.45</td>\n",
       "      <td>76.0</td>\n",
       "      <td>8</td>\n",
       "      <td>E</td>\n",
       "      <td>82.54</td>\n",
       "    </tr>\n",
       "    <tr>\n",
       "      <th>1</th>\n",
       "      <td>Super Mario Bros.</td>\n",
       "      <td>NES</td>\n",
       "      <td>1985.0</td>\n",
       "      <td>Platform</td>\n",
       "      <td>29.08</td>\n",
       "      <td>3.58</td>\n",
       "      <td>6.81</td>\n",
       "      <td>0.77</td>\n",
       "      <td>NaN</td>\n",
       "      <td>NaN</td>\n",
       "      <td>None</td>\n",
       "      <td>40.24</td>\n",
       "    </tr>\n",
       "    <tr>\n",
       "      <th>2</th>\n",
       "      <td>Mario Kart Wii</td>\n",
       "      <td>Wii</td>\n",
       "      <td>2008.0</td>\n",
       "      <td>Racing</td>\n",
       "      <td>15.68</td>\n",
       "      <td>12.76</td>\n",
       "      <td>3.79</td>\n",
       "      <td>3.29</td>\n",
       "      <td>82.0</td>\n",
       "      <td>8.3</td>\n",
       "      <td>E</td>\n",
       "      <td>35.52</td>\n",
       "    </tr>\n",
       "    <tr>\n",
       "      <th>3</th>\n",
       "      <td>Wii Sports Resort</td>\n",
       "      <td>Wii</td>\n",
       "      <td>2009.0</td>\n",
       "      <td>Sports</td>\n",
       "      <td>15.61</td>\n",
       "      <td>10.93</td>\n",
       "      <td>3.28</td>\n",
       "      <td>2.95</td>\n",
       "      <td>80.0</td>\n",
       "      <td>8</td>\n",
       "      <td>E</td>\n",
       "      <td>32.77</td>\n",
       "    </tr>\n",
       "    <tr>\n",
       "      <th>4</th>\n",
       "      <td>Pokemon Red/Pokemon Blue</td>\n",
       "      <td>GB</td>\n",
       "      <td>1996.0</td>\n",
       "      <td>Role-Playing</td>\n",
       "      <td>11.27</td>\n",
       "      <td>8.89</td>\n",
       "      <td>10.22</td>\n",
       "      <td>1.00</td>\n",
       "      <td>NaN</td>\n",
       "      <td>NaN</td>\n",
       "      <td>None</td>\n",
       "      <td>31.38</td>\n",
       "    </tr>\n",
       "  </tbody>\n",
       "</table>\n",
       "</div>"
      ],
      "text/plain": [
       "                       name platform  year_of_release         genre  na_sales  \\\n",
       "0                Wii Sports      Wii           2006.0        Sports     41.36   \n",
       "1         Super Mario Bros.      NES           1985.0      Platform     29.08   \n",
       "2            Mario Kart Wii      Wii           2008.0        Racing     15.68   \n",
       "3         Wii Sports Resort      Wii           2009.0        Sports     15.61   \n",
       "4  Pokemon Red/Pokemon Blue       GB           1996.0  Role-Playing     11.27   \n",
       "\n",
       "   eu_sales  jp_sales  other_sales  critic_score user_score rating  \\\n",
       "0     28.96      3.77         8.45          76.0          8      E   \n",
       "1      3.58      6.81         0.77           NaN        NaN   None   \n",
       "2     12.76      3.79         3.29          82.0        8.3      E   \n",
       "3     10.93      3.28         2.95          80.0          8      E   \n",
       "4      8.89     10.22         1.00           NaN        NaN   None   \n",
       "\n",
       "   total_sales  \n",
       "0        82.54  \n",
       "1        40.24  \n",
       "2        35.52  \n",
       "3        32.77  \n",
       "4        31.38  "
      ]
     },
     "execution_count": 37,
     "metadata": {},
     "output_type": "execute_result"
    }
   ],
   "source": [
    "df['total_sales'] = df['na_sales'] + df['eu_sales'] + df['jp_sales'] + df['other_sales']\n",
    "df.head()"
   ]
  },
  {
   "cell_type": "markdown",
   "metadata": {},
   "source": [
    "<div class=\"alert alert-success\">\n",
    "<h2> Комментарий ревьюера v2 <a class=\"tocSkip\"> </h2>\n",
    "\n",
    "<b>Все супер!👍:</b> Столбец добавлен верно, но для подсчета суммарных продаж рекомендую использовать следующую конструкцию \n",
    "    \n",
    "    \n",
    "    games[['na_sales','eu_sales','jp_sales', 'other_sales']].sum(axis = 1)"
   ]
  },
  {
   "cell_type": "markdown",
   "metadata": {},
   "source": [
    "### Изменение типов данных"
   ]
  },
  {
   "cell_type": "code",
   "execution_count": 38,
   "metadata": {},
   "outputs": [
    {
     "name": "stdout",
     "output_type": "stream",
     "text": [
      "<class 'pandas.core.frame.DataFrame'>\n",
      "Int64Index: 16566 entries, 0 to 16714\n",
      "Data columns (total 12 columns):\n",
      " #   Column           Non-Null Count  Dtype  \n",
      "---  ------           --------------  -----  \n",
      " 0   name             16566 non-null  object \n",
      " 1   platform         16566 non-null  object \n",
      " 2   year_of_release  16566 non-null  float64\n",
      " 3   genre            16566 non-null  object \n",
      " 4   na_sales         16566 non-null  float64\n",
      " 5   eu_sales         16566 non-null  float64\n",
      " 6   jp_sales         16566 non-null  float64\n",
      " 7   other_sales      16566 non-null  float64\n",
      " 8   critic_score     8074 non-null   float64\n",
      " 9   user_score       7539 non-null   object \n",
      " 10  rating           16555 non-null  object \n",
      " 11  total_sales      16566 non-null  float64\n",
      "dtypes: float64(7), object(5)\n",
      "memory usage: 1.6+ MB\n"
     ]
    }
   ],
   "source": [
    "# Посмотрим на наш датафрейм\n",
    "df. info()"
   ]
  },
  {
   "cell_type": "markdown",
   "metadata": {},
   "source": [
    "* year_of_release - должен быть Int, т.к год может быть только целым числом\n",
    "* critic_score - для удобства приведет к 10 бальной шкале, и изменим тип на Float\n",
    "* user_score  - изменим тип на Float"
   ]
  },
  {
   "cell_type": "code",
   "execution_count": 39,
   "metadata": {},
   "outputs": [],
   "source": [
    "df['year_of_release'] = df['year_of_release'].astype(int)"
   ]
  },
  {
   "cell_type": "code",
   "execution_count": 40,
   "metadata": {},
   "outputs": [],
   "source": [
    "df['critic_score'] = (df['critic_score']/10).astype(float)"
   ]
  },
  {
   "cell_type": "code",
   "execution_count": 41,
   "metadata": {},
   "outputs": [],
   "source": [
    "df['user_score'] = df['user_score'].astype(float)"
   ]
  },
  {
   "cell_type": "code",
   "execution_count": 42,
   "metadata": {
    "scrolled": true
   },
   "outputs": [
    {
     "name": "stdout",
     "output_type": "stream",
     "text": [
      "<class 'pandas.core.frame.DataFrame'>\n",
      "Int64Index: 16566 entries, 0 to 16714\n",
      "Data columns (total 12 columns):\n",
      " #   Column           Non-Null Count  Dtype  \n",
      "---  ------           --------------  -----  \n",
      " 0   name             16566 non-null  object \n",
      " 1   platform         16566 non-null  object \n",
      " 2   year_of_release  16566 non-null  int64  \n",
      " 3   genre            16566 non-null  object \n",
      " 4   na_sales         16566 non-null  float64\n",
      " 5   eu_sales         16566 non-null  float64\n",
      " 6   jp_sales         16566 non-null  float64\n",
      " 7   other_sales      16566 non-null  float64\n",
      " 8   critic_score     8074 non-null   float64\n",
      " 9   user_score       7539 non-null   float64\n",
      " 10  rating           16555 non-null  object \n",
      " 11  total_sales      16566 non-null  float64\n",
      "dtypes: float64(7), int64(1), object(4)\n",
      "memory usage: 1.6+ MB\n"
     ]
    }
   ],
   "source": [
    "df. info()"
   ]
  },
  {
   "cell_type": "markdown",
   "metadata": {},
   "source": [
    "<div class=\"alert alert-success\">\n",
    "<h2> Комментарий ревьюера v2 <a class=\"tocSkip\"> </h2>\n",
    "\n",
    "<b>Все супер!👍:</b> Типы данных привели верно)"
   ]
  },
  {
   "cell_type": "markdown",
   "metadata": {},
   "source": [
    "## Исследовательский анализ данных"
   ]
  },
  {
   "cell_type": "markdown",
   "metadata": {},
   "source": [
    "### Количество игр в разные годы"
   ]
  },
  {
   "cell_type": "code",
   "execution_count": 43,
   "metadata": {},
   "outputs": [],
   "source": [
    "#Посмотрим, сколько игр выпускалось в разные годы.\n",
    "df_year = df.pivot_table(\n",
    "    index='year_of_release', \n",
    "    values='name', \n",
    "    aggfunc=['count'])\\\n",
    "    .droplevel(1, axis=1).reset_index()"
   ]
  },
  {
   "cell_type": "code",
   "execution_count": 44,
   "metadata": {},
   "outputs": [
    {
     "data": {
      "image/png": "[encoded data removed]",
      "text/plain": [
       "<Figure size 1080x360 with 1 Axes>"
      ]
     },
     "metadata": {
      "needs_background": "light"
     },
     "output_type": "display_data"
    }
   ],
   "source": [
    "df_year.plot.line(x='year_of_release', y='count',grid=True, figsize=(15,5))\n",
    "plt.title('График зависимости числа выпущенных игр от года')\n",
    "plt.xlabel('Год')\n",
    "plt.ylabel('Количество')\n",
    "plt.show()"
   ]
  },
  {
   "cell_type": "markdown",
   "metadata": {},
   "source": [
    "* В 80-е годы число выпущенных игр было примерно одинаковым, видимо, скорее всего связано с небольшим выбором платформ и только зарождающимся направлением\n",
    "* В 90-е наблюдается активный подъем, связанный с ростом числа устройств\n",
    "* В 2000-е рынок активно растет, с небольшим разрывом после 2002, но потом рост восстанавливается\n",
    "* После 2008-2009 годов начался резкий спад, вероятно, связанный с Мировым экономическим кризисом, но после 2013 постепенно вышел на своего рода плато"
   ]
  },
  {
   "cell_type": "markdown",
   "metadata": {},
   "source": [
    "<div class=\"alert alert-success\">\n",
    "<h2> Комментарий ревьюера v2 <a class=\"tocSkip\"> </h2>\n",
    "\n",
    "<b>Все супер!👍:</b> Супер, объяснили поведение данного графика)"
   ]
  },
  {
   "cell_type": "markdown",
   "metadata": {},
   "source": [
    "### Изменение продаж по платформам"
   ]
  },
  {
   "cell_type": "code",
   "execution_count": 45,
   "metadata": {},
   "outputs": [
    {
     "data": {
      "text/html": [
       "<div>\n",
       "<style scoped>\n",
       "    .dataframe tbody tr th:only-of-type {\n",
       "        vertical-align: middle;\n",
       "    }\n",
       "\n",
       "    .dataframe tbody tr th {\n",
       "        vertical-align: top;\n",
       "    }\n",
       "\n",
       "    .dataframe thead th {\n",
       "        text-align: right;\n",
       "    }\n",
       "</style>\n",
       "<table border=\"1\" class=\"dataframe\">\n",
       "  <thead>\n",
       "    <tr style=\"text-align: right;\">\n",
       "      <th>platform</th>\n",
       "      <th>2600</th>\n",
       "      <th>3DO</th>\n",
       "      <th>3DS</th>\n",
       "      <th>DC</th>\n",
       "      <th>DS</th>\n",
       "      <th>GB</th>\n",
       "      <th>GBA</th>\n",
       "      <th>GC</th>\n",
       "      <th>GEN</th>\n",
       "      <th>GG</th>\n",
       "      <th>...</th>\n",
       "      <th>SAT</th>\n",
       "      <th>SCD</th>\n",
       "      <th>SNES</th>\n",
       "      <th>TG16</th>\n",
       "      <th>WS</th>\n",
       "      <th>Wii</th>\n",
       "      <th>WiiU</th>\n",
       "      <th>X360</th>\n",
       "      <th>XB</th>\n",
       "      <th>XOne</th>\n",
       "    </tr>\n",
       "    <tr>\n",
       "      <th>year_of_release</th>\n",
       "      <th></th>\n",
       "      <th></th>\n",
       "      <th></th>\n",
       "      <th></th>\n",
       "      <th></th>\n",
       "      <th></th>\n",
       "      <th></th>\n",
       "      <th></th>\n",
       "      <th></th>\n",
       "      <th></th>\n",
       "      <th></th>\n",
       "      <th></th>\n",
       "      <th></th>\n",
       "      <th></th>\n",
       "      <th></th>\n",
       "      <th></th>\n",
       "      <th></th>\n",
       "      <th></th>\n",
       "      <th></th>\n",
       "      <th></th>\n",
       "      <th></th>\n",
       "    </tr>\n",
       "  </thead>\n",
       "  <tbody>\n",
       "    <tr>\n",
       "      <th>2012</th>\n",
       "      <td>NaN</td>\n",
       "      <td>NaN</td>\n",
       "      <td>51.76</td>\n",
       "      <td>NaN</td>\n",
       "      <td>11.67</td>\n",
       "      <td>NaN</td>\n",
       "      <td>NaN</td>\n",
       "      <td>NaN</td>\n",
       "      <td>NaN</td>\n",
       "      <td>NaN</td>\n",
       "      <td>...</td>\n",
       "      <td>NaN</td>\n",
       "      <td>NaN</td>\n",
       "      <td>NaN</td>\n",
       "      <td>NaN</td>\n",
       "      <td>NaN</td>\n",
       "      <td>22.94</td>\n",
       "      <td>17.56</td>\n",
       "      <td>100.72</td>\n",
       "      <td>NaN</td>\n",
       "      <td>NaN</td>\n",
       "    </tr>\n",
       "    <tr>\n",
       "      <th>2013</th>\n",
       "      <td>NaN</td>\n",
       "      <td>NaN</td>\n",
       "      <td>56.57</td>\n",
       "      <td>NaN</td>\n",
       "      <td>1.54</td>\n",
       "      <td>NaN</td>\n",
       "      <td>NaN</td>\n",
       "      <td>NaN</td>\n",
       "      <td>NaN</td>\n",
       "      <td>NaN</td>\n",
       "      <td>...</td>\n",
       "      <td>NaN</td>\n",
       "      <td>NaN</td>\n",
       "      <td>NaN</td>\n",
       "      <td>NaN</td>\n",
       "      <td>NaN</td>\n",
       "      <td>8.59</td>\n",
       "      <td>21.65</td>\n",
       "      <td>88.58</td>\n",
       "      <td>NaN</td>\n",
       "      <td>18.96</td>\n",
       "    </tr>\n",
       "    <tr>\n",
       "      <th>2014</th>\n",
       "      <td>NaN</td>\n",
       "      <td>NaN</td>\n",
       "      <td>43.76</td>\n",
       "      <td>NaN</td>\n",
       "      <td>NaN</td>\n",
       "      <td>NaN</td>\n",
       "      <td>NaN</td>\n",
       "      <td>NaN</td>\n",
       "      <td>NaN</td>\n",
       "      <td>NaN</td>\n",
       "      <td>...</td>\n",
       "      <td>NaN</td>\n",
       "      <td>NaN</td>\n",
       "      <td>NaN</td>\n",
       "      <td>NaN</td>\n",
       "      <td>NaN</td>\n",
       "      <td>3.75</td>\n",
       "      <td>22.03</td>\n",
       "      <td>34.74</td>\n",
       "      <td>NaN</td>\n",
       "      <td>54.07</td>\n",
       "    </tr>\n",
       "    <tr>\n",
       "      <th>2015</th>\n",
       "      <td>NaN</td>\n",
       "      <td>NaN</td>\n",
       "      <td>27.78</td>\n",
       "      <td>NaN</td>\n",
       "      <td>NaN</td>\n",
       "      <td>NaN</td>\n",
       "      <td>NaN</td>\n",
       "      <td>NaN</td>\n",
       "      <td>NaN</td>\n",
       "      <td>NaN</td>\n",
       "      <td>...</td>\n",
       "      <td>NaN</td>\n",
       "      <td>NaN</td>\n",
       "      <td>NaN</td>\n",
       "      <td>NaN</td>\n",
       "      <td>NaN</td>\n",
       "      <td>1.14</td>\n",
       "      <td>16.35</td>\n",
       "      <td>11.96</td>\n",
       "      <td>NaN</td>\n",
       "      <td>60.14</td>\n",
       "    </tr>\n",
       "    <tr>\n",
       "      <th>2016</th>\n",
       "      <td>NaN</td>\n",
       "      <td>NaN</td>\n",
       "      <td>15.14</td>\n",
       "      <td>NaN</td>\n",
       "      <td>NaN</td>\n",
       "      <td>NaN</td>\n",
       "      <td>NaN</td>\n",
       "      <td>NaN</td>\n",
       "      <td>NaN</td>\n",
       "      <td>NaN</td>\n",
       "      <td>...</td>\n",
       "      <td>NaN</td>\n",
       "      <td>NaN</td>\n",
       "      <td>NaN</td>\n",
       "      <td>NaN</td>\n",
       "      <td>NaN</td>\n",
       "      <td>0.18</td>\n",
       "      <td>4.60</td>\n",
       "      <td>1.52</td>\n",
       "      <td>NaN</td>\n",
       "      <td>26.15</td>\n",
       "    </tr>\n",
       "  </tbody>\n",
       "</table>\n",
       "<p>5 rows × 31 columns</p>\n",
       "</div>"
      ],
      "text/plain": [
       "platform         2600  3DO    3DS  DC     DS  GB  GBA  GC  GEN  GG  ...  SAT  \\\n",
       "year_of_release                                                     ...        \n",
       "2012              NaN  NaN  51.76 NaN  11.67 NaN  NaN NaN  NaN NaN  ...  NaN   \n",
       "2013              NaN  NaN  56.57 NaN   1.54 NaN  NaN NaN  NaN NaN  ...  NaN   \n",
       "2014              NaN  NaN  43.76 NaN    NaN NaN  NaN NaN  NaN NaN  ...  NaN   \n",
       "2015              NaN  NaN  27.78 NaN    NaN NaN  NaN NaN  NaN NaN  ...  NaN   \n",
       "2016              NaN  NaN  15.14 NaN    NaN NaN  NaN NaN  NaN NaN  ...  NaN   \n",
       "\n",
       "platform         SCD  SNES  TG16  WS    Wii   WiiU    X360  XB   XOne  \n",
       "year_of_release                                                        \n",
       "2012             NaN   NaN   NaN NaN  22.94  17.56  100.72 NaN    NaN  \n",
       "2013             NaN   NaN   NaN NaN   8.59  21.65   88.58 NaN  18.96  \n",
       "2014             NaN   NaN   NaN NaN   3.75  22.03   34.74 NaN  54.07  \n",
       "2015             NaN   NaN   NaN NaN   1.14  16.35   11.96 NaN  60.14  \n",
       "2016             NaN   NaN   NaN NaN   0.18   4.60    1.52 NaN  26.15  \n",
       "\n",
       "[5 rows x 31 columns]"
      ]
     },
     "execution_count": 45,
     "metadata": {},
     "output_type": "execute_result"
    }
   ],
   "source": [
    "#Посмотрим, как менялись продажи по платформам.\n",
    "df_platform = df.pivot_table(\n",
    "    index='year_of_release', \n",
    "    columns='platform',\n",
    "    values='total_sales', \n",
    "    aggfunc=['sum'])\\\n",
    "    .droplevel(0, axis=1)\n",
    "\n",
    "df_platform.tail()"
   ]
  },
  {
   "cell_type": "code",
   "execution_count": 46,
   "metadata": {},
   "outputs": [
    {
     "data": {
      "image/png": "[encoded data removed]",
      "text/plain": [
       "<Figure size 1080x720 with 2 Axes>"
      ]
     },
     "metadata": {
      "needs_background": "light"
     },
     "output_type": "display_data"
    }
   ],
   "source": [
    "#По полученным данным построим heatmap\n",
    "plt.figure(figsize=(15,10))\n",
    "sns.heatmap(df_platform);"
   ]
  },
  {
   "cell_type": "markdown",
   "metadata": {},
   "source": [
    "Хм. По хитмапу видны серьезные аномалии которые могут испортить нам все данные. Например игры на 3DS, DS и PS3 вышли намного раньше чем сами приставки. Нужно убрать данные аномалии"
   ]
  },
  {
   "cell_type": "code",
   "execution_count": 47,
   "metadata": {},
   "outputs": [
    {
     "data": {
      "text/html": [
       "<div>\n",
       "<style scoped>\n",
       "    .dataframe tbody tr th:only-of-type {\n",
       "        vertical-align: middle;\n",
       "    }\n",
       "\n",
       "    .dataframe tbody tr th {\n",
       "        vertical-align: top;\n",
       "    }\n",
       "\n",
       "    .dataframe thead th {\n",
       "        text-align: right;\n",
       "    }\n",
       "</style>\n",
       "<table border=\"1\" class=\"dataframe\">\n",
       "  <thead>\n",
       "    <tr style=\"text-align: right;\">\n",
       "      <th></th>\n",
       "      <th>name</th>\n",
       "      <th>platform</th>\n",
       "      <th>year_of_release</th>\n",
       "      <th>genre</th>\n",
       "      <th>na_sales</th>\n",
       "      <th>eu_sales</th>\n",
       "      <th>jp_sales</th>\n",
       "      <th>other_sales</th>\n",
       "      <th>critic_score</th>\n",
       "      <th>user_score</th>\n",
       "      <th>rating</th>\n",
       "      <th>total_sales</th>\n",
       "    </tr>\n",
       "  </thead>\n",
       "  <tbody>\n",
       "    <tr>\n",
       "      <th>15338</th>\n",
       "      <td>Mario Tennis</td>\n",
       "      <td>3DS</td>\n",
       "      <td>2000</td>\n",
       "      <td>Sports</td>\n",
       "      <td>0.0</td>\n",
       "      <td>0.0</td>\n",
       "      <td>0.02</td>\n",
       "      <td>0.0</td>\n",
       "      <td>NaN</td>\n",
       "      <td>NaN</td>\n",
       "      <td>E</td>\n",
       "      <td>0.02</td>\n",
       "    </tr>\n",
       "  </tbody>\n",
       "</table>\n",
       "</div>"
      ],
      "text/plain": [
       "               name platform  year_of_release   genre  na_sales  eu_sales  \\\n",
       "15338  Mario Tennis      3DS             2000  Sports       0.0       0.0   \n",
       "\n",
       "       jp_sales  other_sales  critic_score  user_score rating  total_sales  \n",
       "15338      0.02          0.0           NaN         NaN      E         0.02  "
      ]
     },
     "execution_count": 47,
     "metadata": {},
     "output_type": "execute_result"
    }
   ],
   "source": [
    "# Посмотрим аномалии по 3DS\n",
    "df[(df['platform'] == '3DS')&(df['year_of_release'] <2010)]"
   ]
  },
  {
   "cell_type": "code",
   "execution_count": 48,
   "metadata": {},
   "outputs": [
    {
     "data": {
      "text/html": [
       "<div>\n",
       "<style scoped>\n",
       "    .dataframe tbody tr th:only-of-type {\n",
       "        vertical-align: middle;\n",
       "    }\n",
       "\n",
       "    .dataframe tbody tr th {\n",
       "        vertical-align: top;\n",
       "    }\n",
       "\n",
       "    .dataframe thead th {\n",
       "        text-align: right;\n",
       "    }\n",
       "</style>\n",
       "<table border=\"1\" class=\"dataframe\">\n",
       "  <thead>\n",
       "    <tr style=\"text-align: right;\">\n",
       "      <th></th>\n",
       "      <th>name</th>\n",
       "      <th>platform</th>\n",
       "      <th>year_of_release</th>\n",
       "      <th>genre</th>\n",
       "      <th>na_sales</th>\n",
       "      <th>eu_sales</th>\n",
       "      <th>jp_sales</th>\n",
       "      <th>other_sales</th>\n",
       "      <th>critic_score</th>\n",
       "      <th>user_score</th>\n",
       "      <th>rating</th>\n",
       "      <th>total_sales</th>\n",
       "    </tr>\n",
       "  </thead>\n",
       "  <tbody>\n",
       "    <tr>\n",
       "      <th>683</th>\n",
       "      <td>Mario Tennis</td>\n",
       "      <td>N64</td>\n",
       "      <td>2000</td>\n",
       "      <td>Sports</td>\n",
       "      <td>0.78</td>\n",
       "      <td>0.40</td>\n",
       "      <td>1.06</td>\n",
       "      <td>0.07</td>\n",
       "      <td>NaN</td>\n",
       "      <td>NaN</td>\n",
       "      <td>E</td>\n",
       "      <td>2.31</td>\n",
       "    </tr>\n",
       "    <tr>\n",
       "      <th>1711</th>\n",
       "      <td>Mario Tennis</td>\n",
       "      <td>GB</td>\n",
       "      <td>2000</td>\n",
       "      <td>Sports</td>\n",
       "      <td>0.50</td>\n",
       "      <td>0.18</td>\n",
       "      <td>0.44</td>\n",
       "      <td>0.06</td>\n",
       "      <td>NaN</td>\n",
       "      <td>NaN</td>\n",
       "      <td>E</td>\n",
       "      <td>1.18</td>\n",
       "    </tr>\n",
       "    <tr>\n",
       "      <th>12180</th>\n",
       "      <td>Mario Tennis</td>\n",
       "      <td>Wii</td>\n",
       "      <td>2010</td>\n",
       "      <td>Sports</td>\n",
       "      <td>0.00</td>\n",
       "      <td>0.06</td>\n",
       "      <td>0.00</td>\n",
       "      <td>0.01</td>\n",
       "      <td>NaN</td>\n",
       "      <td>NaN</td>\n",
       "      <td>E</td>\n",
       "      <td>0.07</td>\n",
       "    </tr>\n",
       "    <tr>\n",
       "      <th>15338</th>\n",
       "      <td>Mario Tennis</td>\n",
       "      <td>3DS</td>\n",
       "      <td>2000</td>\n",
       "      <td>Sports</td>\n",
       "      <td>0.00</td>\n",
       "      <td>0.00</td>\n",
       "      <td>0.02</td>\n",
       "      <td>0.00</td>\n",
       "      <td>NaN</td>\n",
       "      <td>NaN</td>\n",
       "      <td>E</td>\n",
       "      <td>0.02</td>\n",
       "    </tr>\n",
       "  </tbody>\n",
       "</table>\n",
       "</div>"
      ],
      "text/plain": [
       "               name platform  year_of_release   genre  na_sales  eu_sales  \\\n",
       "683    Mario Tennis      N64             2000  Sports      0.78      0.40   \n",
       "1711   Mario Tennis       GB             2000  Sports      0.50      0.18   \n",
       "12180  Mario Tennis      Wii             2010  Sports      0.00      0.06   \n",
       "15338  Mario Tennis      3DS             2000  Sports      0.00      0.00   \n",
       "\n",
       "       jp_sales  other_sales  critic_score  user_score rating  total_sales  \n",
       "683        1.06         0.07           NaN         NaN      E         2.31  \n",
       "1711       0.44         0.06           NaN         NaN      E         1.18  \n",
       "12180      0.00         0.01           NaN         NaN      E         0.07  \n",
       "15338      0.02         0.00           NaN         NaN      E         0.02  "
      ]
     },
     "execution_count": 48,
     "metadata": {},
     "output_type": "execute_result"
    }
   ],
   "source": [
    "# если верить издателю, то эта игра никогда не выходила на 3DS\n",
    "# Посмотрим есть ли эта игра на других платформах\n",
    "df[(df['name'] == 'Mario Tennis')]"
   ]
  },
  {
   "cell_type": "code",
   "execution_count": 49,
   "metadata": {},
   "outputs": [],
   "source": [
    "# С другими платформами все нормально, на 3DS были с другим аналогичным названием, но та ли это игра, мы знать не можем знать\n",
    "# поэтому уберем ее из списка\n",
    "df.drop([15338], inplace=True)"
   ]
  },
  {
   "cell_type": "code",
   "execution_count": 50,
   "metadata": {},
   "outputs": [
    {
     "data": {
      "text/html": [
       "<div>\n",
       "<style scoped>\n",
       "    .dataframe tbody tr th:only-of-type {\n",
       "        vertical-align: middle;\n",
       "    }\n",
       "\n",
       "    .dataframe tbody tr th {\n",
       "        vertical-align: top;\n",
       "    }\n",
       "\n",
       "    .dataframe thead th {\n",
       "        text-align: right;\n",
       "    }\n",
       "</style>\n",
       "<table border=\"1\" class=\"dataframe\">\n",
       "  <thead>\n",
       "    <tr style=\"text-align: right;\">\n",
       "      <th></th>\n",
       "      <th>name</th>\n",
       "      <th>platform</th>\n",
       "      <th>year_of_release</th>\n",
       "      <th>genre</th>\n",
       "      <th>na_sales</th>\n",
       "      <th>eu_sales</th>\n",
       "      <th>jp_sales</th>\n",
       "      <th>other_sales</th>\n",
       "      <th>critic_score</th>\n",
       "      <th>user_score</th>\n",
       "      <th>rating</th>\n",
       "      <th>total_sales</th>\n",
       "    </tr>\n",
       "  </thead>\n",
       "  <tbody>\n",
       "    <tr>\n",
       "      <th>15957</th>\n",
       "      <td>Strongest Tokyo University Shogi DS</td>\n",
       "      <td>DS</td>\n",
       "      <td>1985</td>\n",
       "      <td>Action</td>\n",
       "      <td>0.0</td>\n",
       "      <td>0.0</td>\n",
       "      <td>0.02</td>\n",
       "      <td>0.0</td>\n",
       "      <td>NaN</td>\n",
       "      <td>NaN</td>\n",
       "      <td>None</td>\n",
       "      <td>0.02</td>\n",
       "    </tr>\n",
       "  </tbody>\n",
       "</table>\n",
       "</div>"
      ],
      "text/plain": [
       "                                      name platform  year_of_release   genre  \\\n",
       "15957  Strongest Tokyo University Shogi DS       DS             1985  Action   \n",
       "\n",
       "       na_sales  eu_sales  jp_sales  other_sales  critic_score  user_score  \\\n",
       "15957       0.0       0.0      0.02          0.0           NaN         NaN   \n",
       "\n",
       "      rating  total_sales  \n",
       "15957   None         0.02  "
      ]
     },
     "execution_count": 50,
     "metadata": {},
     "output_type": "execute_result"
    }
   ],
   "source": [
    "# Посмотрим аномалии по DS\n",
    "df[(df['platform'] == 'DS')&(df['year_of_release'] <2004)]"
   ]
  },
  {
   "cell_type": "code",
   "execution_count": 51,
   "metadata": {},
   "outputs": [
    {
     "data": {
      "text/html": [
       "<div>\n",
       "<style scoped>\n",
       "    .dataframe tbody tr th:only-of-type {\n",
       "        vertical-align: middle;\n",
       "    }\n",
       "\n",
       "    .dataframe tbody tr th {\n",
       "        vertical-align: top;\n",
       "    }\n",
       "\n",
       "    .dataframe thead th {\n",
       "        text-align: right;\n",
       "    }\n",
       "</style>\n",
       "<table border=\"1\" class=\"dataframe\">\n",
       "  <thead>\n",
       "    <tr style=\"text-align: right;\">\n",
       "      <th></th>\n",
       "      <th>name</th>\n",
       "      <th>platform</th>\n",
       "      <th>year_of_release</th>\n",
       "      <th>genre</th>\n",
       "      <th>na_sales</th>\n",
       "      <th>eu_sales</th>\n",
       "      <th>jp_sales</th>\n",
       "      <th>other_sales</th>\n",
       "      <th>critic_score</th>\n",
       "      <th>user_score</th>\n",
       "      <th>rating</th>\n",
       "      <th>total_sales</th>\n",
       "    </tr>\n",
       "  </thead>\n",
       "  <tbody>\n",
       "    <tr>\n",
       "      <th>15957</th>\n",
       "      <td>Strongest Tokyo University Shogi DS</td>\n",
       "      <td>DS</td>\n",
       "      <td>1985</td>\n",
       "      <td>Action</td>\n",
       "      <td>0.0</td>\n",
       "      <td>0.0</td>\n",
       "      <td>0.02</td>\n",
       "      <td>0.0</td>\n",
       "      <td>NaN</td>\n",
       "      <td>NaN</td>\n",
       "      <td>None</td>\n",
       "      <td>0.02</td>\n",
       "    </tr>\n",
       "  </tbody>\n",
       "</table>\n",
       "</div>"
      ],
      "text/plain": [
       "                                      name platform  year_of_release   genre  \\\n",
       "15957  Strongest Tokyo University Shogi DS       DS             1985  Action   \n",
       "\n",
       "       na_sales  eu_sales  jp_sales  other_sales  critic_score  user_score  \\\n",
       "15957       0.0       0.0      0.02          0.0           NaN         NaN   \n",
       "\n",
       "      rating  total_sales  \n",
       "15957   None         0.02  "
      ]
     },
     "execution_count": 51,
     "metadata": {},
     "output_type": "execute_result"
    }
   ],
   "source": [
    "# если верить издателю, то игра вышла в 2010 году.  Посмотрим как дела с другими платформами\n",
    "df[df['name'] == 'Strongest Tokyo University Shogi DS']"
   ]
  },
  {
   "cell_type": "code",
   "execution_count": 52,
   "metadata": {},
   "outputs": [],
   "source": [
    "# На других платформах игры нет. Исправим несправедливость\n",
    "df.loc[df['name'] == 'Strongest Tokyo University Shogi DS', 'year_of_release'] = 2010"
   ]
  },
  {
   "cell_type": "code",
   "execution_count": 53,
   "metadata": {},
   "outputs": [
    {
     "data": {
      "text/html": [
       "<div>\n",
       "<style scoped>\n",
       "    .dataframe tbody tr th:only-of-type {\n",
       "        vertical-align: middle;\n",
       "    }\n",
       "\n",
       "    .dataframe tbody tr th {\n",
       "        vertical-align: top;\n",
       "    }\n",
       "\n",
       "    .dataframe thead th {\n",
       "        text-align: right;\n",
       "    }\n",
       "</style>\n",
       "<table border=\"1\" class=\"dataframe\">\n",
       "  <thead>\n",
       "    <tr style=\"text-align: right;\">\n",
       "      <th></th>\n",
       "      <th>name</th>\n",
       "      <th>platform</th>\n",
       "      <th>year_of_release</th>\n",
       "      <th>genre</th>\n",
       "      <th>na_sales</th>\n",
       "      <th>eu_sales</th>\n",
       "      <th>jp_sales</th>\n",
       "      <th>other_sales</th>\n",
       "      <th>critic_score</th>\n",
       "      <th>user_score</th>\n",
       "      <th>rating</th>\n",
       "      <th>total_sales</th>\n",
       "    </tr>\n",
       "  </thead>\n",
       "  <tbody>\n",
       "    <tr>\n",
       "      <th>4127</th>\n",
       "      <td>Sonic the Hedgehog</td>\n",
       "      <td>PS3</td>\n",
       "      <td>1991</td>\n",
       "      <td>Platform</td>\n",
       "      <td>0.0</td>\n",
       "      <td>0.48</td>\n",
       "      <td>0.0</td>\n",
       "      <td>0.0</td>\n",
       "      <td>4.3</td>\n",
       "      <td>4.1</td>\n",
       "      <td>E10+</td>\n",
       "      <td>0.48</td>\n",
       "    </tr>\n",
       "  </tbody>\n",
       "</table>\n",
       "</div>"
      ],
      "text/plain": [
       "                    name platform  year_of_release     genre  na_sales  \\\n",
       "4127  Sonic the Hedgehog      PS3             1991  Platform       0.0   \n",
       "\n",
       "      eu_sales  jp_sales  other_sales  critic_score  user_score rating  \\\n",
       "4127      0.48       0.0          0.0           4.3         4.1   E10+   \n",
       "\n",
       "      total_sales  \n",
       "4127         0.48  "
      ]
     },
     "execution_count": 53,
     "metadata": {},
     "output_type": "execute_result"
    }
   ],
   "source": [
    "# Посмотрим аномалии по PS3\n",
    "df[(df['platform'] == 'PS3')&(df['year_of_release'] <2005)]"
   ]
  },
  {
   "cell_type": "code",
   "execution_count": 54,
   "metadata": {},
   "outputs": [
    {
     "data": {
      "text/html": [
       "<div>\n",
       "<style scoped>\n",
       "    .dataframe tbody tr th:only-of-type {\n",
       "        vertical-align: middle;\n",
       "    }\n",
       "\n",
       "    .dataframe tbody tr th {\n",
       "        vertical-align: top;\n",
       "    }\n",
       "\n",
       "    .dataframe thead th {\n",
       "        text-align: right;\n",
       "    }\n",
       "</style>\n",
       "<table border=\"1\" class=\"dataframe\">\n",
       "  <thead>\n",
       "    <tr style=\"text-align: right;\">\n",
       "      <th></th>\n",
       "      <th>name</th>\n",
       "      <th>platform</th>\n",
       "      <th>year_of_release</th>\n",
       "      <th>genre</th>\n",
       "      <th>na_sales</th>\n",
       "      <th>eu_sales</th>\n",
       "      <th>jp_sales</th>\n",
       "      <th>other_sales</th>\n",
       "      <th>critic_score</th>\n",
       "      <th>user_score</th>\n",
       "      <th>rating</th>\n",
       "      <th>total_sales</th>\n",
       "    </tr>\n",
       "  </thead>\n",
       "  <tbody>\n",
       "    <tr>\n",
       "      <th>257</th>\n",
       "      <td>Sonic the Hedgehog</td>\n",
       "      <td>GEN</td>\n",
       "      <td>1991</td>\n",
       "      <td>Platform</td>\n",
       "      <td>3.03</td>\n",
       "      <td>0.91</td>\n",
       "      <td>0.26</td>\n",
       "      <td>0.13</td>\n",
       "      <td>NaN</td>\n",
       "      <td>NaN</td>\n",
       "      <td>E10+</td>\n",
       "      <td>4.33</td>\n",
       "    </tr>\n",
       "    <tr>\n",
       "      <th>1745</th>\n",
       "      <td>Sonic the Hedgehog</td>\n",
       "      <td>PS3</td>\n",
       "      <td>2006</td>\n",
       "      <td>Platform</td>\n",
       "      <td>0.41</td>\n",
       "      <td>0.06</td>\n",
       "      <td>0.04</td>\n",
       "      <td>0.66</td>\n",
       "      <td>4.3</td>\n",
       "      <td>4.1</td>\n",
       "      <td>E10+</td>\n",
       "      <td>1.17</td>\n",
       "    </tr>\n",
       "    <tr>\n",
       "      <th>1996</th>\n",
       "      <td>Sonic the Hedgehog</td>\n",
       "      <td>X360</td>\n",
       "      <td>2006</td>\n",
       "      <td>Platform</td>\n",
       "      <td>0.44</td>\n",
       "      <td>0.48</td>\n",
       "      <td>0.00</td>\n",
       "      <td>0.11</td>\n",
       "      <td>4.6</td>\n",
       "      <td>4.4</td>\n",
       "      <td>E10+</td>\n",
       "      <td>1.03</td>\n",
       "    </tr>\n",
       "    <tr>\n",
       "      <th>4127</th>\n",
       "      <td>Sonic the Hedgehog</td>\n",
       "      <td>PS3</td>\n",
       "      <td>1991</td>\n",
       "      <td>Platform</td>\n",
       "      <td>0.00</td>\n",
       "      <td>0.48</td>\n",
       "      <td>0.00</td>\n",
       "      <td>0.00</td>\n",
       "      <td>4.3</td>\n",
       "      <td>4.1</td>\n",
       "      <td>E10+</td>\n",
       "      <td>0.48</td>\n",
       "    </tr>\n",
       "  </tbody>\n",
       "</table>\n",
       "</div>"
      ],
      "text/plain": [
       "                    name platform  year_of_release     genre  na_sales  \\\n",
       "257   Sonic the Hedgehog      GEN             1991  Platform      3.03   \n",
       "1745  Sonic the Hedgehog      PS3             2006  Platform      0.41   \n",
       "1996  Sonic the Hedgehog     X360             2006  Platform      0.44   \n",
       "4127  Sonic the Hedgehog      PS3             1991  Platform      0.00   \n",
       "\n",
       "      eu_sales  jp_sales  other_sales  critic_score  user_score rating  \\\n",
       "257       0.91      0.26         0.13           NaN         NaN   E10+   \n",
       "1745      0.06      0.04         0.66           4.3         4.1   E10+   \n",
       "1996      0.48      0.00         0.11           4.6         4.4   E10+   \n",
       "4127      0.48      0.00         0.00           4.3         4.1   E10+   \n",
       "\n",
       "      total_sales  \n",
       "257          4.33  \n",
       "1745         1.17  \n",
       "1996         1.03  \n",
       "4127         0.48  "
      ]
     },
     "execution_count": 54,
     "metadata": {},
     "output_type": "execute_result"
    }
   ],
   "source": [
    "# Игры вышла намного раньше чем сама приставка\n",
    "# Посмотрим есть ли эта игра на других платформах\n",
    "df[(df['name'] == 'Sonic the Hedgehog')]"
   ]
  },
  {
   "cell_type": "code",
   "execution_count": 55,
   "metadata": {},
   "outputs": [],
   "source": [
    "# хм. Игра вышла 2 раза. Причем один раз много раньше самой приставки.\n",
    "# Точно отнести эту игру не удастся, поэтому эту строку мы тоже удалим\n",
    "df.drop([4127], inplace=True)"
   ]
  },
  {
   "cell_type": "code",
   "execution_count": 56,
   "metadata": {},
   "outputs": [
    {
     "data": {
      "image/png": "[encoded data removed]",
      "text/plain": [
       "<Figure size 1080x720 with 2 Axes>"
      ]
     },
     "metadata": {
      "needs_background": "light"
     },
     "output_type": "display_data"
    }
   ],
   "source": [
    "# заново построим хитмап\n",
    "df_platform = df.pivot_table(\n",
    "    index='year_of_release', \n",
    "    columns='platform',\n",
    "    values='total_sales', \n",
    "    aggfunc=['sum'])\\\n",
    "    .droplevel(0, axis=1)\n",
    "plt.figure(figsize=(15,10))\n",
    "sns.heatmap(df_platform);"
   ]
  },
  {
   "cell_type": "markdown",
   "metadata": {},
   "source": [
    "Теперь каких либо аномальных выбросов мы не видим. Можем двигаться дальше"
   ]
  },
  {
   "cell_type": "code",
   "execution_count": 57,
   "metadata": {},
   "outputs": [
    {
     "data": {
      "image/png": "[encoded data removed]",
      "text/plain": [
       "<Figure size 936x432 with 1 Axes>"
      ]
     },
     "metadata": {
      "needs_background": "light"
     },
     "output_type": "display_data"
    }
   ],
   "source": [
    "# построим график продаж по всем платформам за весь период\n",
    "games_on_period = df.pivot_table(index='platform', values='total_sales', aggfunc='sum').sort_values(by = 'total_sales', \n",
    "                                                                                                        ascending = False)\n",
    "plt.figure(figsize=(13,6))\n",
    "sns.barplot(data = games_on_period, x= games_on_period.index, y= games_on_period['total_sales']);\n",
    "plt.title(\"Продажи по платформам за весь период\")\n",
    "plt.xlabel(\"Название платформы\")\n",
    "plt.ylabel(\"Количество продаж\");"
   ]
  },
  {
   "cell_type": "markdown",
   "metadata": {},
   "source": [
    "Выберем платформы с наибольшими суммарными продажами и построим распределение по годам. Из графика видно, что самые популярные игровые платформы за весь период это PS2, X360, PS3, WII, DS, PS"
   ]
  },
  {
   "cell_type": "markdown",
   "metadata": {},
   "source": [
    "<div class=\"alert alert-success\">\n",
    "<h2> Комментарий ревьюера v2 <a class=\"tocSkip\"> </h2>\n",
    "\n",
    "<b>Все супер!👍:</b> Топ платформ нашли верно)"
   ]
  },
  {
   "cell_type": "code",
   "execution_count": 58,
   "metadata": {},
   "outputs": [],
   "source": [
    "#Функция для таблиц с топовыми платформами\n",
    "def top_plat(tbl):\n",
    "    global top_platforms\n",
    "    global top_sales\n",
    "    top_platforms = tbl.pivot_table(index='platform', values='total_sales', aggfunc='sum').sort_values(by = 'total_sales', \n",
    "                                                                                                        ascending = False).head(6).reset_index()\n",
    "    \n",
    "    top_sales = tbl[tbl['platform'].isin(top_platforms['platform'])].pivot_table(index='year_of_release', values='total_sales', columns='platform', aggfunc='sum')\n",
    "    \n",
    "    plt.figure(figsize=(12,6))\n",
    "    plt.title('Количество продаж популярных игровых платформ')\n",
    "    plt.xlabel('Годы игровых релизов')\n",
    "    plt.ylabel('Продажи')\n",
    "    sns.lineplot(data= top_sales)\n",
    "    plt.legend()\n",
    "    plt.show()"
   ]
  },
  {
   "cell_type": "code",
   "execution_count": 59,
   "metadata": {},
   "outputs": [
    {
     "data": {
      "image/png": "[encoded data removed]",
      "text/plain": [
       "<Figure size 864x432 with 1 Axes>"
      ]
     },
     "metadata": {
      "needs_background": "light"
     },
     "output_type": "display_data"
    }
   ],
   "source": [
    "top_plat(df)"
   ]
  },
  {
   "cell_type": "code",
   "execution_count": 60,
   "metadata": {},
   "outputs": [
    {
     "data": {
      "text/html": [
       "<div>\n",
       "<style scoped>\n",
       "    .dataframe tbody tr th:only-of-type {\n",
       "        vertical-align: middle;\n",
       "    }\n",
       "\n",
       "    .dataframe tbody tr th {\n",
       "        vertical-align: top;\n",
       "    }\n",
       "\n",
       "    .dataframe thead th {\n",
       "        text-align: right;\n",
       "    }\n",
       "</style>\n",
       "<table border=\"1\" class=\"dataframe\">\n",
       "  <thead>\n",
       "    <tr style=\"text-align: right;\">\n",
       "      <th></th>\n",
       "      <th>platform</th>\n",
       "      <th>total_sales</th>\n",
       "    </tr>\n",
       "  </thead>\n",
       "  <tbody>\n",
       "    <tr>\n",
       "      <th>0</th>\n",
       "      <td>PS2</td>\n",
       "      <td>1247.16</td>\n",
       "    </tr>\n",
       "    <tr>\n",
       "      <th>1</th>\n",
       "      <td>X360</td>\n",
       "      <td>966.61</td>\n",
       "    </tr>\n",
       "    <tr>\n",
       "      <th>2</th>\n",
       "      <td>PS3</td>\n",
       "      <td>934.70</td>\n",
       "    </tr>\n",
       "    <tr>\n",
       "      <th>3</th>\n",
       "      <td>Wii</td>\n",
       "      <td>903.31</td>\n",
       "    </tr>\n",
       "    <tr>\n",
       "      <th>4</th>\n",
       "      <td>DS</td>\n",
       "      <td>804.28</td>\n",
       "    </tr>\n",
       "    <tr>\n",
       "      <th>5</th>\n",
       "      <td>PS</td>\n",
       "      <td>727.58</td>\n",
       "    </tr>\n",
       "  </tbody>\n",
       "</table>\n",
       "</div>"
      ],
      "text/plain": [
       "  platform  total_sales\n",
       "0      PS2      1247.16\n",
       "1     X360       966.61\n",
       "2      PS3       934.70\n",
       "3      Wii       903.31\n",
       "4       DS       804.28\n",
       "5       PS       727.58"
      ]
     },
     "execution_count": 60,
     "metadata": {},
     "output_type": "execute_result"
    }
   ],
   "source": [
    "#Топовые платформы по продажам\n",
    "top_platforms"
   ]
  },
  {
   "cell_type": "markdown",
   "metadata": {},
   "source": [
    "* Самый долгожитель - платформа ds\n",
    "* Практически все игровые платформы в среднем существуют по 10 лет.\n",
    "* Cамые продаваемые это Sony Play Station и XBOX\n",
    "* Самый пик наступает примерно через 5 лет после выхода приставки\n",
    "* у Nintento WII был быстрый скачок в 2009 году и такой же резкий провал\n",
    "* Т.к. пик продаж платформы наступает, примерно, через 5 лет после её выхода, то потенциально прибыльные платформы будут те платформы, которые вышли с 2011 года"
   ]
  },
  {
   "cell_type": "markdown",
   "metadata": {},
   "source": [
    "<div class=\"alert alert-success\">\n",
    "<h2> Комментарий ревьюера v2 <a class=\"tocSkip\"> </h2>\n",
    "\n",
    "<b>Все супер!👍:</b> Отлично, согласен)"
   ]
  },
  {
   "cell_type": "markdown",
   "metadata": {},
   "source": [
    "### Данные за актуальный период"
   ]
  },
  {
   "cell_type": "code",
   "execution_count": 61,
   "metadata": {},
   "outputs": [],
   "source": [
    "# Возьмем только актуальные данные\n",
    "actual_df = df[df['year_of_release'] > 2014]"
   ]
  },
  {
   "cell_type": "markdown",
   "metadata": {},
   "source": [
    "<div class=\"alert alert-block alert-danger\">\n",
    "<h2> Комментарий ревьюера v2 <a class=\"tocSkip\"></h2>\n",
    "   \n",
    "<b>На доработку🤔:</b> 5,5 лет? Многовато:( Для целей прогнозирования продаж на следующий год даже в традиционных бизнесах редко берут данные более чем за 2-3 года. А в такой динамично меняющейся индустрии, как компьютерные игры и вовсе не стоит брать слишком большой временной интервал - иначе обязательно захватишь уже отжившие тренды. Но и слишком короткий период тоже брать не стоит"
   ]
  },
  {
   "cell_type": "markdown",
   "metadata": {},
   "source": [
    "<div class=\"alert alert-info\">\n",
    "<b>Принял, тогда возьмем актуальный период в 2 года и пересчитаем все данные под него</b> \n",
    "</div>"
   ]
  },
  {
   "cell_type": "code",
   "execution_count": 62,
   "metadata": {},
   "outputs": [
    {
     "data": {
      "text/html": [
       "<div>\n",
       "<style scoped>\n",
       "    .dataframe tbody tr th:only-of-type {\n",
       "        vertical-align: middle;\n",
       "    }\n",
       "\n",
       "    .dataframe tbody tr th {\n",
       "        vertical-align: top;\n",
       "    }\n",
       "\n",
       "    .dataframe thead th {\n",
       "        text-align: right;\n",
       "    }\n",
       "</style>\n",
       "<table border=\"1\" class=\"dataframe\">\n",
       "  <thead>\n",
       "    <tr style=\"text-align: right;\">\n",
       "      <th></th>\n",
       "      <th>name</th>\n",
       "      <th>platform</th>\n",
       "      <th>year_of_release</th>\n",
       "      <th>genre</th>\n",
       "      <th>na_sales</th>\n",
       "      <th>eu_sales</th>\n",
       "      <th>jp_sales</th>\n",
       "      <th>other_sales</th>\n",
       "      <th>critic_score</th>\n",
       "      <th>user_score</th>\n",
       "      <th>rating</th>\n",
       "      <th>total_sales</th>\n",
       "    </tr>\n",
       "  </thead>\n",
       "  <tbody>\n",
       "    <tr>\n",
       "      <th>31</th>\n",
       "      <td>Call of Duty: Black Ops 3</td>\n",
       "      <td>PS4</td>\n",
       "      <td>2015</td>\n",
       "      <td>Shooter</td>\n",
       "      <td>6.03</td>\n",
       "      <td>5.86</td>\n",
       "      <td>0.36</td>\n",
       "      <td>2.38</td>\n",
       "      <td>NaN</td>\n",
       "      <td>NaN</td>\n",
       "      <td>None</td>\n",
       "      <td>14.63</td>\n",
       "    </tr>\n",
       "    <tr>\n",
       "      <th>77</th>\n",
       "      <td>FIFA 16</td>\n",
       "      <td>PS4</td>\n",
       "      <td>2015</td>\n",
       "      <td>Sports</td>\n",
       "      <td>1.12</td>\n",
       "      <td>6.12</td>\n",
       "      <td>0.06</td>\n",
       "      <td>1.28</td>\n",
       "      <td>8.2</td>\n",
       "      <td>4.3</td>\n",
       "      <td>E</td>\n",
       "      <td>8.58</td>\n",
       "    </tr>\n",
       "    <tr>\n",
       "      <th>87</th>\n",
       "      <td>Star Wars Battlefront (2015)</td>\n",
       "      <td>PS4</td>\n",
       "      <td>2015</td>\n",
       "      <td>Shooter</td>\n",
       "      <td>2.99</td>\n",
       "      <td>3.49</td>\n",
       "      <td>0.22</td>\n",
       "      <td>1.28</td>\n",
       "      <td>NaN</td>\n",
       "      <td>NaN</td>\n",
       "      <td>None</td>\n",
       "      <td>7.98</td>\n",
       "    </tr>\n",
       "    <tr>\n",
       "      <th>94</th>\n",
       "      <td>FIFA 17</td>\n",
       "      <td>PS4</td>\n",
       "      <td>2016</td>\n",
       "      <td>Sports</td>\n",
       "      <td>0.66</td>\n",
       "      <td>5.75</td>\n",
       "      <td>0.08</td>\n",
       "      <td>1.11</td>\n",
       "      <td>8.5</td>\n",
       "      <td>5.0</td>\n",
       "      <td>E</td>\n",
       "      <td>7.60</td>\n",
       "    </tr>\n",
       "    <tr>\n",
       "      <th>99</th>\n",
       "      <td>Call of Duty: Black Ops 3</td>\n",
       "      <td>XOne</td>\n",
       "      <td>2015</td>\n",
       "      <td>Shooter</td>\n",
       "      <td>4.59</td>\n",
       "      <td>2.11</td>\n",
       "      <td>0.01</td>\n",
       "      <td>0.68</td>\n",
       "      <td>NaN</td>\n",
       "      <td>NaN</td>\n",
       "      <td>None</td>\n",
       "      <td>7.39</td>\n",
       "    </tr>\n",
       "    <tr>\n",
       "      <th>105</th>\n",
       "      <td>Fallout 4</td>\n",
       "      <td>PS4</td>\n",
       "      <td>2015</td>\n",
       "      <td>Role-Playing</td>\n",
       "      <td>2.53</td>\n",
       "      <td>3.27</td>\n",
       "      <td>0.24</td>\n",
       "      <td>1.13</td>\n",
       "      <td>8.7</td>\n",
       "      <td>6.5</td>\n",
       "      <td>M</td>\n",
       "      <td>7.17</td>\n",
       "    </tr>\n",
       "    <tr>\n",
       "      <th>108</th>\n",
       "      <td>Pokemon Sun/Moon</td>\n",
       "      <td>3DS</td>\n",
       "      <td>2016</td>\n",
       "      <td>Role-Playing</td>\n",
       "      <td>2.98</td>\n",
       "      <td>1.45</td>\n",
       "      <td>2.26</td>\n",
       "      <td>0.45</td>\n",
       "      <td>NaN</td>\n",
       "      <td>NaN</td>\n",
       "      <td>None</td>\n",
       "      <td>7.14</td>\n",
       "    </tr>\n",
       "    <tr>\n",
       "      <th>171</th>\n",
       "      <td>Uncharted 4: A Thief's End</td>\n",
       "      <td>PS4</td>\n",
       "      <td>2016</td>\n",
       "      <td>Shooter</td>\n",
       "      <td>1.85</td>\n",
       "      <td>2.50</td>\n",
       "      <td>0.19</td>\n",
       "      <td>0.85</td>\n",
       "      <td>9.3</td>\n",
       "      <td>7.9</td>\n",
       "      <td>T</td>\n",
       "      <td>5.39</td>\n",
       "    </tr>\n",
       "    <tr>\n",
       "      <th>231</th>\n",
       "      <td>Uncharted: The Nathan Drake Collection</td>\n",
       "      <td>PS4</td>\n",
       "      <td>2015</td>\n",
       "      <td>Action</td>\n",
       "      <td>2.07</td>\n",
       "      <td>1.71</td>\n",
       "      <td>0.08</td>\n",
       "      <td>0.76</td>\n",
       "      <td>8.6</td>\n",
       "      <td>8.1</td>\n",
       "      <td>T</td>\n",
       "      <td>4.62</td>\n",
       "    </tr>\n",
       "    <tr>\n",
       "      <th>242</th>\n",
       "      <td>Halo 5: Guardians</td>\n",
       "      <td>XOne</td>\n",
       "      <td>2015</td>\n",
       "      <td>Shooter</td>\n",
       "      <td>2.78</td>\n",
       "      <td>1.27</td>\n",
       "      <td>0.03</td>\n",
       "      <td>0.41</td>\n",
       "      <td>8.4</td>\n",
       "      <td>6.4</td>\n",
       "      <td>T</td>\n",
       "      <td>4.49</td>\n",
       "    </tr>\n",
       "  </tbody>\n",
       "</table>\n",
       "</div>"
      ],
      "text/plain": [
       "                                       name platform  year_of_release  \\\n",
       "31                Call of Duty: Black Ops 3      PS4             2015   \n",
       "77                                  FIFA 16      PS4             2015   \n",
       "87             Star Wars Battlefront (2015)      PS4             2015   \n",
       "94                                  FIFA 17      PS4             2016   \n",
       "99                Call of Duty: Black Ops 3     XOne             2015   \n",
       "105                               Fallout 4      PS4             2015   \n",
       "108                        Pokemon Sun/Moon      3DS             2016   \n",
       "171              Uncharted 4: A Thief's End      PS4             2016   \n",
       "231  Uncharted: The Nathan Drake Collection      PS4             2015   \n",
       "242                       Halo 5: Guardians     XOne             2015   \n",
       "\n",
       "            genre  na_sales  eu_sales  jp_sales  other_sales  critic_score  \\\n",
       "31        Shooter      6.03      5.86      0.36         2.38           NaN   \n",
       "77         Sports      1.12      6.12      0.06         1.28           8.2   \n",
       "87        Shooter      2.99      3.49      0.22         1.28           NaN   \n",
       "94         Sports      0.66      5.75      0.08         1.11           8.5   \n",
       "99        Shooter      4.59      2.11      0.01         0.68           NaN   \n",
       "105  Role-Playing      2.53      3.27      0.24         1.13           8.7   \n",
       "108  Role-Playing      2.98      1.45      2.26         0.45           NaN   \n",
       "171       Shooter      1.85      2.50      0.19         0.85           9.3   \n",
       "231        Action      2.07      1.71      0.08         0.76           8.6   \n",
       "242       Shooter      2.78      1.27      0.03         0.41           8.4   \n",
       "\n",
       "     user_score rating  total_sales  \n",
       "31          NaN   None        14.63  \n",
       "77          4.3      E         8.58  \n",
       "87          NaN   None         7.98  \n",
       "94          5.0      E         7.60  \n",
       "99          NaN   None         7.39  \n",
       "105         6.5      M         7.17  \n",
       "108         NaN   None         7.14  \n",
       "171         7.9      T         5.39  \n",
       "231         8.1      T         4.62  \n",
       "242         6.4      T         4.49  "
      ]
     },
     "execution_count": 62,
     "metadata": {},
     "output_type": "execute_result"
    }
   ],
   "source": [
    "actual_df.head(10)"
   ]
  },
  {
   "cell_type": "code",
   "execution_count": 63,
   "metadata": {},
   "outputs": [
    {
     "data": {
      "image/png": "[encoded data removed]",
      "text/plain": [
       "<Figure size 936x432 with 1 Axes>"
      ]
     },
     "metadata": {
      "needs_background": "light"
     },
     "output_type": "display_data"
    }
   ],
   "source": [
    "#рассмотрим актуальные продажи по платформам\n",
    "df_on_period = actual_df.pivot_table(index='platform', values='total_sales', aggfunc='sum').sort_values(by = 'total_sales', \n",
    "                                                                                                        ascending = False)\n",
    "plt.figure(figsize=(13,6))\n",
    "sns.barplot(data = df_on_period, x= df_on_period.index, y= df_on_period['total_sales'])\n",
    "plt.title(\"Продажи по платформам с 2015 года\")\n",
    "plt.xlabel(\"Название платформы\")\n",
    "plt.ylabel(\"Количество продаж\")\n",
    "plt.show()"
   ]
  },
  {
   "cell_type": "markdown",
   "metadata": {},
   "source": [
    "#### По продажам лидируют PS4, XOne и 3DS Так же я бы не стал сбрасывать со счетов рынок PC "
   ]
  },
  {
   "cell_type": "markdown",
   "metadata": {},
   "source": [
    "<div class=\"alert alert-block alert-danger\">\n",
    "<h2> Комментарий ревьюера v2 <a class=\"tocSkip\"></h2>\n",
    "   \n",
    "<b>На доработку🤔:</b>Давай перепроверим по верному акутальному периоду?)"
   ]
  },
  {
   "cell_type": "markdown",
   "metadata": {},
   "source": [
    "<div class=\"alert alert-info\">\n",
    "<b> График продаж по платформам изменился</b> \n",
    "</div>"
   ]
  },
  {
   "cell_type": "code",
   "execution_count": 64,
   "metadata": {},
   "outputs": [
    {
     "data": {
      "text/html": [
       "<div>\n",
       "<style scoped>\n",
       "    .dataframe tbody tr th:only-of-type {\n",
       "        vertical-align: middle;\n",
       "    }\n",
       "\n",
       "    .dataframe tbody tr th {\n",
       "        vertical-align: top;\n",
       "    }\n",
       "\n",
       "    .dataframe thead th {\n",
       "        text-align: right;\n",
       "    }\n",
       "</style>\n",
       "<table border=\"1\" class=\"dataframe\">\n",
       "  <thead>\n",
       "    <tr style=\"text-align: right;\">\n",
       "      <th>platform</th>\n",
       "      <th>3DS</th>\n",
       "      <th>PC</th>\n",
       "      <th>PS3</th>\n",
       "      <th>PS4</th>\n",
       "      <th>PSP</th>\n",
       "      <th>PSV</th>\n",
       "      <th>Wii</th>\n",
       "      <th>WiiU</th>\n",
       "      <th>X360</th>\n",
       "      <th>XOne</th>\n",
       "    </tr>\n",
       "    <tr>\n",
       "      <th>year_of_release</th>\n",
       "      <th></th>\n",
       "      <th></th>\n",
       "      <th></th>\n",
       "      <th></th>\n",
       "      <th></th>\n",
       "      <th></th>\n",
       "      <th></th>\n",
       "      <th></th>\n",
       "      <th></th>\n",
       "      <th></th>\n",
       "    </tr>\n",
       "  </thead>\n",
       "  <tbody>\n",
       "    <tr>\n",
       "      <th>2015</th>\n",
       "      <td>27.78</td>\n",
       "      <td>8.52</td>\n",
       "      <td>16.82</td>\n",
       "      <td>118.90</td>\n",
       "      <td>0.12</td>\n",
       "      <td>6.25</td>\n",
       "      <td>1.14</td>\n",
       "      <td>16.35</td>\n",
       "      <td>11.96</td>\n",
       "      <td>60.14</td>\n",
       "    </tr>\n",
       "    <tr>\n",
       "      <th>2016</th>\n",
       "      <td>15.14</td>\n",
       "      <td>5.25</td>\n",
       "      <td>3.60</td>\n",
       "      <td>69.25</td>\n",
       "      <td>NaN</td>\n",
       "      <td>4.25</td>\n",
       "      <td>0.18</td>\n",
       "      <td>4.60</td>\n",
       "      <td>1.52</td>\n",
       "      <td>26.15</td>\n",
       "    </tr>\n",
       "  </tbody>\n",
       "</table>\n",
       "</div>"
      ],
      "text/plain": [
       "platform           3DS    PC    PS3     PS4   PSP   PSV   Wii   WiiU   X360  \\\n",
       "year_of_release                                                               \n",
       "2015             27.78  8.52  16.82  118.90  0.12  6.25  1.14  16.35  11.96   \n",
       "2016             15.14  5.25   3.60   69.25   NaN  4.25  0.18   4.60   1.52   \n",
       "\n",
       "platform          XOne  \n",
       "year_of_release         \n",
       "2015             60.14  \n",
       "2016             26.15  "
      ]
     },
     "execution_count": 64,
     "metadata": {},
     "output_type": "execute_result"
    }
   ],
   "source": [
    "#Создадим таблицу распределения продаж игр на платформы по годам\n",
    "top_sale = actual_df.pivot_table(index='year_of_release', values='total_sales', columns='platform', aggfunc='sum')\n",
    "top_sale"
   ]
  },
  {
   "cell_type": "code",
   "execution_count": 65,
   "metadata": {},
   "outputs": [
    {
     "data": {
      "image/png": "[encoded data removed]",
      "text/plain": [
       "<Figure size 1440x1152 with 1 Axes>"
      ]
     },
     "metadata": {
      "needs_background": "light"
     },
     "output_type": "display_data"
    }
   ],
   "source": [
    "plt.figure(figsize=(20,16))\n",
    "plt.title('Количество продаж популярных игровых платформ')\n",
    "plt.xlabel('Годы игровых релизов')\n",
    "plt.ylabel('Продажи')\n",
    "sns.lineplot(data= top_sale)\n",
    "plt.legend()\n",
    "plt.show()"
   ]
  },
  {
   "cell_type": "markdown",
   "metadata": {},
   "source": [
    "Количество продаж по всем платформам падает к 2016 году.\n",
    "\n",
    "По графику потенциально прибыльные платформы: 'PS4','XONE','3DS' и 'PC',"
   ]
  },
  {
   "cell_type": "code",
   "execution_count": 66,
   "metadata": {},
   "outputs": [],
   "source": [
    "#Сохраним в переменной list_of_top_6 только последние поколения платформ\n",
    "list_of_top_4 = ['PS4','XOne','PC','3DS']\n",
    "top_4 = actual_df[actual_df['platform'].isin(list_of_top_4)]"
   ]
  },
  {
   "cell_type": "code",
   "execution_count": 67,
   "metadata": {},
   "outputs": [
    {
     "data": {
      "text/html": [
       "<div>\n",
       "<style scoped>\n",
       "    .dataframe tbody tr th:only-of-type {\n",
       "        vertical-align: middle;\n",
       "    }\n",
       "\n",
       "    .dataframe tbody tr th {\n",
       "        vertical-align: top;\n",
       "    }\n",
       "\n",
       "    .dataframe thead th {\n",
       "        text-align: right;\n",
       "    }\n",
       "</style>\n",
       "<table border=\"1\" class=\"dataframe\">\n",
       "  <thead>\n",
       "    <tr style=\"text-align: right;\">\n",
       "      <th></th>\n",
       "      <th>year_of_release</th>\n",
       "      <th>na_sales</th>\n",
       "      <th>eu_sales</th>\n",
       "      <th>jp_sales</th>\n",
       "      <th>other_sales</th>\n",
       "      <th>critic_score</th>\n",
       "      <th>user_score</th>\n",
       "      <th>total_sales</th>\n",
       "    </tr>\n",
       "  </thead>\n",
       "  <tbody>\n",
       "    <tr>\n",
       "      <th>count</th>\n",
       "      <td>704.000000</td>\n",
       "      <td>704.000000</td>\n",
       "      <td>704.000000</td>\n",
       "      <td>704.000000</td>\n",
       "      <td>704.000000</td>\n",
       "      <td>404.000000</td>\n",
       "      <td>428.000000</td>\n",
       "      <td>704.000000</td>\n",
       "    </tr>\n",
       "    <tr>\n",
       "      <th>mean</th>\n",
       "      <td>2015.498580</td>\n",
       "      <td>0.182088</td>\n",
       "      <td>0.182003</td>\n",
       "      <td>0.050824</td>\n",
       "      <td>0.055440</td>\n",
       "      <td>7.316584</td>\n",
       "      <td>6.705607</td>\n",
       "      <td>0.470355</td>\n",
       "    </tr>\n",
       "    <tr>\n",
       "      <th>std</th>\n",
       "      <td>0.500353</td>\n",
       "      <td>0.483913</td>\n",
       "      <td>0.524054</td>\n",
       "      <td>0.194784</td>\n",
       "      <td>0.162985</td>\n",
       "      <td>1.220156</td>\n",
       "      <td>1.525004</td>\n",
       "      <td>1.132785</td>\n",
       "    </tr>\n",
       "    <tr>\n",
       "      <th>min</th>\n",
       "      <td>2015.000000</td>\n",
       "      <td>0.000000</td>\n",
       "      <td>0.000000</td>\n",
       "      <td>0.000000</td>\n",
       "      <td>0.000000</td>\n",
       "      <td>1.900000</td>\n",
       "      <td>1.400000</td>\n",
       "      <td>0.010000</td>\n",
       "    </tr>\n",
       "    <tr>\n",
       "      <th>25%</th>\n",
       "      <td>2015.000000</td>\n",
       "      <td>0.000000</td>\n",
       "      <td>0.000000</td>\n",
       "      <td>0.000000</td>\n",
       "      <td>0.000000</td>\n",
       "      <td>6.700000</td>\n",
       "      <td>6.000000</td>\n",
       "      <td>0.030000</td>\n",
       "    </tr>\n",
       "    <tr>\n",
       "      <th>50%</th>\n",
       "      <td>2015.000000</td>\n",
       "      <td>0.030000</td>\n",
       "      <td>0.035000</td>\n",
       "      <td>0.000000</td>\n",
       "      <td>0.010000</td>\n",
       "      <td>7.400000</td>\n",
       "      <td>7.100000</td>\n",
       "      <td>0.100000</td>\n",
       "    </tr>\n",
       "    <tr>\n",
       "      <th>75%</th>\n",
       "      <td>2016.000000</td>\n",
       "      <td>0.120000</td>\n",
       "      <td>0.130000</td>\n",
       "      <td>0.040000</td>\n",
       "      <td>0.040000</td>\n",
       "      <td>8.100000</td>\n",
       "      <td>7.800000</td>\n",
       "      <td>0.360000</td>\n",
       "    </tr>\n",
       "    <tr>\n",
       "      <th>max</th>\n",
       "      <td>2016.000000</td>\n",
       "      <td>6.030000</td>\n",
       "      <td>6.120000</td>\n",
       "      <td>2.790000</td>\n",
       "      <td>2.380000</td>\n",
       "      <td>9.600000</td>\n",
       "      <td>9.300000</td>\n",
       "      <td>14.630000</td>\n",
       "    </tr>\n",
       "  </tbody>\n",
       "</table>\n",
       "</div>"
      ],
      "text/plain": [
       "       year_of_release    na_sales    eu_sales    jp_sales  other_sales  \\\n",
       "count       704.000000  704.000000  704.000000  704.000000   704.000000   \n",
       "mean       2015.498580    0.182088    0.182003    0.050824     0.055440   \n",
       "std           0.500353    0.483913    0.524054    0.194784     0.162985   \n",
       "min        2015.000000    0.000000    0.000000    0.000000     0.000000   \n",
       "25%        2015.000000    0.000000    0.000000    0.000000     0.000000   \n",
       "50%        2015.000000    0.030000    0.035000    0.000000     0.010000   \n",
       "75%        2016.000000    0.120000    0.130000    0.040000     0.040000   \n",
       "max        2016.000000    6.030000    6.120000    2.790000     2.380000   \n",
       "\n",
       "       critic_score  user_score  total_sales  \n",
       "count    404.000000  428.000000   704.000000  \n",
       "mean       7.316584    6.705607     0.470355  \n",
       "std        1.220156    1.525004     1.132785  \n",
       "min        1.900000    1.400000     0.010000  \n",
       "25%        6.700000    6.000000     0.030000  \n",
       "50%        7.400000    7.100000     0.100000  \n",
       "75%        8.100000    7.800000     0.360000  \n",
       "max        9.600000    9.300000    14.630000  "
      ]
     },
     "execution_count": 67,
     "metadata": {},
     "output_type": "execute_result"
    }
   ],
   "source": [
    "top_4.describe()"
   ]
  },
  {
   "cell_type": "code",
   "execution_count": 68,
   "metadata": {},
   "outputs": [
    {
     "data": {
      "image/png": "[encoded data removed]",
      "text/plain": [
       "<Figure size 864x720 with 1 Axes>"
      ]
     },
     "metadata": {
      "needs_background": "light"
     },
     "output_type": "display_data"
    }
   ],
   "source": [
    "#Отрисуем ящики с усами \n",
    "plt.figure(figsize=(12,10))\n",
    "sns.boxplot(data=top_4, x='platform', y='total_sales')\n",
    "plt.title('Ящик с усами', fontsize=15)\n",
    "plt.xlabel('Платформа', fontsize=12)\n",
    "plt.ylabel('Глобальные продажи',fontsize=12)\n",
    "plt.show()"
   ]
  },
  {
   "cell_type": "markdown",
   "metadata": {},
   "source": [
    "Видно, что график неинформативен и присутствует много выбросов - значения, которые находятся очень далеко от статистически значимой части данных"
   ]
  },
  {
   "cell_type": "code",
   "execution_count": 70,
   "metadata": {},
   "outputs": [
    {
     "data": {
      "image/png": "[encoded data removed]",
      "text/plain": [
       "<Figure size 864x720 with 1 Axes>"
      ]
     },
     "metadata": {
      "needs_background": "light"
     },
     "output_type": "display_data"
    }
   ],
   "source": [
    "#Ограничим данные от выбросов\n",
    "top_4 = top_4[top_4['total_sales'] < 2]\n",
    "plt.figure(figsize=(12,10))\n",
    "sns.boxplot(data=top_4, x='platform', y='total_sales')\n",
    "plt.title('Ящик с усами', fontsize=15)\n",
    "plt.xlabel('Платформа', fontsize=12)\n",
    "plt.ylabel('Глобальные продажи',fontsize=12)\n",
    "plt.show()"
   ]
  },
  {
   "cell_type": "markdown",
   "metadata": {},
   "source": [
    "* Исходя из графиков видно, что медиана протекает у всех по разному.\n",
    "* Больше всех продаж у XOne, затем PS4, потом 3DS и PC на последнем месте.\n",
    "* Успех xone можно попробовать объяснить тем, что это последняя из вышедших платформ"
   ]
  },
  {
   "cell_type": "markdown",
   "metadata": {},
   "source": [
    "<div class=\"alert alert-warning\">\n",
    "    <h2> Комментарий ревьюера v2 <a class=\"tocSkip\"> </h2>\n",
    "    \n",
    "<b>Небольшие замечания и рекомендации💡:</b>Частично согласен, но давай перепроверим)"
   ]
  },
  {
   "cell_type": "markdown",
   "metadata": {},
   "source": [
    "<div class=\"alert alert-info\">\n",
    "<b>Логично что с изменением списка топ платформ, изменится и общая картина продаж</b> \n",
    "</div>"
   ]
  },
  {
   "cell_type": "code",
   "execution_count": 71,
   "metadata": {},
   "outputs": [],
   "source": [
    "#Выделим одну популярную платформу\n",
    "xone = actual_df[actual_df['platform'] == 'XOne']"
   ]
  },
  {
   "cell_type": "code",
   "execution_count": 72,
   "metadata": {},
   "outputs": [
    {
     "data": {
      "image/png": "[encoded data removed]",
      "text/plain": [
       "<Figure size 864x432 with 1 Axes>"
      ]
     },
     "metadata": {
      "needs_background": "light"
     },
     "output_type": "display_data"
    }
   ],
   "source": [
    "#Построим диаграмму рассеяния\n",
    "plt.figure(figsize=(12,6))\n",
    "sns.scatterplot(x='user_score', y='total_sales', data=xone)\n",
    "plt.title('corr_xone_users')\n",
    "plt.xlabel('Оценка пользователя', fontsize=12)\n",
    "plt.ylabel('Количество продаж',fontsize=12)\n",
    "plt.show()"
   ]
  },
  {
   "cell_type": "code",
   "execution_count": 73,
   "metadata": {},
   "outputs": [
    {
     "data": {
      "text/plain": [
       "-0.04146733387366271"
      ]
     },
     "execution_count": 73,
     "metadata": {},
     "output_type": "execute_result"
    }
   ],
   "source": [
    "#Корреляция между оценками пользователей и продажами \n",
    "xone['user_score'].corr(xone['total_sales'])"
   ]
  },
  {
   "cell_type": "markdown",
   "metadata": {},
   "source": [
    "Для xone корреляции между оценками пользователей и продажами нет"
   ]
  },
  {
   "cell_type": "code",
   "execution_count": 74,
   "metadata": {},
   "outputs": [
    {
     "data": {
      "image/png": "[encoded data removed]",
      "text/plain": [
       "<Figure size 864x432 with 1 Axes>"
      ]
     },
     "metadata": {
      "needs_background": "light"
     },
     "output_type": "display_data"
    }
   ],
   "source": [
    "#Построим диаграмму рассеяния\n",
    "plt.figure(figsize=(12,6))\n",
    "sns.scatterplot(x='critic_score', y='total_sales', data=xone)\n",
    "plt.title('corr_xone_critic')\n",
    "plt.xlabel('Оценка критиков', fontsize=12)\n",
    "plt.ylabel('Количество продаж',fontsize=12)\n",
    "plt.show()"
   ]
  },
  {
   "cell_type": "code",
   "execution_count": 75,
   "metadata": {},
   "outputs": [
    {
     "data": {
      "text/plain": [
       "0.43088874582136777"
      ]
     },
     "execution_count": 75,
     "metadata": {},
     "output_type": "execute_result"
    }
   ],
   "source": [
    "#Корреляция между оценками пользователей и продажами \n",
    "xone['critic_score'].corr(xone['total_sales'])"
   ]
  },
  {
   "cell_type": "markdown",
   "metadata": {},
   "source": [
    "Для xone корреляция между оценками пользователей и продажами: чем выше оценка критиков, тем больше продаж"
   ]
  },
  {
   "cell_type": "code",
   "execution_count": 76,
   "metadata": {},
   "outputs": [],
   "source": [
    "#Напишем функцию, которая будет отрисовывать графики рассеивания и считать корреляции\n",
    "def other_platform_matrix(name_of_platform):\n",
    "    platform = actual_df[actual_df['platform'] == name_of_platform]\n",
    "    fig, ax = plt.subplots(1 ,2, figsize=(15,5))\n",
    "    sns.scatterplot(x='user_score', y='total_sales', data=platform, ax=ax[0])\n",
    "    sns.scatterplot(x='critic_score', y='total_sales', data=platform, ax=ax[1])\n",
    "    fig.suptitle(name_of_platform, fontsize=15)\n",
    "    ax[0].set(xlabel='Оценка пользователей')\n",
    "    ax[1].set(xlabel='Оценка критиков')\n",
    "    ax[0].set(ylabel='Количество продаж')\n",
    "    ax[1].set(ylabel='Количество продаж')\n",
    "    plt.show()\n",
    "    \n",
    "    correl = platform['user_score'].corr(platform['total_sales'])\n",
    "    critic_correl = platform['critic_score'].corr(platform['total_sales'])\n",
    "    \n",
    "    \n",
    "    if -0.4 <= critic_correl <= 0.4:\n",
    "        print('Корреляция между отзывами критиков и продажами для платформы ', name_of_platform.upper(), ': Корреляция не выявлена', critic_correl)\n",
    "    if  0.4 < critic_correl <= 0.7:\n",
    "        print('Корреляция между отзывами критиков и продажами для платформы ', name_of_platform.upper(), ': Слабая', critic_correl)\n",
    "    if  critic_correl > 0.7:\n",
    "        print('Корреляция между отзывами критиков и продажами для платформы ', name_of_platform.upper(), ': Сильная', critic_correl)\n",
    "    if -0.4 > critic_correl >= -0.7:\n",
    "        print('Корреляция между отзывами критиков и продажами для платформы ', name_of_platform.upper(), ': Слабая', critic_correl)\n",
    "    if -0.7 > critic_correl:\n",
    "        print('Корреляция между отзывами критиков и продажами для платформы ', name_of_platform.upper(), ': Сильная', critic_correl)\n",
    "    \n",
    "    if -0.4 <= correl <= 0.4:\n",
    "        print('Корреляция между отзывами пользователей и игровой платформой ', name_of_platform.upper(), ': Корреляция не выявлена', correl)\n",
    "    if  0.4 < correl <= 0.7:\n",
    "        print('Корреляция между отзывами пользователей и игровой платформой ', name_of_platform.upper(), ': Слабая', correl)\n",
    "    if  correl > 0.7:\n",
    "        print('Корреляция между отзывами пользователей и игровой платформой ', name_of_platform.upper(), ': Сильная', correl)\n",
    "    if -0.4 > correl >= -0.7:\n",
    "        print('Корреляция между отзывами пользователей и игровой платформой ', name_of_platform.upper(), ': Слабая', correl)\n",
    "    if -0.7 > correl:\n",
    "        print('Корреляция между отзывами пользователей и игровой платформой ', name_of_platform.upper(), ': Сильная', correl)\n",
    "    \n",
    "    print('\\n')"
   ]
  },
  {
   "cell_type": "code",
   "execution_count": 77,
   "metadata": {},
   "outputs": [
    {
     "data": {
      "image/png": "[encoded data removed]",
      "text/plain": [
       "<Figure size 1080x360 with 2 Axes>"
      ]
     },
     "metadata": {
      "needs_background": "light"
     },
     "output_type": "display_data"
    },
    {
     "name": "stdout",
     "output_type": "stream",
     "text": [
      "Корреляция между отзывами критиков и продажами для платформы  PS4 : Корреляция не выявлена 0.39284855551305964\n",
      "Корреляция между отзывами пользователей и игровой платформой  PS4 : Корреляция не выявлена -0.05973845712638215\n",
      "\n",
      "\n"
     ]
    },
    {
     "data": {
      "image/png": "[encoded data removed]",
      "text/plain": [
       "<Figure size 1080x360 with 2 Axes>"
      ]
     },
     "metadata": {
      "needs_background": "light"
     },
     "output_type": "display_data"
    },
    {
     "name": "stdout",
     "output_type": "stream",
     "text": [
      "Корреляция между отзывами критиков и продажами для платформы  XONE : Слабая 0.43088874582136777\n",
      "Корреляция между отзывами пользователей и игровой платформой  XONE : Корреляция не выявлена -0.04146733387366271\n",
      "\n",
      "\n"
     ]
    },
    {
     "data": {
      "image/png": "[encoded data removed]",
      "text/plain": [
       "<Figure size 1080x360 with 2 Axes>"
      ]
     },
     "metadata": {
      "needs_background": "light"
     },
     "output_type": "display_data"
    },
    {
     "name": "stdout",
     "output_type": "stream",
     "text": [
      "Корреляция между отзывами критиков и продажами для платформы  PC : Корреляция не выявлена 0.3773317477241349\n",
      "Корреляция между отзывами пользователей и игровой платформой  PC : Корреляция не выявлена 0.15038053045029076\n",
      "\n",
      "\n"
     ]
    },
    {
     "data": {
      "image/png": "[encoded data removed]",
      "text/plain": [
       "<Figure size 1080x360 with 2 Axes>"
      ]
     },
     "metadata": {
      "needs_background": "light"
     },
     "output_type": "display_data"
    },
    {
     "name": "stdout",
     "output_type": "stream",
     "text": [
      "Корреляция между отзывами критиков и продажами для платформы  3DS : Корреляция не выявлена 0.17757455046092865\n",
      "Корреляция между отзывами пользователей и игровой платформой  3DS : Корреляция не выявлена 0.19879627008102982\n",
      "\n",
      "\n"
     ]
    }
   ],
   "source": [
    "for i in list_of_top_4:\n",
    "    other_platform_matrix(i)"
   ]
  },
  {
   "cell_type": "markdown",
   "metadata": {},
   "source": [
    "У PS4, Xbox One и PC наблюдается пусть и не сильная, но всё же, связь между оценками критиков и продажами. У 3DS же связь между оценками критиков и продажами отсутствует. Cвязь между оценками пользователей и продажами практически отсутсвует у всех платформ. Это говорит о том, что оценка критиков хоть влияет на продажи у PS4, Xbox One и PC и совершенно не влияет на 3DS. "
   ]
  },
  {
   "cell_type": "markdown",
   "metadata": {},
   "source": [
    "<div class=\"alert alert-warning\">\n",
    "    <h2> Комментарий ревьюера v2 <a class=\"tocSkip\"> </h2>\n",
    "    \n",
    "<b>Небольшие замечания и рекомендации💡:</b> По зависимостям согласен, но следует перепроверить  по актуальному периду)"
   ]
  },
  {
   "cell_type": "markdown",
   "metadata": {},
   "source": [
    "<div class=\"alert alert-info\">\n",
    "<b>Выводы и графики изменены под новые актуальные данные</b> \n",
    "</div>"
   ]
  },
  {
   "cell_type": "code",
   "execution_count": 78,
   "metadata": {},
   "outputs": [],
   "source": [
    "def genre(ind, value, func, label):\n",
    "    genre_tbl = actual_df.pivot_table(index=ind, values=value, aggfunc=func).sort_values(by ='total_sales', ascending = False).reset_index()\n",
    "    plt.figure(figsize=(12,6))\n",
    "    plt.title('Распределение игр по жанрам ',fontsize=15)\n",
    "    sns.barplot(data=genre_tbl, x=ind, y=value)\n",
    "    plt.xlabel('Жанры игр',fontsize=12)\n",
    "    plt.ylabel(label,fontsize=12)\n",
    "    plt.show()"
   ]
  },
  {
   "cell_type": "code",
   "execution_count": 79,
   "metadata": {},
   "outputs": [
    {
     "data": {
      "image/png": "[encoded data removed]",
      "text/plain": [
       "<Figure size 864x432 with 1 Axes>"
      ]
     },
     "metadata": {
      "needs_background": "light"
     },
     "output_type": "display_data"
    }
   ],
   "source": [
    "#Суммарные продажи для каждого жанра\n",
    "genre('genre', 'total_sales', 'sum', 'Суммарные продажи')"
   ]
  },
  {
   "cell_type": "code",
   "execution_count": 80,
   "metadata": {},
   "outputs": [
    {
     "data": {
      "image/png": "[encoded data removed]",
      "text/plain": [
       "<Figure size 864x432 with 1 Axes>"
      ]
     },
     "metadata": {
      "needs_background": "light"
     },
     "output_type": "display_data"
    }
   ],
   "source": [
    "#Количество продаж для каждого жанра\n",
    "genre('genre', 'total_sales', 'count', 'Количество продаж')"
   ]
  },
  {
   "cell_type": "code",
   "execution_count": 81,
   "metadata": {},
   "outputs": [
    {
     "data": {
      "image/png": "[encoded data removed]",
      "text/plain": [
       "<Figure size 864x432 with 1 Axes>"
      ]
     },
     "metadata": {
      "needs_background": "light"
     },
     "output_type": "display_data"
    }
   ],
   "source": [
    "#Средние продажи для каждого жанра\n",
    "genre('genre', 'total_sales', 'mean', 'Среднее продаж')"
   ]
  },
  {
   "cell_type": "code",
   "execution_count": 82,
   "metadata": {},
   "outputs": [
    {
     "data": {
      "text/html": [
       "<div>\n",
       "<style scoped>\n",
       "    .dataframe tbody tr th:only-of-type {\n",
       "        vertical-align: middle;\n",
       "    }\n",
       "\n",
       "    .dataframe tbody tr th {\n",
       "        vertical-align: top;\n",
       "    }\n",
       "\n",
       "    .dataframe thead th {\n",
       "        text-align: right;\n",
       "    }\n",
       "</style>\n",
       "<table border=\"1\" class=\"dataframe\">\n",
       "  <thead>\n",
       "    <tr style=\"text-align: right;\">\n",
       "      <th></th>\n",
       "      <th>genre</th>\n",
       "      <th>sum</th>\n",
       "      <th>count</th>\n",
       "      <th>mean</th>\n",
       "    </tr>\n",
       "  </thead>\n",
       "  <tbody>\n",
       "    <tr>\n",
       "      <th>8</th>\n",
       "      <td>Shooter</td>\n",
       "      <td>105.73</td>\n",
       "      <td>81</td>\n",
       "      <td>1.305309</td>\n",
       "    </tr>\n",
       "    <tr>\n",
       "      <th>10</th>\n",
       "      <td>Sports</td>\n",
       "      <td>64.33</td>\n",
       "      <td>107</td>\n",
       "      <td>0.601215</td>\n",
       "    </tr>\n",
       "    <tr>\n",
       "      <th>7</th>\n",
       "      <td>Role-Playing</td>\n",
       "      <td>55.82</td>\n",
       "      <td>132</td>\n",
       "      <td>0.422879</td>\n",
       "    </tr>\n",
       "    <tr>\n",
       "      <th>2</th>\n",
       "      <td>Fighting</td>\n",
       "      <td>12.37</td>\n",
       "      <td>37</td>\n",
       "      <td>0.334324</td>\n",
       "    </tr>\n",
       "    <tr>\n",
       "      <th>4</th>\n",
       "      <td>Platform</td>\n",
       "      <td>9.28</td>\n",
       "      <td>28</td>\n",
       "      <td>0.331429</td>\n",
       "    </tr>\n",
       "    <tr>\n",
       "      <th>6</th>\n",
       "      <td>Racing</td>\n",
       "      <td>10.86</td>\n",
       "      <td>42</td>\n",
       "      <td>0.258571</td>\n",
       "    </tr>\n",
       "    <tr>\n",
       "      <th>0</th>\n",
       "      <td>Action</td>\n",
       "      <td>102.13</td>\n",
       "      <td>431</td>\n",
       "      <td>0.236961</td>\n",
       "    </tr>\n",
       "    <tr>\n",
       "      <th>9</th>\n",
       "      <td>Simulation</td>\n",
       "      <td>7.55</td>\n",
       "      <td>33</td>\n",
       "      <td>0.228788</td>\n",
       "    </tr>\n",
       "    <tr>\n",
       "      <th>3</th>\n",
       "      <td>Misc</td>\n",
       "      <td>14.17</td>\n",
       "      <td>71</td>\n",
       "      <td>0.199577</td>\n",
       "    </tr>\n",
       "    <tr>\n",
       "      <th>1</th>\n",
       "      <td>Adventure</td>\n",
       "      <td>11.98</td>\n",
       "      <td>110</td>\n",
       "      <td>0.108909</td>\n",
       "    </tr>\n",
       "    <tr>\n",
       "      <th>5</th>\n",
       "      <td>Puzzle</td>\n",
       "      <td>0.72</td>\n",
       "      <td>7</td>\n",
       "      <td>0.102857</td>\n",
       "    </tr>\n",
       "    <tr>\n",
       "      <th>11</th>\n",
       "      <td>Strategy</td>\n",
       "      <td>2.98</td>\n",
       "      <td>29</td>\n",
       "      <td>0.102759</td>\n",
       "    </tr>\n",
       "  </tbody>\n",
       "</table>\n",
       "</div>"
      ],
      "text/plain": [
       "           genre     sum  count      mean\n",
       "8        Shooter  105.73     81  1.305309\n",
       "10        Sports   64.33    107  0.601215\n",
       "7   Role-Playing   55.82    132  0.422879\n",
       "2       Fighting   12.37     37  0.334324\n",
       "4       Platform    9.28     28  0.331429\n",
       "6         Racing   10.86     42  0.258571\n",
       "0         Action  102.13    431  0.236961\n",
       "9     Simulation    7.55     33  0.228788\n",
       "3           Misc   14.17     71  0.199577\n",
       "1      Adventure   11.98    110  0.108909\n",
       "5         Puzzle    0.72      7  0.102857\n",
       "11      Strategy    2.98     29  0.102759"
      ]
     },
     "execution_count": 82,
     "metadata": {},
     "output_type": "execute_result"
    }
   ],
   "source": [
    "genre_tbl = actual_df.pivot_table(index='genre', values='total_sales', aggfunc=['sum', 'count', 'mean']).reset_index()\n",
    "genre_tbl.columns = ['genre', 'sum', 'count', 'mean']\n",
    "genre_tbl.sort_values(by = 'mean', ascending = False)"
   ]
  },
  {
   "cell_type": "markdown",
   "metadata": {},
   "source": [
    "* Больше всего суммарных продаж у жанра action, меньше всего puzzle\n",
    "* Самое большое количество продаж у жанра action, меньше всего puzzle\n",
    "* Среднее по продажам больше всего у жанра shooter, меньше всех у strategy"
   ]
  },
  {
   "cell_type": "markdown",
   "metadata": {},
   "source": [
    "<div class=\"alert alert-success\">\n",
    "<h2> Комментарий ревьюера v2 <a class=\"tocSkip\"> </h2>\n",
    "\n",
    "<b>Все супер!👍:</b> Отлично! Молодец, что рассмотрел средние продажи)"
   ]
  },
  {
   "cell_type": "markdown",
   "metadata": {},
   "source": [
    "<div class=\"alert alert-info\">\n",
    "<b>Пересмотрен вывод на основании новых данных</b> \n",
    "</div>"
   ]
  },
  {
   "cell_type": "markdown",
   "metadata": {},
   "source": [
    "### Вывод:"
   ]
  },
  {
   "cell_type": "markdown",
   "metadata": {},
   "source": [
    "* Количество игр на игровые приставки и компьютеры начало расти с большой скоростью с 90х годов до 2008 года. С 2008 года, после того как массово начали создавать мобильные приложения и мобильные игры, произошел резкий спад разработок игр на игровые платформы.\n",
    "* Самые популярные игровые платформы за весь период : Sony PlayStation 2, Xbox 360, Sony Playstation 3, Nintendo WII, Nintendo DS, Sony Playstation.\n",
    "* Средняя жизнь игровой платформы составляет 8-10 лет. Пик продаж наступает примерно через 5 лет после выхода приставки.\n",
    "* Больше всего было продано игр на Sony Playstation и Xbox 360.\n",
    "* У анализируемых нами платформ наблюдается слабая взаимосвязь между продажами и оценками критиков. Пользовательские же оценки почти не играют значимой роли. Это значит, что игроки прислушиваются к мнению критиков, но решающим фактором покупки это не является\n",
    "* Больше всего суммарных продаж у жанра action, меньше всего puzzle\n",
    "* Самое большое количество продаж у жанра action, меньше всего puzzle\n",
    "* Среднее по продажам больше всего у жанра shooter, меньше всех у strategy"
   ]
  },
  {
   "cell_type": "markdown",
   "metadata": {},
   "source": [
    "<div class=\"alert alert-block alert-danger\">\n",
    "<h2> Комментарий ревьюера v2 <a class=\"tocSkip\"></h2>\n",
    "   \n",
    "<b>На доработку🤔:</b>Доработаем вывод после исправления замечаний"
   ]
  },
  {
   "cell_type": "markdown",
   "metadata": {},
   "source": [
    "<div class=\"alert alert-info\">\n",
    "<b>Пересмотрен общий вывод на основании новых данных</b> \n",
    "</div>"
   ]
  },
  {
   "cell_type": "markdown",
   "metadata": {},
   "source": [
    "## Портрет пользователя каждого региона"
   ]
  },
  {
   "cell_type": "code",
   "execution_count": 83,
   "metadata": {},
   "outputs": [],
   "source": [
    "# Напишем функцию которая выведет свобные таблицы и графики\n",
    "# Сначала рассмотрим данные за актуальный период, затем за 2016 год\n",
    "def user_portrait(region, title):\n",
    "    for i in ['platform', 'genre', 'rating']:\n",
    "        if title in ['Северная Америка', 'Европа', 'Япония']:\n",
    "            top = actual_df.pivot_table(index=i, values=region, aggfunc = 'sum').sort_values(by=region, ascending = False).reset_index().head(5)\n",
    "            display(top)\n",
    "            plt.figure(figsize=(6,3))\n",
    "            plt.title(title ,fontsize=15)\n",
    "            sns.barplot(data=top, x=i, y=region)\n",
    "            plt.xlabel(i,fontsize=12)\n",
    "            plt.ylabel('Продажи',fontsize=12)"
   ]
  },
  {
   "cell_type": "markdown",
   "metadata": {},
   "source": [
    "### Портрет пользователя Северной Америки"
   ]
  },
  {
   "cell_type": "code",
   "execution_count": 84,
   "metadata": {},
   "outputs": [
    {
     "data": {
      "text/html": [
       "<div>\n",
       "<style scoped>\n",
       "    .dataframe tbody tr th:only-of-type {\n",
       "        vertical-align: middle;\n",
       "    }\n",
       "\n",
       "    .dataframe tbody tr th {\n",
       "        vertical-align: top;\n",
       "    }\n",
       "\n",
       "    .dataframe thead th {\n",
       "        text-align: right;\n",
       "    }\n",
       "</style>\n",
       "<table border=\"1\" class=\"dataframe\">\n",
       "  <thead>\n",
       "    <tr style=\"text-align: right;\">\n",
       "      <th></th>\n",
       "      <th>platform</th>\n",
       "      <th>na_sales</th>\n",
       "    </tr>\n",
       "  </thead>\n",
       "  <tbody>\n",
       "    <tr>\n",
       "      <th>0</th>\n",
       "      <td>PS4</td>\n",
       "      <td>63.86</td>\n",
       "    </tr>\n",
       "    <tr>\n",
       "      <th>1</th>\n",
       "      <td>XOne</td>\n",
       "      <td>50.30</td>\n",
       "    </tr>\n",
       "    <tr>\n",
       "      <th>2</th>\n",
       "      <td>3DS</td>\n",
       "      <td>10.31</td>\n",
       "    </tr>\n",
       "    <tr>\n",
       "      <th>3</th>\n",
       "      <td>WiiU</td>\n",
       "      <td>8.86</td>\n",
       "    </tr>\n",
       "    <tr>\n",
       "      <th>4</th>\n",
       "      <td>X360</td>\n",
       "      <td>8.05</td>\n",
       "    </tr>\n",
       "  </tbody>\n",
       "</table>\n",
       "</div>"
      ],
      "text/plain": [
       "  platform  na_sales\n",
       "0      PS4     63.86\n",
       "1     XOne     50.30\n",
       "2      3DS     10.31\n",
       "3     WiiU      8.86\n",
       "4     X360      8.05"
      ]
     },
     "metadata": {},
     "output_type": "display_data"
    },
    {
     "data": {
      "text/html": [
       "<div>\n",
       "<style scoped>\n",
       "    .dataframe tbody tr th:only-of-type {\n",
       "        vertical-align: middle;\n",
       "    }\n",
       "\n",
       "    .dataframe tbody tr th {\n",
       "        vertical-align: top;\n",
       "    }\n",
       "\n",
       "    .dataframe thead th {\n",
       "        text-align: right;\n",
       "    }\n",
       "</style>\n",
       "<table border=\"1\" class=\"dataframe\">\n",
       "  <thead>\n",
       "    <tr style=\"text-align: right;\">\n",
       "      <th></th>\n",
       "      <th>genre</th>\n",
       "      <th>na_sales</th>\n",
       "    </tr>\n",
       "  </thead>\n",
       "  <tbody>\n",
       "    <tr>\n",
       "      <th>0</th>\n",
       "      <td>Shooter</td>\n",
       "      <td>48.18</td>\n",
       "    </tr>\n",
       "    <tr>\n",
       "      <th>1</th>\n",
       "      <td>Action</td>\n",
       "      <td>33.68</td>\n",
       "    </tr>\n",
       "    <tr>\n",
       "      <th>2</th>\n",
       "      <td>Sports</td>\n",
       "      <td>26.31</td>\n",
       "    </tr>\n",
       "    <tr>\n",
       "      <th>3</th>\n",
       "      <td>Role-Playing</td>\n",
       "      <td>19.82</td>\n",
       "    </tr>\n",
       "    <tr>\n",
       "      <th>4</th>\n",
       "      <td>Misc</td>\n",
       "      <td>5.58</td>\n",
       "    </tr>\n",
       "  </tbody>\n",
       "</table>\n",
       "</div>"
      ],
      "text/plain": [
       "          genre  na_sales\n",
       "0       Shooter     48.18\n",
       "1        Action     33.68\n",
       "2        Sports     26.31\n",
       "3  Role-Playing     19.82\n",
       "4          Misc      5.58"
      ]
     },
     "metadata": {},
     "output_type": "display_data"
    },
    {
     "data": {
      "text/html": [
       "<div>\n",
       "<style scoped>\n",
       "    .dataframe tbody tr th:only-of-type {\n",
       "        vertical-align: middle;\n",
       "    }\n",
       "\n",
       "    .dataframe tbody tr th {\n",
       "        vertical-align: top;\n",
       "    }\n",
       "\n",
       "    .dataframe thead th {\n",
       "        text-align: right;\n",
       "    }\n",
       "</style>\n",
       "<table border=\"1\" class=\"dataframe\">\n",
       "  <thead>\n",
       "    <tr style=\"text-align: right;\">\n",
       "      <th></th>\n",
       "      <th>rating</th>\n",
       "      <th>na_sales</th>\n",
       "    </tr>\n",
       "  </thead>\n",
       "  <tbody>\n",
       "    <tr>\n",
       "      <th>0</th>\n",
       "      <td>M</td>\n",
       "      <td>50.88</td>\n",
       "    </tr>\n",
       "    <tr>\n",
       "      <th>1</th>\n",
       "      <td>None</td>\n",
       "      <td>32.01</td>\n",
       "    </tr>\n",
       "    <tr>\n",
       "      <th>2</th>\n",
       "      <td>E</td>\n",
       "      <td>26.66</td>\n",
       "    </tr>\n",
       "    <tr>\n",
       "      <th>3</th>\n",
       "      <td>T</td>\n",
       "      <td>23.92</td>\n",
       "    </tr>\n",
       "    <tr>\n",
       "      <th>4</th>\n",
       "      <td>E10+</td>\n",
       "      <td>18.32</td>\n",
       "    </tr>\n",
       "  </tbody>\n",
       "</table>\n",
       "</div>"
      ],
      "text/plain": [
       "  rating  na_sales\n",
       "0      M     50.88\n",
       "1   None     32.01\n",
       "2      E     26.66\n",
       "3      T     23.92\n",
       "4   E10+     18.32"
      ]
     },
     "metadata": {},
     "output_type": "display_data"
    },
    {
     "data": {
      "image/png": "[encoded data removed]",
      "text/plain": [
       "<Figure size 432x216 with 1 Axes>"
      ]
     },
     "metadata": {
      "needs_background": "light"
     },
     "output_type": "display_data"
    },
    {
     "data": {
      "image/png": "[encoded data removed]",
      "text/plain": [
       "<Figure size 432x216 with 1 Axes>"
      ]
     },
     "metadata": {
      "needs_background": "light"
     },
     "output_type": "display_data"
    },
    {
     "data": {
      "image/png": "[encoded data removed]",
      "text/plain": [
       "<Figure size 432x216 with 1 Axes>"
      ]
     },
     "metadata": {
      "needs_background": "light"
     },
     "output_type": "display_data"
    }
   ],
   "source": [
    "user_portrait('na_sales', 'Северная Америка')"
   ]
  },
  {
   "cell_type": "markdown",
   "metadata": {},
   "source": [
    "#### Вывод по североамериканскому рынку: \n",
    "\n",
    "\n",
    "\n",
    "* Самые популярные игровые платформы в Северной Америке за актуальный период это: PS4 и XOne. Платформы 3DS, WiiU и X360 хоть и присутсвуют на рынке, но даже их суммарная доля слишком мала\n",
    "* Топ 5 жанров в Северной Америке за актуальный период: shooter, action, sports, role-playing, misc.\n",
    "* По рейтингам видно, что больше всего продаж за актуальный период у игр с рейтингом \"от 17 и выше\", на втором месте игры без рейтинга и на третьем месте игры для всех."
   ]
  },
  {
   "cell_type": "markdown",
   "metadata": {},
   "source": [
    "<div class=\"alert alert-block alert-danger\">\n",
    "<h2> Комментарий ревьюера v2 <a class=\"tocSkip\"></h2>\n",
    "   \n",
    "<b>На доработку🤔:</b> Тут можно рассмотреть только верный акутальный период) Перепроверим "
   ]
  },
  {
   "cell_type": "markdown",
   "metadata": {},
   "source": [
    "<div class=\"alert alert-info\">\n",
    "<b>Сделано</b> \n",
    "</div>"
   ]
  },
  {
   "cell_type": "markdown",
   "metadata": {},
   "source": [
    "### Портрет европейского пользователя"
   ]
  },
  {
   "cell_type": "code",
   "execution_count": 87,
   "metadata": {},
   "outputs": [
    {
     "data": {
      "text/html": [
       "<div>\n",
       "<style scoped>\n",
       "    .dataframe tbody tr th:only-of-type {\n",
       "        vertical-align: middle;\n",
       "    }\n",
       "\n",
       "    .dataframe tbody tr th {\n",
       "        vertical-align: top;\n",
       "    }\n",
       "\n",
       "    .dataframe thead th {\n",
       "        text-align: right;\n",
       "    }\n",
       "</style>\n",
       "<table border=\"1\" class=\"dataframe\">\n",
       "  <thead>\n",
       "    <tr style=\"text-align: right;\">\n",
       "      <th></th>\n",
       "      <th>platform</th>\n",
       "      <th>eu_sales</th>\n",
       "    </tr>\n",
       "  </thead>\n",
       "  <tbody>\n",
       "    <tr>\n",
       "      <th>0</th>\n",
       "      <td>PS4</td>\n",
       "      <td>83.54</td>\n",
       "    </tr>\n",
       "    <tr>\n",
       "      <th>1</th>\n",
       "      <td>XOne</td>\n",
       "      <td>28.10</td>\n",
       "    </tr>\n",
       "    <tr>\n",
       "      <th>2</th>\n",
       "      <td>PC</td>\n",
       "      <td>9.10</td>\n",
       "    </tr>\n",
       "    <tr>\n",
       "      <th>3</th>\n",
       "      <td>3DS</td>\n",
       "      <td>7.39</td>\n",
       "    </tr>\n",
       "    <tr>\n",
       "      <th>4</th>\n",
       "      <td>PS3</td>\n",
       "      <td>7.30</td>\n",
       "    </tr>\n",
       "  </tbody>\n",
       "</table>\n",
       "</div>"
      ],
      "text/plain": [
       "  platform  eu_sales\n",
       "0      PS4     83.54\n",
       "1     XOne     28.10\n",
       "2       PC      9.10\n",
       "3      3DS      7.39\n",
       "4      PS3      7.30"
      ]
     },
     "metadata": {},
     "output_type": "display_data"
    },
    {
     "data": {
      "text/html": [
       "<div>\n",
       "<style scoped>\n",
       "    .dataframe tbody tr th:only-of-type {\n",
       "        vertical-align: middle;\n",
       "    }\n",
       "\n",
       "    .dataframe tbody tr th {\n",
       "        vertical-align: top;\n",
       "    }\n",
       "\n",
       "    .dataframe thead th {\n",
       "        text-align: right;\n",
       "    }\n",
       "</style>\n",
       "<table border=\"1\" class=\"dataframe\">\n",
       "  <thead>\n",
       "    <tr style=\"text-align: right;\">\n",
       "      <th></th>\n",
       "      <th>genre</th>\n",
       "      <th>eu_sales</th>\n",
       "    </tr>\n",
       "  </thead>\n",
       "  <tbody>\n",
       "    <tr>\n",
       "      <th>0</th>\n",
       "      <td>Shooter</td>\n",
       "      <td>40.28</td>\n",
       "    </tr>\n",
       "    <tr>\n",
       "      <th>1</th>\n",
       "      <td>Action</td>\n",
       "      <td>34.82</td>\n",
       "    </tr>\n",
       "    <tr>\n",
       "      <th>2</th>\n",
       "      <td>Sports</td>\n",
       "      <td>27.82</td>\n",
       "    </tr>\n",
       "    <tr>\n",
       "      <th>3</th>\n",
       "      <td>Role-Playing</td>\n",
       "      <td>17.21</td>\n",
       "    </tr>\n",
       "    <tr>\n",
       "      <th>4</th>\n",
       "      <td>Racing</td>\n",
       "      <td>6.52</td>\n",
       "    </tr>\n",
       "  </tbody>\n",
       "</table>\n",
       "</div>"
      ],
      "text/plain": [
       "          genre  eu_sales\n",
       "0       Shooter     40.28\n",
       "1        Action     34.82\n",
       "2        Sports     27.82\n",
       "3  Role-Playing     17.21\n",
       "4        Racing      6.52"
      ]
     },
     "metadata": {},
     "output_type": "display_data"
    },
    {
     "data": {
      "text/html": [
       "<div>\n",
       "<style scoped>\n",
       "    .dataframe tbody tr th:only-of-type {\n",
       "        vertical-align: middle;\n",
       "    }\n",
       "\n",
       "    .dataframe tbody tr th {\n",
       "        vertical-align: top;\n",
       "    }\n",
       "\n",
       "    .dataframe thead th {\n",
       "        text-align: right;\n",
       "    }\n",
       "</style>\n",
       "<table border=\"1\" class=\"dataframe\">\n",
       "  <thead>\n",
       "    <tr style=\"text-align: right;\">\n",
       "      <th></th>\n",
       "      <th>rating</th>\n",
       "      <th>eu_sales</th>\n",
       "    </tr>\n",
       "  </thead>\n",
       "  <tbody>\n",
       "    <tr>\n",
       "      <th>0</th>\n",
       "      <td>M</td>\n",
       "      <td>49.96</td>\n",
       "    </tr>\n",
       "    <tr>\n",
       "      <th>1</th>\n",
       "      <td>E</td>\n",
       "      <td>35.03</td>\n",
       "    </tr>\n",
       "    <tr>\n",
       "      <th>2</th>\n",
       "      <td>None</td>\n",
       "      <td>29.29</td>\n",
       "    </tr>\n",
       "    <tr>\n",
       "      <th>3</th>\n",
       "      <td>T</td>\n",
       "      <td>21.31</td>\n",
       "    </tr>\n",
       "    <tr>\n",
       "      <th>4</th>\n",
       "      <td>E10+</td>\n",
       "      <td>12.35</td>\n",
       "    </tr>\n",
       "  </tbody>\n",
       "</table>\n",
       "</div>"
      ],
      "text/plain": [
       "  rating  eu_sales\n",
       "0      M     49.96\n",
       "1      E     35.03\n",
       "2   None     29.29\n",
       "3      T     21.31\n",
       "4   E10+     12.35"
      ]
     },
     "metadata": {},
     "output_type": "display_data"
    },
    {
     "data": {
      "image/png": "[encoded data removed]",
      "text/plain": [
       "<Figure size 432x216 with 1 Axes>"
      ]
     },
     "metadata": {
      "needs_background": "light"
     },
     "output_type": "display_data"
    },
    {
     "data": {
      "image/png": "[encoded data removed]",
      "text/plain": [
       "<Figure size 432x216 with 1 Axes>"
      ]
     },
     "metadata": {
      "needs_background": "light"
     },
     "output_type": "display_data"
    },
    {
     "data": {
      "image/png": "[encoded data removed]",
      "text/plain": [
       "<Figure size 432x216 with 1 Axes>"
      ]
     },
     "metadata": {
      "needs_background": "light"
     },
     "output_type": "display_data"
    }
   ],
   "source": [
    "user_portrait('eu_sales', 'Европа')"
   ]
  },
  {
   "cell_type": "markdown",
   "metadata": {},
   "source": [
    "#### Вывод по европейскому рынку:\n",
    "\n",
    "\n",
    "* Самая популярная игровая платформа в Европе за актуальный период это PS4. Далее с большим отставанием идет XOne. После PC, 3DS и PS3 \n",
    "* Топ 5 жанров в Европе за актуальный период: shooter, action, sports, role-playing, racing.\n",
    "* По рейтингам видно, что больше всего продаж у игр с рейтингом \"от 17 лет\", на втором месте игры с рейтингом \"для всех\" и на третьем месте игры без рейтинга."
   ]
  },
  {
   "cell_type": "code",
   "execution_count": null,
   "metadata": {},
   "outputs": [],
   "source": []
  },
  {
   "cell_type": "markdown",
   "metadata": {},
   "source": [
    "<div class=\"alert alert-block alert-danger\">\n",
    "<h2> Комментарий ревьюера v2 <a class=\"tocSkip\"></h2>\n",
    "   \n",
    "<b>На доработку🤔:</b> Справедлив комментарий выше"
   ]
  },
  {
   "cell_type": "markdown",
   "metadata": {},
   "source": [
    "<div class=\"alert alert-info\">\n",
    "<b>Сделано</b> \n",
    "</div>"
   ]
  },
  {
   "cell_type": "markdown",
   "metadata": {},
   "source": [
    "### Портрет японского пользователя"
   ]
  },
  {
   "cell_type": "code",
   "execution_count": 89,
   "metadata": {},
   "outputs": [
    {
     "data": {
      "text/html": [
       "<div>\n",
       "<style scoped>\n",
       "    .dataframe tbody tr th:only-of-type {\n",
       "        vertical-align: middle;\n",
       "    }\n",
       "\n",
       "    .dataframe tbody tr th {\n",
       "        vertical-align: top;\n",
       "    }\n",
       "\n",
       "    .dataframe thead th {\n",
       "        text-align: right;\n",
       "    }\n",
       "</style>\n",
       "<table border=\"1\" class=\"dataframe\">\n",
       "  <thead>\n",
       "    <tr style=\"text-align: right;\">\n",
       "      <th></th>\n",
       "      <th>platform</th>\n",
       "      <th>jp_sales</th>\n",
       "    </tr>\n",
       "  </thead>\n",
       "  <tbody>\n",
       "    <tr>\n",
       "      <th>0</th>\n",
       "      <td>3DS</td>\n",
       "      <td>23.55</td>\n",
       "    </tr>\n",
       "    <tr>\n",
       "      <th>1</th>\n",
       "      <td>PS4</td>\n",
       "      <td>12.05</td>\n",
       "    </tr>\n",
       "    <tr>\n",
       "      <th>2</th>\n",
       "      <td>PSV</td>\n",
       "      <td>8.41</td>\n",
       "    </tr>\n",
       "    <tr>\n",
       "      <th>3</th>\n",
       "      <td>PS3</td>\n",
       "      <td>4.97</td>\n",
       "    </tr>\n",
       "    <tr>\n",
       "      <th>4</th>\n",
       "      <td>WiiU</td>\n",
       "      <td>4.12</td>\n",
       "    </tr>\n",
       "  </tbody>\n",
       "</table>\n",
       "</div>"
      ],
      "text/plain": [
       "  platform  jp_sales\n",
       "0      3DS     23.55\n",
       "1      PS4     12.05\n",
       "2      PSV      8.41\n",
       "3      PS3      4.97\n",
       "4     WiiU      4.12"
      ]
     },
     "metadata": {},
     "output_type": "display_data"
    },
    {
     "data": {
      "text/html": [
       "<div>\n",
       "<style scoped>\n",
       "    .dataframe tbody tr th:only-of-type {\n",
       "        vertical-align: middle;\n",
       "    }\n",
       "\n",
       "    .dataframe tbody tr th {\n",
       "        vertical-align: top;\n",
       "    }\n",
       "\n",
       "    .dataframe thead th {\n",
       "        text-align: right;\n",
       "    }\n",
       "</style>\n",
       "<table border=\"1\" class=\"dataframe\">\n",
       "  <thead>\n",
       "    <tr style=\"text-align: right;\">\n",
       "      <th></th>\n",
       "      <th>genre</th>\n",
       "      <th>jp_sales</th>\n",
       "    </tr>\n",
       "  </thead>\n",
       "  <tbody>\n",
       "    <tr>\n",
       "      <th>0</th>\n",
       "      <td>Action</td>\n",
       "      <td>23.05</td>\n",
       "    </tr>\n",
       "    <tr>\n",
       "      <th>1</th>\n",
       "      <td>Role-Playing</td>\n",
       "      <td>13.41</td>\n",
       "    </tr>\n",
       "    <tr>\n",
       "      <th>2</th>\n",
       "      <td>Shooter</td>\n",
       "      <td>3.79</td>\n",
       "    </tr>\n",
       "    <tr>\n",
       "      <th>3</th>\n",
       "      <td>Misc</td>\n",
       "      <td>3.19</td>\n",
       "    </tr>\n",
       "    <tr>\n",
       "      <th>4</th>\n",
       "      <td>Adventure</td>\n",
       "      <td>2.22</td>\n",
       "    </tr>\n",
       "  </tbody>\n",
       "</table>\n",
       "</div>"
      ],
      "text/plain": [
       "          genre  jp_sales\n",
       "0        Action     23.05\n",
       "1  Role-Playing     13.41\n",
       "2       Shooter      3.79\n",
       "3          Misc      3.19\n",
       "4     Adventure      2.22"
      ]
     },
     "metadata": {},
     "output_type": "display_data"
    },
    {
     "data": {
      "text/html": [
       "<div>\n",
       "<style scoped>\n",
       "    .dataframe tbody tr th:only-of-type {\n",
       "        vertical-align: middle;\n",
       "    }\n",
       "\n",
       "    .dataframe tbody tr th {\n",
       "        vertical-align: top;\n",
       "    }\n",
       "\n",
       "    .dataframe thead th {\n",
       "        text-align: right;\n",
       "    }\n",
       "</style>\n",
       "<table border=\"1\" class=\"dataframe\">\n",
       "  <thead>\n",
       "    <tr style=\"text-align: right;\">\n",
       "      <th></th>\n",
       "      <th>rating</th>\n",
       "      <th>jp_sales</th>\n",
       "    </tr>\n",
       "  </thead>\n",
       "  <tbody>\n",
       "    <tr>\n",
       "      <th>0</th>\n",
       "      <td>None</td>\n",
       "      <td>31.56</td>\n",
       "    </tr>\n",
       "    <tr>\n",
       "      <th>1</th>\n",
       "      <td>T</td>\n",
       "      <td>8.54</td>\n",
       "    </tr>\n",
       "    <tr>\n",
       "      <th>2</th>\n",
       "      <td>E</td>\n",
       "      <td>5.29</td>\n",
       "    </tr>\n",
       "    <tr>\n",
       "      <th>3</th>\n",
       "      <td>M</td>\n",
       "      <td>4.71</td>\n",
       "    </tr>\n",
       "    <tr>\n",
       "      <th>4</th>\n",
       "      <td>E10+</td>\n",
       "      <td>3.30</td>\n",
       "    </tr>\n",
       "  </tbody>\n",
       "</table>\n",
       "</div>"
      ],
      "text/plain": [
       "  rating  jp_sales\n",
       "0   None     31.56\n",
       "1      T      8.54\n",
       "2      E      5.29\n",
       "3      M      4.71\n",
       "4   E10+      3.30"
      ]
     },
     "metadata": {},
     "output_type": "display_data"
    },
    {
     "data": {
      "image/png": "[encoded data removed]",
      "text/plain": [
       "<Figure size 432x216 with 1 Axes>"
      ]
     },
     "metadata": {
      "needs_background": "light"
     },
     "output_type": "display_data"
    },
    {
     "data": {
      "image/png": "[encoded data removed]",
      "text/plain": [
       "<Figure size 432x216 with 1 Axes>"
      ]
     },
     "metadata": {
      "needs_background": "light"
     },
     "output_type": "display_data"
    },
    {
     "data": {
      "image/png": "[encoded data removed]",
      "text/plain": [
       "<Figure size 432x216 with 1 Axes>"
      ]
     },
     "metadata": {
      "needs_background": "light"
     },
     "output_type": "display_data"
    }
   ],
   "source": [
    "user_portrait('jp_sales', 'Япония')"
   ]
  },
  {
   "cell_type": "markdown",
   "metadata": {},
   "source": [
    "#### Вывод по японскому рынку: \n",
    "\n",
    "* Самые популярные игровые платформы в Японии за актуальный период это: 3DS, PS4, PSV, PS3 и wiiu.\n",
    "* Топ 5 жанров в Японии за актуальный период: action, role-playing, shooter, misc, adventure\n",
    "* По рейтингам видно, что больше всего продаж за актуальный период у игр без рейтинга, на втором месте игры с рейтингом \"от 13 и выше\", и на третьем месте игры с рейтингом \"для всех\"\n"
   ]
  },
  {
   "cell_type": "markdown",
   "metadata": {},
   "source": [
    "<div class=\"alert alert-block alert-danger\">\n",
    "<h2> Комментарий ревьюера v2 <a class=\"tocSkip\"></h2>\n",
    "   \n",
    "<b>На доработку🤔:</b> Тоже самое"
   ]
  },
  {
   "cell_type": "markdown",
   "metadata": {},
   "source": [
    "<div class=\"alert alert-info\">\n",
    "<b>Сделано</b> \n",
    "</div>"
   ]
  },
  {
   "cell_type": "markdown",
   "metadata": {},
   "source": [
    "## Проверка гипотез"
   ]
  },
  {
   "cell_type": "markdown",
   "metadata": {},
   "source": [
    "### Средние пользовательские рейтинги платформ Xbox One и PC"
   ]
  },
  {
   "cell_type": "markdown",
   "metadata": {},
   "source": [
    "Начнём с формулировки нулевой гипотезы. H₀ всегда формулируется так, чтобы использовать знак равенства. H₀ - среднее рассматриваемой выборочной совокупности равно второй. Исходя из H₀ формулируется альтернативная гипотеза H₁. Для этой H₀ - среднее выборочной совокупности не равно второй. H0 - Средние пользовательские рейтинги платформ Xbox One и PC равны. H1 - Средние пользовательские рейтинги платформ Xbox One и PC не равны.\n",
    "\n",
    "Критический уровень статистической значимости присвоим значением 0.05."
   ]
  },
  {
   "cell_type": "markdown",
   "metadata": {},
   "source": [
    "<div class=\"alert alert-success\">\n",
    "<h2> Комментарий ревьюера v2 <a class=\"tocSkip\"> </h2>\n",
    "\n",
    "<b>Все супер!👍:</b>Гипотезы сформулированы верно"
   ]
  },
  {
   "cell_type": "code",
   "execution_count": 90,
   "metadata": {},
   "outputs": [],
   "source": [
    "#Возьмём выборки без пропусков в рейтингах\n",
    "pc = actual_df[actual_df['platform']=='PC']['user_score'].dropna()\n",
    "xone = actual_df[actual_df['platform']=='XOne']['user_score'].dropna()"
   ]
  },
  {
   "cell_type": "code",
   "execution_count": 91,
   "metadata": {},
   "outputs": [
    {
     "data": {
      "text/plain": [
       "LeveneResult(statistic=6.195777874515244, pvalue=0.013609291286773606)"
      ]
     },
     "execution_count": 91,
     "metadata": {},
     "output_type": "execute_result"
    }
   ],
   "source": [
    "#Проведём тест Левена\n",
    "st.levene(pc, xone, center='mean')"
   ]
  },
  {
   "cell_type": "markdown",
   "metadata": {},
   "source": [
    "Выборки имеют разные дисперсии, т.к. pvalue < 0.05"
   ]
  },
  {
   "cell_type": "code",
   "execution_count": 92,
   "metadata": {},
   "outputs": [
    {
     "name": "stdout",
     "output_type": "stream",
     "text": [
      "cредний рейтинг РС:  6.29642857142857\n",
      "cреднее рейтинг XOne:  6.542148760330578\n",
      "p-значение: 0.2946308864003345\n",
      "Не удалось отвергнуть нулевую гипотезу\n"
     ]
    }
   ],
   "source": [
    "print('cредний рейтинг РС: ', pc.mean())\n",
    "print('cреднее рейтинг XOne: ', xone.mean())\n",
    "alpha = .05 \n",
    "\n",
    "results = st.ttest_ind(\n",
    "    pc, \n",
    "    xone,\n",
    "    equal_var = False)\n",
    "\n",
    "print('p-значение:', results.pvalue)\n",
    "\n",
    "if (results.pvalue < alpha):\n",
    "    print(\"Отвергаем нулевую гипотезу\")\n",
    "else:\n",
    "    print(\"Не удалось отвергнуть нулевую гипотезу\")"
   ]
  },
  {
   "cell_type": "markdown",
   "metadata": {},
   "source": [
    "Можем сказать, что средний рейтинг по двум выборкам по платформам почти не различается. Но т.к. наша гипотеза двухсторонняя: мы не знаем, в какую сторону рейтинг отличается. Однако посчитав средний рейтинг для двух платформ, с уверенностью можем сказать: средние рейтинги почти не отличаются. P-значение (англ. P-value) — величина, используемая при тестировании статистических гипотез. Фактически это вероятность ошибки при отклонении нулевой гипотезы (ошибки первого рода). Однако принимать какую-либо гипотезу мы в любом случае не можем, т.к. данные могут лишь не противоречить ей или, наоборот, показывать очень маловероятные результаты."
   ]
  },
  {
   "cell_type": "markdown",
   "metadata": {},
   "source": [
    "<div class=\"alert alert-warning\">\n",
    "    <h2> Комментарий ревьюера v2 <a class=\"tocSkip\"> </h2>\n",
    "    \n",
    "<b>Небольшие замечания и рекомендации💡:</b> Согласен, но перепроверим по акутальному периоду"
   ]
  },
  {
   "cell_type": "markdown",
   "metadata": {},
   "source": [
    "<div class=\"alert alert-info\">\n",
    "<b>Проверено по актуальному периоду</b> \n",
    "</div>"
   ]
  },
  {
   "cell_type": "markdown",
   "metadata": {},
   "source": [
    "### Средние пользовательские рейтинги жанров Action и Sports"
   ]
  },
  {
   "cell_type": "markdown",
   "metadata": {},
   "source": [
    "Начнём с формулировки нулевой гипотезы. H₀ всегда формулируется так, чтобы использовать знак равенства. H₀ - среднее рассматриваемой выборки совокупности равно второй. Исходя из H₀ формулируется альтернативная гипотеза H₁. Для этой H₀ - среднее выборки совокупности не равно второй. H0 - Средние пользовательские рейтинги action и sports одинаковы. H1 - Средние пользовательские рейтинги action и sports разные.\n",
    "\n",
    "Критический уровень статистической значимости присвоим значением 0.05."
   ]
  },
  {
   "cell_type": "markdown",
   "metadata": {},
   "source": [
    "<div class=\"alert alert-success\">\n",
    "<h2> Комментарий ревьюера v2 <a class=\"tocSkip\"> </h2>\n",
    "\n",
    "<b>Все супер!👍:</b> Гипотезы сформулированы верно"
   ]
  },
  {
   "cell_type": "code",
   "execution_count": 93,
   "metadata": {},
   "outputs": [],
   "source": [
    "#Возьмём выборки без пропусков в рейтингах\n",
    "action = actual_df[actual_df['genre']=='Action']['user_score'].dropna()\n",
    "sports = actual_df[actual_df['genre']=='Sports']['user_score'].dropna()"
   ]
  },
  {
   "cell_type": "code",
   "execution_count": 94,
   "metadata": {},
   "outputs": [
    {
     "data": {
      "text/plain": [
       "LeveneResult(statistic=24.199918601846807, pvalue=1.5026080705243761e-06)"
      ]
     },
     "execution_count": 94,
     "metadata": {},
     "output_type": "execute_result"
    }
   ],
   "source": [
    "#Проведём тест Левена\n",
    "st.levene(action, sports, center='mean')"
   ]
  },
  {
   "cell_type": "markdown",
   "metadata": {},
   "source": [
    "Выборки имеют разные дисперсии, т.к. pvalue < 0.05"
   ]
  },
  {
   "cell_type": "code",
   "execution_count": 95,
   "metadata": {},
   "outputs": [
    {
     "name": "stdout",
     "output_type": "stream",
     "text": [
      "Средний пользовательский рейтинг Action:  6.808290155440415\n",
      "Средний пользовательский рейтинг Sports:  5.198780487804878\n",
      "p-значение: 5.97163549920592e-10\n",
      "Отвергаем нулевую гипотезу\n"
     ]
    }
   ],
   "source": [
    "print('Средний пользовательский рейтинг Action: ', action.mean())\n",
    "print('Средний пользовательский рейтинг Sports: ', sports.mean())\n",
    "alpha = 0.05\n",
    "\n",
    "results = st.ttest_ind(\n",
    "    action, \n",
    "    sports,\n",
    "    equal_var = False) \n",
    "\n",
    "print('p-значение:', results.pvalue)\n",
    "\n",
    "if (results.pvalue < alpha):\n",
    "    print(\"Отвергаем нулевую гипотезу\")\n",
    "else:\n",
    "    print(\"Не удалось отвергнуть нулевую гипотезу\")"
   ]
  },
  {
   "cell_type": "markdown",
   "metadata": {},
   "source": [
    "Можем сказать, что средний рейтинг по двум жанрам отличается. Но т.к. наша гипотеза двухсторонняя: мы не знаем, в какую сторону рейтинг отличается. Однако посчитав средний рейтинг для двух жанров, с уверенностью можем сказать: средние рейтинги отличаются. P-значение (англ. P-value) — величина, используемая при тестировании статистических гипотез. Фактически это вероятность ошибки при отклонении нулевой гипотезы (ошибки первого рода). То есть вероятность ошибки при отклонении нулевой гипотезы: ~0%. Однако принимать какую-либо гипотезу мы в любом случае не можем, т.к. данные могут лишь не противоречить ей или, наоборот, показывать очень маловероятные результаты."
   ]
  },
  {
   "cell_type": "markdown",
   "metadata": {},
   "source": [
    "<div class=\"alert alert-warning\">\n",
    "    <h2> Комментарий ревьюера v2 <a class=\"tocSkip\"> </h2>\n",
    "    \n",
    "<b>Небольшие замечания и рекомендации💡:</b> Согласен, но перепроверм по актуальному периоду"
   ]
  },
  {
   "cell_type": "markdown",
   "metadata": {},
   "source": [
    "<div class=\"alert alert-info\">\n",
    "<b>Проверено по актуальному периоду</b> \n",
    "</div>"
   ]
  },
  {
   "cell_type": "markdown",
   "metadata": {},
   "source": [
    "## Общие выводы"
   ]
  },
  {
   "cell_type": "markdown",
   "metadata": {},
   "source": [
    "### *Выводы за весь период:*\n",
    "\n",
    "* Количество игр на игровые приставки и компьютеры начало расти с большой скоростью с 90х годов до 2008 года.\n",
    "* С 2008 года, после того как массово начали создавать мобильные приложения и мобильные игры, виден резкий спад консольных игр.\n",
    "* Самые популярные игровые платформы за весь период это PS2, X360, PS3, WII, DS, PS\n",
    "* Самый долгожитель - платформа ds\n",
    "* Практически все игровые платформы в среднем существуют по 8 - 10 лет.\n",
    "* Cамые продаваемые это Sony Play Station и XBOX\n",
    "* Самый пик наступает примерно через 5 лет после выхода приставки\n",
    "* Количество продаж по всем платформам падает к 2016 году.\n",
    "\n",
    "### *Выводы за актуальный период:*\n",
    "\n",
    "* Больше всех продаж у XOne, затем PS4, потом 3DS и PC на последнем месте. WiiU в расчет не брался, т.к. платформа хоть и показывает неплохие показатели, но ее жизненный цикл находится в самом конце. Вкладываться в нее большой риск\n",
    "* Успех xone можно попробовать объяснить тем, что это последняя из вышедших платформ\n",
    "* У анализируемых нами платформ наблюдается слабая взаимосвязь между продажами и оценками критиков. Пользовательские же оценки почти не играют значимой роли. Это значит, что игроки прислушиваются к мнению критиков, но решающим фактором покупки это не является\n",
    "* Больше всего суммарных продаж у жанра action, меньше всего puzzle\n",
    "* Самое большое количество продаж у жанра action, меньше всего puzzle\n",
    "* Среднее по продажам больше всего у жанра shooter, меньше всех у strategy\n",
    "* Средние рейтинги платформ Xbox ONE и PC почти равны\n",
    "* Средние рейтинги жанров Sports и Action разные\n",
    "\n",
    "### Портреты пользователей: \n",
    "\n",
    "#### Северная Америка:\n",
    "\n",
    "* Самые популярные игровые платформы в Северной Америке за актуальный период это: PS4 и XOne. Платформы 3DS, WiiU и X360 хоть и присутсвуют на рынке, но даже их суммарная доля слишком мала\n",
    "* Топ 5 жанров в Северной Америке за актуальный период: shooter, action, sports, role-playing, misc.\n",
    "* По рейтингам видно, что больше всего продаж за актуальный период у игр с рейтингом \"от 17 и выше\", на втором месте игры без рейтинга и на третьем месте игры для всех.\n",
    "\n",
    "#### Европа:\n",
    "\n",
    "* Самая популярная игровая платформа в Европе за актуальный период это PS4. Далее с большим отставанием идет XOne. После PC, 3DS и PS3\n",
    "* Топ 5 жанров в Европе за актуальный период: shooter, action, sports, role-playing, racing.\n",
    "* По рейтингам видно, что больше всего продаж у игр с рейтингом \"от 17 лет\", на втором месте игры с рейтингом \"для всех\" и на третьем месте игры без рейтинга.\n",
    "\n",
    "#### Япония:\n",
    "\n",
    "* Самые популярные игровые платформы в Японии за актуальный период это: 3DS, PS4, PSV, PS3 и wiiu.\n",
    "* Топ 5 жанров в Японии за актуальный период: action, role-playing, shooter, misc, adventure\n",
    "* По рейтингам видно, что больше всего продаж за актуальный период у игр без рейтинга, на втором месте игры с рейтингом \"от 13 и выше\", и на третьем месте игры с рейтингом \"для всех\"\n",
    "\n",
    "\n",
    "Рекомендации бизнесу: продавать игры на PS4 в жанре shooter, игры с рейтингом от 17 лет для Европы и Северной Америки. Для Японии продавать игры на 3DS, PS4 в жанре action и role-playing без привязки к рейтинговой системе ESRB, т.к. данная система относится к США\\Канаде и в меньшей степени к Европе. "
   ]
  },
  {
   "cell_type": "markdown",
   "metadata": {},
   "source": [
    "<div class=\"alert alert-block alert-danger\">\n",
    "<h2> Комментарий ревьюера v2 <a class=\"tocSkip\"></h2>\n",
    "   \n",
    "<b>На доработку🤔:</b> Исправим замечания и доработаем вывод) Молодец, что подписываешь оси и названия заголовков у графиков) "
   ]
  },
  {
   "cell_type": "markdown",
   "metadata": {},
   "source": [
    "<div class=\"alert alert-info\">\n",
    "<b>Изменено на основании новых данных</b> \n",
    "</div>"
   ]
  },
  {
   "cell_type": "markdown",
   "metadata": {},
   "source": [
    "<div style=\"border:solid Chocolate 2px; padding: 40px\">\n",
    "    \n",
    "**Общий вывод по проекту ревьювера v1**:\n",
    "Михаил, Михаил, тетрадка почти пустая. Либо не сохранился проект, либо не сделан до конца.\n",
    "    \n",
    "    \n",
    "**Удачи и жду твой проект на повторное ревью!**"
   ]
  },
  {
   "cell_type": "markdown",
   "metadata": {},
   "source": [
    "<div style=\"border:solid Chocolate 2px; padding: 40px\">\n",
    "    \n",
    "**Общий вывод по проекту ревьювера v2**:\n",
    "Михаил, спасибо за  проект! Ты приложил много усилий, чтобы довести его до конца, проделана огромная работа, и это видно невооруженным глазом, ты большой молодец!\n",
    "    \n",
    "**Отмечу положительные моменты**:\n",
    "    \n",
    "    1. Все разложено по полочкам, всегда понятен ход твоих мыслей, приятно смотреть\n",
    "    \n",
    "    2. Отличные визуализации\n",
    "    \n",
    "    3. На разных шагах проекта ты предлагал очень интересные решения и методы для их реализации. Хорошая работа!\n",
    "    \n",
    "    \n",
    "**На что стоит обратить внимание**:\n",
    "    \n",
    "    1. Неверно определен акутальный период, что привело к ошибкам в последующих разделах \n",
    "    \n",
    "    \n",
    "**Удачи и жду твой проект на повторное ревью!**"
   ]
  },
  {
   "cell_type": "code",
   "execution_count": null,
   "metadata": {},
   "outputs": [],
   "source": []
  }
 ],
 "metadata": {
  "ExecuteTimeLog": [
   {
    "duration": 54,
    "start_time": "2023-02-22T06:32:36.798Z"
   },
   {
    "duration": 1525,
    "start_time": "2023-02-22T06:32:41.518Z"
   },
   {
    "duration": 106,
    "start_time": "2023-02-22T06:32:43.375Z"
   },
   {
    "duration": 21,
    "start_time": "2023-02-22T06:33:09.746Z"
   },
   {
    "duration": 21,
    "start_time": "2023-02-22T06:33:15.987Z"
   },
   {
    "duration": 68,
    "start_time": "2023-02-22T06:33:30.022Z"
   },
   {
    "duration": 36,
    "start_time": "2023-02-22T06:33:39.064Z"
   },
   {
    "duration": 16,
    "start_time": "2023-02-22T06:33:59.210Z"
   },
   {
    "duration": 17,
    "start_time": "2023-02-22T06:46:21.035Z"
   },
   {
    "duration": 11,
    "start_time": "2023-02-22T06:50:02.913Z"
   },
   {
    "duration": 6,
    "start_time": "2023-02-22T06:50:44.202Z"
   },
   {
    "duration": 16,
    "start_time": "2023-02-22T06:52:00.235Z"
   },
   {
    "duration": 9,
    "start_time": "2023-02-22T06:54:39.909Z"
   },
   {
    "duration": 18,
    "start_time": "2023-02-22T06:55:44.107Z"
   },
   {
    "duration": 9,
    "start_time": "2023-02-22T07:03:48.587Z"
   },
   {
    "duration": 3,
    "start_time": "2023-02-22T07:05:01.919Z"
   },
   {
    "duration": 6,
    "start_time": "2023-02-22T07:09:05.899Z"
   },
   {
    "duration": 20,
    "start_time": "2023-02-22T07:11:22.515Z"
   },
   {
    "duration": 10,
    "start_time": "2023-02-22T07:17:53.922Z"
   },
   {
    "duration": 23,
    "start_time": "2023-02-22T07:18:15.685Z"
   },
   {
    "duration": 20,
    "start_time": "2023-02-22T07:18:30.822Z"
   },
   {
    "duration": 25,
    "start_time": "2023-02-22T07:18:42.383Z"
   },
   {
    "duration": 18,
    "start_time": "2023-02-22T07:18:59.698Z"
   },
   {
    "duration": 20,
    "start_time": "2023-02-22T07:19:10.179Z"
   },
   {
    "duration": 30,
    "start_time": "2023-02-22T07:20:44.895Z"
   },
   {
    "duration": 35,
    "start_time": "2023-02-22T07:21:05.778Z"
   },
   {
    "duration": 29,
    "start_time": "2023-02-22T07:21:14.484Z"
   },
   {
    "duration": 47,
    "start_time": "2023-02-22T07:33:35.045Z"
   },
   {
    "duration": 17,
    "start_time": "2023-02-22T07:34:01.197Z"
   },
   {
    "duration": 15,
    "start_time": "2023-02-22T07:34:09.085Z"
   },
   {
    "duration": 93,
    "start_time": "2023-02-22T07:36:33.093Z"
   },
   {
    "duration": 29,
    "start_time": "2023-02-22T07:37:00.283Z"
   },
   {
    "duration": 3,
    "start_time": "2023-02-22T07:37:19.035Z"
   },
   {
    "duration": 69,
    "start_time": "2023-02-22T07:37:45.104Z"
   },
   {
    "duration": 58,
    "start_time": "2023-02-22T07:40:07.773Z"
   },
   {
    "duration": 29,
    "start_time": "2023-02-22T07:44:41.473Z"
   },
   {
    "duration": 15,
    "start_time": "2023-02-22T07:49:09.109Z"
   },
   {
    "duration": 1543,
    "start_time": "2023-02-22T07:49:31.853Z"
   },
   {
    "duration": 70,
    "start_time": "2023-02-22T07:49:33.400Z"
   },
   {
    "duration": 38,
    "start_time": "2023-02-22T07:49:33.473Z"
   },
   {
    "duration": 66,
    "start_time": "2023-02-22T07:49:33.512Z"
   },
   {
    "duration": 47,
    "start_time": "2023-02-22T07:49:33.583Z"
   },
   {
    "duration": 15,
    "start_time": "2023-02-22T07:49:33.632Z"
   },
   {
    "duration": 175,
    "start_time": "2023-02-22T07:49:33.649Z"
   },
   {
    "duration": 0,
    "start_time": "2023-02-22T07:49:33.827Z"
   },
   {
    "duration": 0,
    "start_time": "2023-02-22T07:49:33.829Z"
   },
   {
    "duration": 0,
    "start_time": "2023-02-22T07:49:33.830Z"
   },
   {
    "duration": 0,
    "start_time": "2023-02-22T07:49:33.832Z"
   },
   {
    "duration": 0,
    "start_time": "2023-02-22T07:49:33.834Z"
   },
   {
    "duration": 0,
    "start_time": "2023-02-22T07:49:33.837Z"
   },
   {
    "duration": 0,
    "start_time": "2023-02-22T07:49:33.838Z"
   },
   {
    "duration": 0,
    "start_time": "2023-02-22T07:49:33.840Z"
   },
   {
    "duration": 0,
    "start_time": "2023-02-22T07:49:33.841Z"
   },
   {
    "duration": 0,
    "start_time": "2023-02-22T07:49:33.861Z"
   },
   {
    "duration": 16,
    "start_time": "2023-02-22T07:49:49.930Z"
   },
   {
    "duration": 20,
    "start_time": "2023-02-22T07:49:53.821Z"
   },
   {
    "duration": 29,
    "start_time": "2023-02-22T07:49:56.029Z"
   },
   {
    "duration": 32,
    "start_time": "2023-02-22T07:49:58.890Z"
   },
   {
    "duration": 11,
    "start_time": "2023-02-22T07:50:01.413Z"
   },
   {
    "duration": 40,
    "start_time": "2023-02-22T07:50:03.593Z"
   },
   {
    "duration": 33,
    "start_time": "2023-02-22T07:50:09.031Z"
   },
   {
    "duration": 34,
    "start_time": "2023-02-22T07:50:12.949Z"
   },
   {
    "duration": 65,
    "start_time": "2023-02-22T07:50:20.617Z"
   },
   {
    "duration": 258,
    "start_time": "2023-02-22T07:52:27.960Z"
   },
   {
    "duration": 31,
    "start_time": "2023-02-22T07:52:32.206Z"
   },
   {
    "duration": 1406,
    "start_time": "2023-02-22T07:53:40.299Z"
   },
   {
    "duration": 87,
    "start_time": "2023-02-22T07:53:41.707Z"
   },
   {
    "duration": 27,
    "start_time": "2023-02-22T07:53:41.802Z"
   },
   {
    "duration": 90,
    "start_time": "2023-02-22T07:53:41.832Z"
   },
   {
    "duration": 35,
    "start_time": "2023-02-22T07:53:41.924Z"
   },
   {
    "duration": 71,
    "start_time": "2023-02-22T07:53:41.962Z"
   },
   {
    "duration": 3,
    "start_time": "2023-02-22T07:53:42.035Z"
   },
   {
    "duration": 9,
    "start_time": "2023-02-22T07:53:42.040Z"
   },
   {
    "duration": 82,
    "start_time": "2023-02-22T07:53:42.050Z"
   },
   {
    "duration": 21,
    "start_time": "2023-02-22T07:53:42.135Z"
   },
   {
    "duration": 79,
    "start_time": "2023-02-22T07:53:42.166Z"
   },
   {
    "duration": 12,
    "start_time": "2023-02-22T07:53:42.247Z"
   },
   {
    "duration": 47,
    "start_time": "2023-02-22T07:53:42.265Z"
   },
   {
    "duration": 38,
    "start_time": "2023-02-22T07:53:42.314Z"
   },
   {
    "duration": 33,
    "start_time": "2023-02-22T07:53:42.355Z"
   },
   {
    "duration": 254,
    "start_time": "2023-02-22T07:53:42.391Z"
   },
   {
    "duration": 37,
    "start_time": "2023-02-22T07:53:42.647Z"
   },
   {
    "duration": 266,
    "start_time": "2023-02-22T07:54:34.272Z"
   },
   {
    "duration": 287,
    "start_time": "2023-02-22T07:55:12.819Z"
   },
   {
    "duration": 1641,
    "start_time": "2023-02-22T07:55:17.889Z"
   },
   {
    "duration": 87,
    "start_time": "2023-02-22T07:55:19.533Z"
   },
   {
    "duration": 105,
    "start_time": "2023-02-22T07:55:19.628Z"
   },
   {
    "duration": 45,
    "start_time": "2023-02-22T07:55:19.739Z"
   },
   {
    "duration": 83,
    "start_time": "2023-02-22T07:55:19.788Z"
   },
   {
    "duration": 100,
    "start_time": "2023-02-22T07:55:19.873Z"
   },
   {
    "duration": 54,
    "start_time": "2023-02-22T07:55:19.975Z"
   },
   {
    "duration": 6,
    "start_time": "2023-02-22T07:55:20.032Z"
   },
   {
    "duration": 74,
    "start_time": "2023-02-22T07:55:20.040Z"
   },
   {
    "duration": 54,
    "start_time": "2023-02-22T07:55:20.115Z"
   },
   {
    "duration": 70,
    "start_time": "2023-02-22T07:55:20.171Z"
   },
   {
    "duration": 20,
    "start_time": "2023-02-22T07:55:20.243Z"
   },
   {
    "duration": 7,
    "start_time": "2023-02-22T07:55:20.265Z"
   },
   {
    "duration": 64,
    "start_time": "2023-02-22T07:55:20.274Z"
   },
   {
    "duration": 57,
    "start_time": "2023-02-22T07:55:20.340Z"
   },
   {
    "duration": 289,
    "start_time": "2023-02-22T07:55:20.399Z"
   },
   {
    "duration": 27,
    "start_time": "2023-02-22T07:55:20.689Z"
   },
   {
    "duration": 1521,
    "start_time": "2023-02-22T07:56:16.379Z"
   },
   {
    "duration": 70,
    "start_time": "2023-02-22T07:56:17.916Z"
   },
   {
    "duration": 28,
    "start_time": "2023-02-22T07:56:18.003Z"
   },
   {
    "duration": 29,
    "start_time": "2023-02-22T07:56:18.033Z"
   },
   {
    "duration": 87,
    "start_time": "2023-02-22T07:56:18.064Z"
   },
   {
    "duration": 88,
    "start_time": "2023-02-22T07:56:18.153Z"
   },
   {
    "duration": 3,
    "start_time": "2023-02-22T07:56:18.244Z"
   },
   {
    "duration": 18,
    "start_time": "2023-02-22T07:56:18.249Z"
   },
   {
    "duration": 57,
    "start_time": "2023-02-22T07:56:18.269Z"
   },
   {
    "duration": 22,
    "start_time": "2023-02-22T07:56:18.328Z"
   },
   {
    "duration": 80,
    "start_time": "2023-02-22T07:56:18.351Z"
   },
   {
    "duration": 8,
    "start_time": "2023-02-22T07:56:18.433Z"
   },
   {
    "duration": 5,
    "start_time": "2023-02-22T07:56:18.443Z"
   },
   {
    "duration": 77,
    "start_time": "2023-02-22T07:56:18.450Z"
   },
   {
    "duration": 221,
    "start_time": "2023-02-22T07:56:18.530Z"
   },
   {
    "duration": 26,
    "start_time": "2023-02-22T07:56:18.752Z"
   },
   {
    "duration": 31,
    "start_time": "2023-02-22T07:57:53.784Z"
   },
   {
    "duration": 32,
    "start_time": "2023-02-22T07:58:59.989Z"
   },
   {
    "duration": 128,
    "start_time": "2023-02-22T07:59:11.786Z"
   },
   {
    "duration": 16,
    "start_time": "2023-02-22T07:59:27.585Z"
   },
   {
    "duration": 11,
    "start_time": "2023-02-22T07:59:47.370Z"
   },
   {
    "duration": 12,
    "start_time": "2023-02-22T08:00:34.426Z"
   },
   {
    "duration": 1347,
    "start_time": "2023-02-22T08:01:25.327Z"
   },
   {
    "duration": 66,
    "start_time": "2023-02-22T08:01:26.683Z"
   },
   {
    "duration": 29,
    "start_time": "2023-02-22T08:01:26.751Z"
   },
   {
    "duration": 66,
    "start_time": "2023-02-22T08:01:26.782Z"
   },
   {
    "duration": 34,
    "start_time": "2023-02-22T08:01:26.851Z"
   },
   {
    "duration": 43,
    "start_time": "2023-02-22T08:01:26.894Z"
   },
   {
    "duration": 2,
    "start_time": "2023-02-22T08:01:26.939Z"
   },
   {
    "duration": 79,
    "start_time": "2023-02-22T08:01:26.943Z"
   },
   {
    "duration": 19,
    "start_time": "2023-02-22T08:01:27.024Z"
   },
   {
    "duration": 22,
    "start_time": "2023-02-22T08:01:27.045Z"
   },
   {
    "duration": 94,
    "start_time": "2023-02-22T08:01:27.068Z"
   },
   {
    "duration": 77,
    "start_time": "2023-02-22T08:01:27.164Z"
   },
   {
    "duration": 102,
    "start_time": "2023-02-22T08:01:27.243Z"
   },
   {
    "duration": 85,
    "start_time": "2023-02-22T08:01:27.348Z"
   },
   {
    "duration": 379,
    "start_time": "2023-02-22T08:01:27.435Z"
   },
   {
    "duration": 9,
    "start_time": "2023-02-22T08:01:27.816Z"
   },
   {
    "duration": 38,
    "start_time": "2023-02-22T08:01:27.836Z"
   },
   {
    "duration": 65,
    "start_time": "2023-02-22T08:01:27.878Z"
   },
   {
    "duration": 1360,
    "start_time": "2023-02-22T08:22:41.997Z"
   },
   {
    "duration": 76,
    "start_time": "2023-02-22T08:22:43.362Z"
   },
   {
    "duration": 22,
    "start_time": "2023-02-22T08:22:43.439Z"
   },
   {
    "duration": 60,
    "start_time": "2023-02-22T08:22:43.465Z"
   },
   {
    "duration": 24,
    "start_time": "2023-02-22T08:22:43.528Z"
   },
   {
    "duration": 69,
    "start_time": "2023-02-22T08:22:43.557Z"
   },
   {
    "duration": 21,
    "start_time": "2023-02-22T08:22:43.627Z"
   },
   {
    "duration": 70,
    "start_time": "2023-02-22T08:22:43.650Z"
   },
   {
    "duration": 17,
    "start_time": "2023-02-22T08:22:43.722Z"
   },
   {
    "duration": 24,
    "start_time": "2023-02-22T08:22:43.740Z"
   },
   {
    "duration": 60,
    "start_time": "2023-02-22T08:22:43.766Z"
   },
   {
    "duration": 34,
    "start_time": "2023-02-22T08:22:43.828Z"
   },
   {
    "duration": 57,
    "start_time": "2023-02-22T08:22:43.863Z"
   },
   {
    "duration": 17,
    "start_time": "2023-02-22T08:22:43.923Z"
   },
   {
    "duration": 263,
    "start_time": "2023-02-22T08:22:43.942Z"
   },
   {
    "duration": 8,
    "start_time": "2023-02-22T08:22:44.211Z"
   },
   {
    "duration": 52,
    "start_time": "2023-02-22T08:22:44.220Z"
   },
   {
    "duration": 53,
    "start_time": "2023-02-22T08:22:44.274Z"
   },
   {
    "duration": 14,
    "start_time": "2023-02-22T08:24:00.490Z"
   },
   {
    "duration": 2,
    "start_time": "2023-02-22T08:26:52.430Z"
   },
   {
    "duration": 256,
    "start_time": "2023-02-22T08:27:56.749Z"
   },
   {
    "duration": 230,
    "start_time": "2023-02-22T08:28:15.985Z"
   },
   {
    "duration": 340,
    "start_time": "2023-02-22T08:28:23.158Z"
   },
   {
    "duration": 370,
    "start_time": "2023-02-22T08:29:25.852Z"
   },
   {
    "duration": 342,
    "start_time": "2023-02-22T08:29:32.278Z"
   },
   {
    "duration": 15,
    "start_time": "2023-02-22T08:30:54.931Z"
   },
   {
    "duration": 5,
    "start_time": "2023-02-22T08:47:02.699Z"
   },
   {
    "duration": 5,
    "start_time": "2023-02-22T08:47:12.050Z"
   },
   {
    "duration": 9,
    "start_time": "2023-02-22T08:49:00.100Z"
   },
   {
    "duration": 7,
    "start_time": "2023-02-22T08:49:49.546Z"
   },
   {
    "duration": 17,
    "start_time": "2023-02-22T08:50:30.088Z"
   },
   {
    "duration": 15,
    "start_time": "2023-02-22T08:51:04.552Z"
   },
   {
    "duration": 9,
    "start_time": "2023-02-22T09:21:55.053Z"
   },
   {
    "duration": 9,
    "start_time": "2023-02-22T09:22:13.336Z"
   },
   {
    "duration": 8,
    "start_time": "2023-02-22T09:28:52.239Z"
   },
   {
    "duration": 12,
    "start_time": "2023-02-22T09:29:08.483Z"
   },
   {
    "duration": 9,
    "start_time": "2023-02-22T09:29:30.041Z"
   },
   {
    "duration": 897,
    "start_time": "2023-02-22T09:31:53.960Z"
   },
   {
    "duration": 5,
    "start_time": "2023-02-22T09:33:13.678Z"
   },
   {
    "duration": 6,
    "start_time": "2023-02-22T09:35:04.343Z"
   },
   {
    "duration": 5,
    "start_time": "2023-02-22T09:38:52.442Z"
   },
   {
    "duration": 9,
    "start_time": "2023-02-22T09:43:21.982Z"
   },
   {
    "duration": 6,
    "start_time": "2023-02-22T09:45:42.637Z"
   },
   {
    "duration": 10,
    "start_time": "2023-02-22T09:45:45.581Z"
   },
   {
    "duration": 10,
    "start_time": "2023-02-22T09:46:22.521Z"
   },
   {
    "duration": 1225,
    "start_time": "2023-02-22T09:49:24.349Z"
   },
   {
    "duration": 81,
    "start_time": "2023-02-22T09:49:25.577Z"
   },
   {
    "duration": 16,
    "start_time": "2023-02-22T09:49:25.660Z"
   },
   {
    "duration": 21,
    "start_time": "2023-02-22T09:49:25.678Z"
   },
   {
    "duration": 20,
    "start_time": "2023-02-22T09:49:25.701Z"
   },
   {
    "duration": 33,
    "start_time": "2023-02-22T09:49:25.722Z"
   },
   {
    "duration": 18,
    "start_time": "2023-02-22T09:49:25.757Z"
   },
   {
    "duration": 3,
    "start_time": "2023-02-22T09:49:25.777Z"
   },
   {
    "duration": 5,
    "start_time": "2023-02-22T09:49:25.782Z"
   },
   {
    "duration": 7,
    "start_time": "2023-02-22T09:49:25.790Z"
   },
   {
    "duration": 20,
    "start_time": "2023-02-22T09:49:25.799Z"
   },
   {
    "duration": 15,
    "start_time": "2023-02-22T09:49:25.821Z"
   },
   {
    "duration": 12,
    "start_time": "2023-02-22T09:49:25.854Z"
   },
   {
    "duration": 10,
    "start_time": "2023-02-22T09:49:25.868Z"
   },
   {
    "duration": 6,
    "start_time": "2023-02-22T09:49:25.879Z"
   },
   {
    "duration": 32,
    "start_time": "2023-02-22T09:49:25.887Z"
   },
   {
    "duration": 209,
    "start_time": "2023-02-22T09:49:25.921Z"
   },
   {
    "duration": 5,
    "start_time": "2023-02-22T09:49:26.131Z"
   },
   {
    "duration": 21,
    "start_time": "2023-02-22T09:49:26.138Z"
   },
   {
    "duration": 6,
    "start_time": "2023-02-22T09:49:26.161Z"
   },
   {
    "duration": 10,
    "start_time": "2023-02-22T09:49:26.169Z"
   },
   {
    "duration": 24,
    "start_time": "2023-02-22T09:49:26.181Z"
   },
   {
    "duration": 26,
    "start_time": "2023-02-22T09:49:26.206Z"
   },
   {
    "duration": 44,
    "start_time": "2023-02-22T09:49:26.234Z"
   },
   {
    "duration": 5,
    "start_time": "2023-02-22T09:49:26.280Z"
   },
   {
    "duration": 8,
    "start_time": "2023-02-22T09:49:26.286Z"
   },
   {
    "duration": 21,
    "start_time": "2023-02-22T09:49:26.296Z"
   },
   {
    "duration": 11,
    "start_time": "2023-02-22T09:49:26.321Z"
   },
   {
    "duration": 15,
    "start_time": "2023-02-22T09:49:26.334Z"
   },
   {
    "duration": 13,
    "start_time": "2023-02-22T09:49:26.351Z"
   },
   {
    "duration": 862,
    "start_time": "2023-02-22T09:49:26.366Z"
   },
   {
    "duration": 5,
    "start_time": "2023-02-22T09:49:27.230Z"
   },
   {
    "duration": 18,
    "start_time": "2023-02-22T09:49:27.237Z"
   },
   {
    "duration": 7,
    "start_time": "2023-02-22T09:49:27.257Z"
   },
   {
    "duration": 12,
    "start_time": "2023-02-22T09:49:27.265Z"
   },
   {
    "duration": 11,
    "start_time": "2023-02-22T09:49:27.279Z"
   },
   {
    "duration": 13,
    "start_time": "2023-02-22T09:49:27.292Z"
   },
   {
    "duration": 14,
    "start_time": "2023-02-22T09:50:39.268Z"
   },
   {
    "duration": 462,
    "start_time": "2023-02-22T09:56:45.822Z"
   },
   {
    "duration": 5,
    "start_time": "2023-02-22T09:59:19.375Z"
   },
   {
    "duration": 12,
    "start_time": "2023-02-22T09:59:40.627Z"
   },
   {
    "duration": 8,
    "start_time": "2023-02-22T10:03:04.676Z"
   },
   {
    "duration": 93,
    "start_time": "2023-02-22T10:03:41.396Z"
   },
   {
    "duration": 4,
    "start_time": "2023-02-22T10:03:49.497Z"
   },
   {
    "duration": 4,
    "start_time": "2023-02-22T10:04:16.786Z"
   },
   {
    "duration": 1348,
    "start_time": "2023-02-22T10:05:25.975Z"
   },
   {
    "duration": 65,
    "start_time": "2023-02-22T10:05:27.326Z"
   },
   {
    "duration": 17,
    "start_time": "2023-02-22T10:05:27.393Z"
   },
   {
    "duration": 21,
    "start_time": "2023-02-22T10:05:27.412Z"
   },
   {
    "duration": 38,
    "start_time": "2023-02-22T10:05:27.435Z"
   },
   {
    "duration": 32,
    "start_time": "2023-02-22T10:05:27.476Z"
   },
   {
    "duration": 15,
    "start_time": "2023-02-22T10:05:27.510Z"
   },
   {
    "duration": 28,
    "start_time": "2023-02-22T10:05:27.527Z"
   },
   {
    "duration": 21,
    "start_time": "2023-02-22T10:05:27.556Z"
   },
   {
    "duration": 18,
    "start_time": "2023-02-22T10:05:27.582Z"
   },
   {
    "duration": 9,
    "start_time": "2023-02-22T10:05:27.603Z"
   },
   {
    "duration": 19,
    "start_time": "2023-02-22T10:05:27.614Z"
   },
   {
    "duration": 260,
    "start_time": "2023-02-22T10:05:27.635Z"
   },
   {
    "duration": 6,
    "start_time": "2023-02-22T10:05:27.897Z"
   },
   {
    "duration": 16,
    "start_time": "2023-02-22T10:05:27.905Z"
   },
   {
    "duration": 34,
    "start_time": "2023-02-22T10:05:27.923Z"
   },
   {
    "duration": 41,
    "start_time": "2023-02-22T10:05:27.959Z"
   },
   {
    "duration": 19,
    "start_time": "2023-02-22T10:05:28.002Z"
   },
   {
    "duration": 14,
    "start_time": "2023-02-22T10:05:28.023Z"
   },
   {
    "duration": 27,
    "start_time": "2023-02-22T10:05:28.039Z"
   },
   {
    "duration": 25,
    "start_time": "2023-02-22T10:05:28.067Z"
   },
   {
    "duration": 10,
    "start_time": "2023-02-22T10:05:28.093Z"
   },
   {
    "duration": 11,
    "start_time": "2023-02-22T10:05:28.105Z"
   },
   {
    "duration": 8,
    "start_time": "2023-02-22T10:05:28.117Z"
   },
   {
    "duration": 20,
    "start_time": "2023-02-22T10:05:28.127Z"
   },
   {
    "duration": 13,
    "start_time": "2023-02-22T10:05:28.149Z"
   },
   {
    "duration": 933,
    "start_time": "2023-02-22T10:05:28.164Z"
   },
   {
    "duration": 5,
    "start_time": "2023-02-22T10:05:29.100Z"
   },
   {
    "duration": 17,
    "start_time": "2023-02-22T10:05:29.106Z"
   },
   {
    "duration": 8,
    "start_time": "2023-02-22T10:05:29.124Z"
   },
   {
    "duration": 21,
    "start_time": "2023-02-22T10:05:29.133Z"
   },
   {
    "duration": 35,
    "start_time": "2023-02-22T10:05:29.156Z"
   },
   {
    "duration": 31,
    "start_time": "2023-02-22T10:05:29.193Z"
   },
   {
    "duration": 20,
    "start_time": "2023-02-22T10:05:29.225Z"
   },
   {
    "duration": 33,
    "start_time": "2023-02-22T10:05:29.247Z"
   },
   {
    "duration": 5,
    "start_time": "2023-02-22T10:05:29.283Z"
   },
   {
    "duration": 7,
    "start_time": "2023-02-22T10:05:29.290Z"
   },
   {
    "duration": 14,
    "start_time": "2023-02-22T10:06:20.780Z"
   },
   {
    "duration": 10,
    "start_time": "2023-02-22T10:07:35.334Z"
   },
   {
    "duration": 9,
    "start_time": "2023-02-22T10:09:38.224Z"
   },
   {
    "duration": 8,
    "start_time": "2023-02-22T10:10:00.537Z"
   },
   {
    "duration": 21,
    "start_time": "2023-02-22T10:10:23.732Z"
   },
   {
    "duration": 10,
    "start_time": "2023-02-22T10:11:13.811Z"
   },
   {
    "duration": 5,
    "start_time": "2023-02-22T10:14:20.383Z"
   },
   {
    "duration": 22,
    "start_time": "2023-02-22T10:14:32.090Z"
   },
   {
    "duration": 1250,
    "start_time": "2023-02-22T10:15:16.684Z"
   },
   {
    "duration": 65,
    "start_time": "2023-02-22T10:15:17.937Z"
   },
   {
    "duration": 21,
    "start_time": "2023-02-22T10:15:18.004Z"
   },
   {
    "duration": 36,
    "start_time": "2023-02-22T10:15:18.027Z"
   },
   {
    "duration": 37,
    "start_time": "2023-02-22T10:15:18.066Z"
   },
   {
    "duration": 24,
    "start_time": "2023-02-22T10:15:18.105Z"
   },
   {
    "duration": 25,
    "start_time": "2023-02-22T10:15:18.131Z"
   },
   {
    "duration": 26,
    "start_time": "2023-02-22T10:15:18.160Z"
   },
   {
    "duration": 23,
    "start_time": "2023-02-22T10:15:18.188Z"
   },
   {
    "duration": 11,
    "start_time": "2023-02-22T10:15:18.213Z"
   },
   {
    "duration": 14,
    "start_time": "2023-02-22T10:15:18.226Z"
   },
   {
    "duration": 35,
    "start_time": "2023-02-22T10:15:18.241Z"
   },
   {
    "duration": 186,
    "start_time": "2023-02-22T10:15:18.278Z"
   },
   {
    "duration": 6,
    "start_time": "2023-02-22T10:15:18.469Z"
   },
   {
    "duration": 15,
    "start_time": "2023-02-22T10:15:18.476Z"
   },
   {
    "duration": 30,
    "start_time": "2023-02-22T10:15:18.493Z"
   },
   {
    "duration": 13,
    "start_time": "2023-02-22T10:15:18.525Z"
   },
   {
    "duration": 9,
    "start_time": "2023-02-22T10:15:18.539Z"
   },
   {
    "duration": 22,
    "start_time": "2023-02-22T10:15:18.554Z"
   },
   {
    "duration": 22,
    "start_time": "2023-02-22T10:15:18.578Z"
   },
   {
    "duration": 4,
    "start_time": "2023-02-22T10:15:18.602Z"
   },
   {
    "duration": 10,
    "start_time": "2023-02-22T10:15:18.607Z"
   },
   {
    "duration": 14,
    "start_time": "2023-02-22T10:15:18.618Z"
   },
   {
    "duration": 17,
    "start_time": "2023-02-22T10:15:18.634Z"
   },
   {
    "duration": 30,
    "start_time": "2023-02-22T10:15:18.652Z"
   },
   {
    "duration": 9,
    "start_time": "2023-02-22T10:15:18.683Z"
   },
   {
    "duration": 933,
    "start_time": "2023-02-22T10:15:18.693Z"
   },
   {
    "duration": 6,
    "start_time": "2023-02-22T10:15:19.629Z"
   },
   {
    "duration": 19,
    "start_time": "2023-02-22T10:15:19.637Z"
   },
   {
    "duration": 25,
    "start_time": "2023-02-22T10:15:19.657Z"
   },
   {
    "duration": 19,
    "start_time": "2023-02-22T10:15:19.684Z"
   },
   {
    "duration": 19,
    "start_time": "2023-02-22T10:15:19.705Z"
   },
   {
    "duration": 14,
    "start_time": "2023-02-22T10:15:19.726Z"
   },
   {
    "duration": 21,
    "start_time": "2023-02-22T10:15:19.742Z"
   },
   {
    "duration": 42,
    "start_time": "2023-02-22T10:15:19.764Z"
   },
   {
    "duration": 8,
    "start_time": "2023-02-22T10:15:19.808Z"
   },
   {
    "duration": 22,
    "start_time": "2023-02-22T10:15:19.818Z"
   },
   {
    "duration": 43,
    "start_time": "2023-02-22T10:15:19.842Z"
   },
   {
    "duration": 3,
    "start_time": "2023-02-22T10:15:19.887Z"
   },
   {
    "duration": 13,
    "start_time": "2023-02-22T10:15:19.891Z"
   },
   {
    "duration": 5,
    "start_time": "2023-02-22T10:15:19.907Z"
   },
   {
    "duration": 17,
    "start_time": "2023-02-22T10:15:19.914Z"
   },
   {
    "duration": 13,
    "start_time": "2023-02-22T10:16:58.770Z"
   },
   {
    "duration": 212,
    "start_time": "2023-02-22T10:17:09.077Z"
   },
   {
    "duration": 2,
    "start_time": "2023-02-22T10:22:13.318Z"
   },
   {
    "duration": 47,
    "start_time": "2023-02-22T10:22:27.497Z"
   },
   {
    "duration": 914,
    "start_time": "2023-02-22T10:23:17.955Z"
   },
   {
    "duration": 918,
    "start_time": "2023-02-22T10:23:23.820Z"
   },
   {
    "duration": 17,
    "start_time": "2023-02-22T10:30:51.592Z"
   },
   {
    "duration": 15,
    "start_time": "2023-02-22T11:01:00.527Z"
   },
   {
    "duration": 16,
    "start_time": "2023-02-22T11:01:56.159Z"
   },
   {
    "duration": 14,
    "start_time": "2023-02-22T11:02:38.926Z"
   },
   {
    "duration": 18,
    "start_time": "2023-02-22T11:06:26.659Z"
   },
   {
    "duration": 16,
    "start_time": "2023-02-22T11:11:09.634Z"
   },
   {
    "duration": 101,
    "start_time": "2023-02-22T11:11:30.910Z"
   },
   {
    "duration": 14,
    "start_time": "2023-02-22T11:12:46.737Z"
   },
   {
    "duration": 17,
    "start_time": "2023-02-22T11:12:54.898Z"
   },
   {
    "duration": 1219,
    "start_time": "2023-02-22T11:13:05.893Z"
   },
   {
    "duration": 67,
    "start_time": "2023-02-22T11:13:07.115Z"
   },
   {
    "duration": 19,
    "start_time": "2023-02-22T11:13:07.184Z"
   },
   {
    "duration": 26,
    "start_time": "2023-02-22T11:13:07.206Z"
   },
   {
    "duration": 30,
    "start_time": "2023-02-22T11:13:07.234Z"
   },
   {
    "duration": 20,
    "start_time": "2023-02-22T11:13:07.266Z"
   },
   {
    "duration": 21,
    "start_time": "2023-02-22T11:13:07.288Z"
   },
   {
    "duration": 43,
    "start_time": "2023-02-22T11:13:07.311Z"
   },
   {
    "duration": 12,
    "start_time": "2023-02-22T11:13:07.356Z"
   },
   {
    "duration": 14,
    "start_time": "2023-02-22T11:13:07.371Z"
   },
   {
    "duration": 7,
    "start_time": "2023-02-22T11:13:07.387Z"
   },
   {
    "duration": 32,
    "start_time": "2023-02-22T11:13:07.396Z"
   },
   {
    "duration": 268,
    "start_time": "2023-02-22T11:13:07.430Z"
   },
   {
    "duration": 6,
    "start_time": "2023-02-22T11:13:07.700Z"
   },
   {
    "duration": 20,
    "start_time": "2023-02-22T11:13:07.708Z"
   },
   {
    "duration": 24,
    "start_time": "2023-02-22T11:13:07.730Z"
   },
   {
    "duration": 12,
    "start_time": "2023-02-22T11:13:07.756Z"
   },
   {
    "duration": 13,
    "start_time": "2023-02-22T11:13:07.770Z"
   },
   {
    "duration": 7,
    "start_time": "2023-02-22T11:13:07.785Z"
   },
   {
    "duration": 17,
    "start_time": "2023-02-22T11:13:07.794Z"
   },
   {
    "duration": 40,
    "start_time": "2023-02-22T11:13:07.813Z"
   },
   {
    "duration": 6,
    "start_time": "2023-02-22T11:13:07.855Z"
   },
   {
    "duration": 12,
    "start_time": "2023-02-22T11:13:07.863Z"
   },
   {
    "duration": 11,
    "start_time": "2023-02-22T11:13:07.876Z"
   },
   {
    "duration": 13,
    "start_time": "2023-02-22T11:13:07.889Z"
   },
   {
    "duration": 9,
    "start_time": "2023-02-22T11:13:07.903Z"
   },
   {
    "duration": 827,
    "start_time": "2023-02-22T11:13:07.914Z"
   },
   {
    "duration": 9,
    "start_time": "2023-02-22T11:13:08.745Z"
   },
   {
    "duration": 8,
    "start_time": "2023-02-22T11:13:08.756Z"
   },
   {
    "duration": 5,
    "start_time": "2023-02-22T11:13:08.765Z"
   },
   {
    "duration": 11,
    "start_time": "2023-02-22T11:13:08.772Z"
   },
   {
    "duration": 13,
    "start_time": "2023-02-22T11:13:08.785Z"
   },
   {
    "duration": 8,
    "start_time": "2023-02-22T11:13:08.800Z"
   },
   {
    "duration": 8,
    "start_time": "2023-02-22T11:13:08.810Z"
   },
   {
    "duration": 16,
    "start_time": "2023-02-22T11:13:08.854Z"
   },
   {
    "duration": 9,
    "start_time": "2023-02-22T11:13:08.872Z"
   },
   {
    "duration": 18,
    "start_time": "2023-02-22T11:13:08.882Z"
   },
   {
    "duration": 14,
    "start_time": "2023-02-22T11:13:08.902Z"
   },
   {
    "duration": 3,
    "start_time": "2023-02-22T11:13:08.918Z"
   },
   {
    "duration": 33,
    "start_time": "2023-02-22T11:13:08.922Z"
   },
   {
    "duration": 12,
    "start_time": "2023-02-22T11:13:08.956Z"
   },
   {
    "duration": 15,
    "start_time": "2023-02-22T11:13:08.969Z"
   },
   {
    "duration": 12,
    "start_time": "2023-02-22T11:13:08.986Z"
   },
   {
    "duration": 208,
    "start_time": "2023-02-22T11:13:09.000Z"
   },
   {
    "duration": 47,
    "start_time": "2023-02-22T11:13:09.209Z"
   },
   {
    "duration": 950,
    "start_time": "2023-02-22T11:13:09.258Z"
   },
   {
    "duration": 16,
    "start_time": "2023-02-22T11:13:10.210Z"
   },
   {
    "duration": 15,
    "start_time": "2023-02-22T11:13:10.228Z"
   },
   {
    "duration": 28,
    "start_time": "2023-02-22T11:13:10.244Z"
   },
   {
    "duration": 20,
    "start_time": "2023-02-22T11:13:10.274Z"
   },
   {
    "duration": 24,
    "start_time": "2023-02-22T11:13:10.295Z"
   },
   {
    "duration": 5,
    "start_time": "2023-02-22T11:14:24.147Z"
   },
   {
    "duration": 5,
    "start_time": "2023-02-22T11:14:41.363Z"
   },
   {
    "duration": 112,
    "start_time": "2023-02-22T11:16:07.721Z"
   },
   {
    "duration": 1135,
    "start_time": "2023-02-22T11:16:13.411Z"
   },
   {
    "duration": 47,
    "start_time": "2023-02-22T11:16:14.548Z"
   },
   {
    "duration": 21,
    "start_time": "2023-02-22T11:16:14.596Z"
   },
   {
    "duration": 20,
    "start_time": "2023-02-22T11:16:14.618Z"
   },
   {
    "duration": 21,
    "start_time": "2023-02-22T11:16:14.640Z"
   },
   {
    "duration": 17,
    "start_time": "2023-02-22T11:16:14.662Z"
   },
   {
    "duration": 11,
    "start_time": "2023-02-22T11:16:14.680Z"
   },
   {
    "duration": 13,
    "start_time": "2023-02-22T11:16:14.693Z"
   },
   {
    "duration": 14,
    "start_time": "2023-02-22T11:16:14.708Z"
   },
   {
    "duration": 39,
    "start_time": "2023-02-22T11:16:14.723Z"
   },
   {
    "duration": 6,
    "start_time": "2023-02-22T11:16:14.764Z"
   },
   {
    "duration": 22,
    "start_time": "2023-02-22T11:16:14.772Z"
   },
   {
    "duration": 187,
    "start_time": "2023-02-22T11:16:14.796Z"
   },
   {
    "duration": 4,
    "start_time": "2023-02-22T11:16:14.986Z"
   },
   {
    "duration": 10,
    "start_time": "2023-02-22T11:16:14.992Z"
   },
   {
    "duration": 4,
    "start_time": "2023-02-22T11:16:15.003Z"
   },
   {
    "duration": 32,
    "start_time": "2023-02-22T11:16:15.009Z"
   },
   {
    "duration": 11,
    "start_time": "2023-02-22T11:16:15.043Z"
   },
   {
    "duration": 8,
    "start_time": "2023-02-22T11:16:15.055Z"
   },
   {
    "duration": 19,
    "start_time": "2023-02-22T11:16:15.065Z"
   },
   {
    "duration": 5,
    "start_time": "2023-02-22T11:16:15.086Z"
   },
   {
    "duration": 11,
    "start_time": "2023-02-22T11:16:15.093Z"
   },
   {
    "duration": 17,
    "start_time": "2023-02-22T11:16:15.106Z"
   },
   {
    "duration": 7,
    "start_time": "2023-02-22T11:16:15.125Z"
   },
   {
    "duration": 30,
    "start_time": "2023-02-22T11:16:15.134Z"
   },
   {
    "duration": 9,
    "start_time": "2023-02-22T11:16:15.166Z"
   },
   {
    "duration": 850,
    "start_time": "2023-02-22T11:16:15.177Z"
   },
   {
    "duration": 5,
    "start_time": "2023-02-22T11:16:16.030Z"
   },
   {
    "duration": 20,
    "start_time": "2023-02-22T11:16:16.037Z"
   },
   {
    "duration": 8,
    "start_time": "2023-02-22T11:16:16.058Z"
   },
   {
    "duration": 12,
    "start_time": "2023-02-22T11:16:16.068Z"
   },
   {
    "duration": 15,
    "start_time": "2023-02-22T11:16:16.082Z"
   },
   {
    "duration": 11,
    "start_time": "2023-02-22T11:16:16.099Z"
   },
   {
    "duration": 46,
    "start_time": "2023-02-22T11:16:16.112Z"
   },
   {
    "duration": 18,
    "start_time": "2023-02-22T11:16:16.160Z"
   },
   {
    "duration": 14,
    "start_time": "2023-02-22T11:16:16.179Z"
   },
   {
    "duration": 21,
    "start_time": "2023-02-22T11:16:16.196Z"
   },
   {
    "duration": 45,
    "start_time": "2023-02-22T11:16:16.219Z"
   },
   {
    "duration": 4,
    "start_time": "2023-02-22T11:16:16.266Z"
   },
   {
    "duration": 8,
    "start_time": "2023-02-22T11:16:16.271Z"
   },
   {
    "duration": 8,
    "start_time": "2023-02-22T11:16:16.283Z"
   },
   {
    "duration": 22,
    "start_time": "2023-02-22T11:16:16.293Z"
   },
   {
    "duration": 45,
    "start_time": "2023-02-22T11:16:16.317Z"
   },
   {
    "duration": 245,
    "start_time": "2023-02-22T11:16:16.364Z"
   },
   {
    "duration": 44,
    "start_time": "2023-02-22T11:16:16.610Z"
   },
   {
    "duration": 980,
    "start_time": "2023-02-22T11:16:16.656Z"
   },
   {
    "duration": 31,
    "start_time": "2023-02-22T11:16:17.638Z"
   },
   {
    "duration": 10,
    "start_time": "2023-02-22T11:16:17.672Z"
   },
   {
    "duration": 26,
    "start_time": "2023-02-22T11:16:17.687Z"
   },
   {
    "duration": 27,
    "start_time": "2023-02-22T11:16:17.715Z"
   },
   {
    "duration": 29,
    "start_time": "2023-02-22T11:16:17.744Z"
   },
   {
    "duration": 31,
    "start_time": "2023-02-22T11:16:17.775Z"
   },
   {
    "duration": 16,
    "start_time": "2023-02-22T11:16:33.536Z"
   },
   {
    "duration": 24,
    "start_time": "2023-02-22T11:18:30.733Z"
   },
   {
    "duration": 14,
    "start_time": "2023-02-22T11:19:24.229Z"
   },
   {
    "duration": 15,
    "start_time": "2023-02-22T11:20:13.455Z"
   },
   {
    "duration": 1260,
    "start_time": "2023-02-22T11:23:45.537Z"
   },
   {
    "duration": 51,
    "start_time": "2023-02-22T11:23:46.800Z"
   },
   {
    "duration": 16,
    "start_time": "2023-02-22T11:23:46.853Z"
   },
   {
    "duration": 23,
    "start_time": "2023-02-22T11:23:46.871Z"
   },
   {
    "duration": 16,
    "start_time": "2023-02-22T11:23:46.897Z"
   },
   {
    "duration": 43,
    "start_time": "2023-02-22T11:23:46.915Z"
   },
   {
    "duration": 10,
    "start_time": "2023-02-22T11:23:46.960Z"
   },
   {
    "duration": 16,
    "start_time": "2023-02-22T11:23:46.972Z"
   },
   {
    "duration": 11,
    "start_time": "2023-02-22T11:23:46.990Z"
   },
   {
    "duration": 9,
    "start_time": "2023-02-22T11:23:47.002Z"
   },
   {
    "duration": 6,
    "start_time": "2023-02-22T11:23:47.013Z"
   },
   {
    "duration": 51,
    "start_time": "2023-02-22T11:23:47.021Z"
   },
   {
    "duration": 174,
    "start_time": "2023-02-22T11:23:47.074Z"
   },
   {
    "duration": 5,
    "start_time": "2023-02-22T11:23:47.252Z"
   },
   {
    "duration": 11,
    "start_time": "2023-02-22T11:23:47.259Z"
   },
   {
    "duration": 5,
    "start_time": "2023-02-22T11:23:47.272Z"
   },
   {
    "duration": 16,
    "start_time": "2023-02-22T11:23:47.278Z"
   },
   {
    "duration": 12,
    "start_time": "2023-02-22T11:23:47.295Z"
   },
   {
    "duration": 21,
    "start_time": "2023-02-22T11:23:47.309Z"
   },
   {
    "duration": 21,
    "start_time": "2023-02-22T11:23:47.353Z"
   },
   {
    "duration": 30,
    "start_time": "2023-02-22T11:23:47.376Z"
   },
   {
    "duration": 26,
    "start_time": "2023-02-22T11:23:47.410Z"
   },
   {
    "duration": 21,
    "start_time": "2023-02-22T11:23:47.439Z"
   },
   {
    "duration": 26,
    "start_time": "2023-02-22T11:23:47.462Z"
   },
   {
    "duration": 24,
    "start_time": "2023-02-22T11:23:47.491Z"
   },
   {
    "duration": 56,
    "start_time": "2023-02-22T11:23:47.517Z"
   },
   {
    "duration": 894,
    "start_time": "2023-02-22T11:23:47.575Z"
   },
   {
    "duration": 6,
    "start_time": "2023-02-22T11:23:48.470Z"
   },
   {
    "duration": 17,
    "start_time": "2023-02-22T11:23:48.477Z"
   },
   {
    "duration": 12,
    "start_time": "2023-02-22T11:23:48.495Z"
   },
   {
    "duration": 20,
    "start_time": "2023-02-22T11:23:48.509Z"
   },
   {
    "duration": 22,
    "start_time": "2023-02-22T11:23:48.531Z"
   },
   {
    "duration": 24,
    "start_time": "2023-02-22T11:23:48.555Z"
   },
   {
    "duration": 37,
    "start_time": "2023-02-22T11:23:48.581Z"
   },
   {
    "duration": 23,
    "start_time": "2023-02-22T11:23:48.620Z"
   },
   {
    "duration": 15,
    "start_time": "2023-02-22T11:23:48.645Z"
   },
   {
    "duration": 21,
    "start_time": "2023-02-22T11:23:48.661Z"
   },
   {
    "duration": 15,
    "start_time": "2023-02-22T11:23:48.683Z"
   },
   {
    "duration": 13,
    "start_time": "2023-02-22T11:23:48.699Z"
   },
   {
    "duration": 25,
    "start_time": "2023-02-22T11:23:48.714Z"
   },
   {
    "duration": 21,
    "start_time": "2023-02-22T11:23:48.743Z"
   },
   {
    "duration": 24,
    "start_time": "2023-02-22T11:23:48.766Z"
   },
   {
    "duration": 25,
    "start_time": "2023-02-22T11:23:48.792Z"
   },
   {
    "duration": 211,
    "start_time": "2023-02-22T11:23:48.819Z"
   },
   {
    "duration": 35,
    "start_time": "2023-02-22T11:23:49.031Z"
   },
   {
    "duration": 983,
    "start_time": "2023-02-22T11:23:49.067Z"
   },
   {
    "duration": 16,
    "start_time": "2023-02-22T11:23:50.053Z"
   },
   {
    "duration": 17,
    "start_time": "2023-02-22T11:23:50.071Z"
   },
   {
    "duration": 10,
    "start_time": "2023-02-22T11:23:50.089Z"
   },
   {
    "duration": 18,
    "start_time": "2023-02-22T11:23:50.100Z"
   },
   {
    "duration": 40,
    "start_time": "2023-02-22T11:23:50.119Z"
   },
   {
    "duration": 6,
    "start_time": "2023-02-22T11:23:50.160Z"
   },
   {
    "duration": 18,
    "start_time": "2023-02-22T11:23:50.168Z"
   },
   {
    "duration": 17,
    "start_time": "2023-02-22T11:23:50.188Z"
   },
   {
    "duration": 14,
    "start_time": "2023-02-22T11:23:50.207Z"
   },
   {
    "duration": 895,
    "start_time": "2023-02-22T11:23:50.223Z"
   },
   {
    "duration": 18,
    "start_time": "2023-02-22T11:23:51.121Z"
   },
   {
    "duration": 1288,
    "start_time": "2023-02-22T11:26:57.252Z"
   },
   {
    "duration": 53,
    "start_time": "2023-02-22T11:26:58.542Z"
   },
   {
    "duration": 16,
    "start_time": "2023-02-22T11:26:58.597Z"
   },
   {
    "duration": 25,
    "start_time": "2023-02-22T11:26:58.615Z"
   },
   {
    "duration": 18,
    "start_time": "2023-02-22T11:26:58.643Z"
   },
   {
    "duration": 21,
    "start_time": "2023-02-22T11:26:58.663Z"
   },
   {
    "duration": 26,
    "start_time": "2023-02-22T11:26:58.686Z"
   },
   {
    "duration": 17,
    "start_time": "2023-02-22T11:26:58.715Z"
   },
   {
    "duration": 29,
    "start_time": "2023-02-22T11:26:58.733Z"
   },
   {
    "duration": 12,
    "start_time": "2023-02-22T11:26:58.764Z"
   },
   {
    "duration": 6,
    "start_time": "2023-02-22T11:26:58.778Z"
   },
   {
    "duration": 19,
    "start_time": "2023-02-22T11:26:58.786Z"
   },
   {
    "duration": 212,
    "start_time": "2023-02-22T11:26:58.807Z"
   },
   {
    "duration": 4,
    "start_time": "2023-02-22T11:26:59.024Z"
   },
   {
    "duration": 27,
    "start_time": "2023-02-22T11:26:59.030Z"
   },
   {
    "duration": 8,
    "start_time": "2023-02-22T11:26:59.059Z"
   },
   {
    "duration": 11,
    "start_time": "2023-02-22T11:26:59.069Z"
   },
   {
    "duration": 13,
    "start_time": "2023-02-22T11:26:59.081Z"
   },
   {
    "duration": 7,
    "start_time": "2023-02-22T11:26:59.096Z"
   },
   {
    "duration": 17,
    "start_time": "2023-02-22T11:26:59.105Z"
   },
   {
    "duration": 5,
    "start_time": "2023-02-22T11:26:59.154Z"
   },
   {
    "duration": 12,
    "start_time": "2023-02-22T11:26:59.161Z"
   },
   {
    "duration": 10,
    "start_time": "2023-02-22T11:26:59.175Z"
   },
   {
    "duration": 7,
    "start_time": "2023-02-22T11:26:59.186Z"
   },
   {
    "duration": 11,
    "start_time": "2023-02-22T11:26:59.195Z"
   },
   {
    "duration": 8,
    "start_time": "2023-02-22T11:26:59.208Z"
   },
   {
    "duration": 940,
    "start_time": "2023-02-22T11:26:59.218Z"
   },
   {
    "duration": 6,
    "start_time": "2023-02-22T11:27:00.160Z"
   },
   {
    "duration": 12,
    "start_time": "2023-02-22T11:27:00.168Z"
   },
   {
    "duration": 13,
    "start_time": "2023-02-22T11:27:00.181Z"
   },
   {
    "duration": 15,
    "start_time": "2023-02-22T11:27:00.196Z"
   },
   {
    "duration": 30,
    "start_time": "2023-02-22T11:27:00.213Z"
   },
   {
    "duration": 25,
    "start_time": "2023-02-22T11:27:00.245Z"
   },
   {
    "duration": 26,
    "start_time": "2023-02-22T11:27:00.272Z"
   },
   {
    "duration": 26,
    "start_time": "2023-02-22T11:27:00.300Z"
   },
   {
    "duration": 30,
    "start_time": "2023-02-22T11:27:00.328Z"
   },
   {
    "duration": 36,
    "start_time": "2023-02-22T11:27:00.359Z"
   },
   {
    "duration": 45,
    "start_time": "2023-02-22T11:27:00.397Z"
   },
   {
    "duration": 15,
    "start_time": "2023-02-22T11:27:00.443Z"
   },
   {
    "duration": 36,
    "start_time": "2023-02-22T11:27:00.460Z"
   },
   {
    "duration": 25,
    "start_time": "2023-02-22T11:27:00.500Z"
   },
   {
    "duration": 46,
    "start_time": "2023-02-22T11:27:00.527Z"
   },
   {
    "duration": 45,
    "start_time": "2023-02-22T11:27:00.574Z"
   },
   {
    "duration": 209,
    "start_time": "2023-02-22T11:27:00.621Z"
   },
   {
    "duration": 40,
    "start_time": "2023-02-22T11:27:00.832Z"
   },
   {
    "duration": 852,
    "start_time": "2023-02-22T11:27:00.874Z"
   },
   {
    "duration": 14,
    "start_time": "2023-02-22T11:27:01.728Z"
   },
   {
    "duration": 31,
    "start_time": "2023-02-22T11:27:01.752Z"
   },
   {
    "duration": 16,
    "start_time": "2023-02-22T11:27:01.785Z"
   },
   {
    "duration": 34,
    "start_time": "2023-02-22T11:27:01.802Z"
   },
   {
    "duration": 14,
    "start_time": "2023-02-22T11:27:01.838Z"
   },
   {
    "duration": 49,
    "start_time": "2023-02-22T11:27:01.853Z"
   },
   {
    "duration": 32,
    "start_time": "2023-02-22T11:27:01.904Z"
   },
   {
    "duration": 62,
    "start_time": "2023-02-22T11:27:01.938Z"
   },
   {
    "duration": 72,
    "start_time": "2023-02-22T11:27:02.002Z"
   },
   {
    "duration": 898,
    "start_time": "2023-02-22T11:27:02.076Z"
   },
   {
    "duration": 14,
    "start_time": "2023-02-22T11:27:02.976Z"
   },
   {
    "duration": 21,
    "start_time": "2023-02-22T11:27:02.992Z"
   },
   {
    "duration": 203,
    "start_time": "2023-02-22T11:27:03.014Z"
   },
   {
    "duration": 118,
    "start_time": "2023-02-22T11:32:19.840Z"
   },
   {
    "duration": 425,
    "start_time": "2023-02-22T11:32:46.627Z"
   },
   {
    "duration": 370,
    "start_time": "2023-02-22T11:33:19.519Z"
   },
   {
    "duration": 48,
    "start_time": "2023-02-22T11:35:47.329Z"
   },
   {
    "duration": 1386,
    "start_time": "2023-02-22T11:37:19.770Z"
   },
   {
    "duration": 20,
    "start_time": "2023-02-22T11:38:08.457Z"
   },
   {
    "duration": 1178,
    "start_time": "2023-02-22T11:38:23.129Z"
   },
   {
    "duration": 1211,
    "start_time": "2023-02-22T11:39:14.579Z"
   },
   {
    "duration": 1182,
    "start_time": "2023-02-22T11:39:44.926Z"
   },
   {
    "duration": 49,
    "start_time": "2023-02-22T11:40:54.690Z"
   },
   {
    "duration": 11,
    "start_time": "2023-02-22T11:41:14.035Z"
   },
   {
    "duration": 11,
    "start_time": "2023-02-22T11:41:20.834Z"
   },
   {
    "duration": 391,
    "start_time": "2023-02-22T11:41:34.124Z"
   },
   {
    "duration": 329,
    "start_time": "2023-02-22T11:41:40.024Z"
   },
   {
    "duration": 6,
    "start_time": "2023-02-22T11:42:50.005Z"
   },
   {
    "duration": 6,
    "start_time": "2023-02-22T11:43:16.680Z"
   },
   {
    "duration": 5,
    "start_time": "2023-02-22T11:44:03.233Z"
   },
   {
    "duration": 5,
    "start_time": "2023-02-22T11:44:05.821Z"
   },
   {
    "duration": 6,
    "start_time": "2023-02-22T11:44:22.785Z"
   },
   {
    "duration": 382,
    "start_time": "2023-02-22T11:44:24.140Z"
   },
   {
    "duration": 7,
    "start_time": "2023-02-22T11:47:05.714Z"
   },
   {
    "duration": 17,
    "start_time": "2023-02-22T11:49:40.958Z"
   },
   {
    "duration": 5,
    "start_time": "2023-02-22T11:58:25.584Z"
   },
   {
    "duration": 18,
    "start_time": "2023-02-22T11:58:55.660Z"
   },
   {
    "duration": 199,
    "start_time": "2023-02-22T11:59:53.220Z"
   },
   {
    "duration": 73,
    "start_time": "2023-02-22T12:00:38.762Z"
   },
   {
    "duration": 30,
    "start_time": "2023-02-22T12:01:05.435Z"
   },
   {
    "duration": 508,
    "start_time": "2023-02-22T12:04:46.118Z"
   },
   {
    "duration": 470,
    "start_time": "2023-02-22T12:16:02.875Z"
   },
   {
    "duration": 543,
    "start_time": "2023-02-22T12:16:19.317Z"
   },
   {
    "duration": 536,
    "start_time": "2023-02-22T12:16:28.339Z"
   },
   {
    "duration": 700,
    "start_time": "2023-02-22T12:16:41.230Z"
   },
   {
    "duration": 520,
    "start_time": "2023-02-22T12:16:54.521Z"
   },
   {
    "duration": 6,
    "start_time": "2023-02-22T12:19:34.289Z"
   },
   {
    "duration": 31,
    "start_time": "2023-02-22T12:19:44.667Z"
   },
   {
    "duration": 19,
    "start_time": "2023-02-22T12:21:45.294Z"
   },
   {
    "duration": 4,
    "start_time": "2023-02-22T12:22:49.622Z"
   },
   {
    "duration": 6,
    "start_time": "2023-02-22T12:24:50.000Z"
   },
   {
    "duration": 5,
    "start_time": "2023-02-22T12:24:55.999Z"
   },
   {
    "duration": 6,
    "start_time": "2023-02-22T12:25:10.326Z"
   },
   {
    "duration": 1390,
    "start_time": "2023-02-22T12:25:16.471Z"
   },
   {
    "duration": 80,
    "start_time": "2023-02-22T12:25:17.864Z"
   },
   {
    "duration": 19,
    "start_time": "2023-02-22T12:25:17.946Z"
   },
   {
    "duration": 26,
    "start_time": "2023-02-22T12:25:17.966Z"
   },
   {
    "duration": 27,
    "start_time": "2023-02-22T12:25:17.996Z"
   },
   {
    "duration": 46,
    "start_time": "2023-02-22T12:25:18.025Z"
   },
   {
    "duration": 18,
    "start_time": "2023-02-22T12:25:18.073Z"
   },
   {
    "duration": 18,
    "start_time": "2023-02-22T12:25:18.093Z"
   },
   {
    "duration": 40,
    "start_time": "2023-02-22T12:25:18.113Z"
   },
   {
    "duration": 10,
    "start_time": "2023-02-22T12:25:18.156Z"
   },
   {
    "duration": 9,
    "start_time": "2023-02-22T12:25:18.167Z"
   },
   {
    "duration": 22,
    "start_time": "2023-02-22T12:25:18.178Z"
   },
   {
    "duration": 241,
    "start_time": "2023-02-22T12:25:18.202Z"
   },
   {
    "duration": 8,
    "start_time": "2023-02-22T12:25:18.447Z"
   },
   {
    "duration": 16,
    "start_time": "2023-02-22T12:25:18.457Z"
   },
   {
    "duration": 5,
    "start_time": "2023-02-22T12:25:18.475Z"
   },
   {
    "duration": 13,
    "start_time": "2023-02-22T12:25:18.482Z"
   },
   {
    "duration": 9,
    "start_time": "2023-02-22T12:25:18.497Z"
   },
   {
    "duration": 10,
    "start_time": "2023-02-22T12:25:18.508Z"
   },
   {
    "duration": 53,
    "start_time": "2023-02-22T12:25:18.520Z"
   },
   {
    "duration": 9,
    "start_time": "2023-02-22T12:25:18.575Z"
   },
   {
    "duration": 11,
    "start_time": "2023-02-22T12:25:18.586Z"
   },
   {
    "duration": 11,
    "start_time": "2023-02-22T12:25:18.599Z"
   },
   {
    "duration": 23,
    "start_time": "2023-02-22T12:25:18.612Z"
   },
   {
    "duration": 22,
    "start_time": "2023-02-22T12:25:18.637Z"
   },
   {
    "duration": 10,
    "start_time": "2023-02-22T12:25:18.661Z"
   },
   {
    "duration": 927,
    "start_time": "2023-02-22T12:25:18.673Z"
   },
   {
    "duration": 7,
    "start_time": "2023-02-22T12:25:19.603Z"
   },
   {
    "duration": 14,
    "start_time": "2023-02-22T12:25:19.611Z"
   },
   {
    "duration": 15,
    "start_time": "2023-02-22T12:25:19.627Z"
   },
   {
    "duration": 12,
    "start_time": "2023-02-22T12:25:19.654Z"
   },
   {
    "duration": 16,
    "start_time": "2023-02-22T12:25:19.668Z"
   },
   {
    "duration": 16,
    "start_time": "2023-02-22T12:25:19.686Z"
   },
   {
    "duration": 14,
    "start_time": "2023-02-22T12:25:19.705Z"
   },
   {
    "duration": 28,
    "start_time": "2023-02-22T12:25:19.753Z"
   },
   {
    "duration": 16,
    "start_time": "2023-02-22T12:25:19.783Z"
   },
   {
    "duration": 34,
    "start_time": "2023-02-22T12:25:19.801Z"
   },
   {
    "duration": 22,
    "start_time": "2023-02-22T12:25:19.854Z"
   },
   {
    "duration": 5,
    "start_time": "2023-02-22T12:25:19.878Z"
   },
   {
    "duration": 10,
    "start_time": "2023-02-22T12:25:19.885Z"
   },
   {
    "duration": 15,
    "start_time": "2023-02-22T12:25:19.902Z"
   },
   {
    "duration": 39,
    "start_time": "2023-02-22T12:25:19.920Z"
   },
   {
    "duration": 17,
    "start_time": "2023-02-22T12:25:19.961Z"
   },
   {
    "duration": 245,
    "start_time": "2023-02-22T12:25:19.981Z"
   },
   {
    "duration": 54,
    "start_time": "2023-02-22T12:25:20.229Z"
   },
   {
    "duration": 936,
    "start_time": "2023-02-22T12:25:20.285Z"
   },
   {
    "duration": 17,
    "start_time": "2023-02-22T12:25:21.223Z"
   },
   {
    "duration": 17,
    "start_time": "2023-02-22T12:25:21.254Z"
   },
   {
    "duration": 10,
    "start_time": "2023-02-22T12:25:21.273Z"
   },
   {
    "duration": 15,
    "start_time": "2023-02-22T12:25:21.284Z"
   },
   {
    "duration": 20,
    "start_time": "2023-02-22T12:25:21.301Z"
   },
   {
    "duration": 33,
    "start_time": "2023-02-22T12:25:21.322Z"
   },
   {
    "duration": 21,
    "start_time": "2023-02-22T12:25:21.356Z"
   },
   {
    "duration": 19,
    "start_time": "2023-02-22T12:25:21.379Z"
   },
   {
    "duration": 10,
    "start_time": "2023-02-22T12:25:21.399Z"
   },
   {
    "duration": 1001,
    "start_time": "2023-02-22T12:25:21.411Z"
   },
   {
    "duration": 360,
    "start_time": "2023-02-22T12:25:22.414Z"
   },
   {
    "duration": 5,
    "start_time": "2023-02-22T12:25:22.775Z"
   },
   {
    "duration": 423,
    "start_time": "2023-02-22T12:25:22.782Z"
   },
   {
    "duration": 9,
    "start_time": "2023-02-22T12:25:23.206Z"
   },
   {
    "duration": 13,
    "start_time": "2023-02-22T12:25:23.217Z"
   },
   {
    "duration": 28,
    "start_time": "2023-02-22T12:25:23.233Z"
   },
   {
    "duration": 215,
    "start_time": "2023-02-22T12:25:23.263Z"
   },
   {
    "duration": 30,
    "start_time": "2023-02-22T12:25:23.480Z"
   },
   {
    "duration": 554,
    "start_time": "2023-02-22T12:25:23.512Z"
   },
   {
    "duration": 7,
    "start_time": "2023-02-22T12:25:24.068Z"
   },
   {
    "duration": 37,
    "start_time": "2023-02-22T12:25:24.076Z"
   },
   {
    "duration": 240,
    "start_time": "2023-02-22T12:25:24.115Z"
   },
   {
    "duration": 7,
    "start_time": "2023-02-22T12:25:45.712Z"
   },
   {
    "duration": 31,
    "start_time": "2023-02-22T12:25:50.218Z"
   },
   {
    "duration": 1437,
    "start_time": "2023-02-22T12:25:57.155Z"
   },
   {
    "duration": 55,
    "start_time": "2023-02-22T12:25:58.594Z"
   },
   {
    "duration": 18,
    "start_time": "2023-02-22T12:25:58.650Z"
   },
   {
    "duration": 26,
    "start_time": "2023-02-22T12:25:58.670Z"
   },
   {
    "duration": 17,
    "start_time": "2023-02-22T12:25:58.698Z"
   },
   {
    "duration": 46,
    "start_time": "2023-02-22T12:25:58.717Z"
   },
   {
    "duration": 19,
    "start_time": "2023-02-22T12:25:58.764Z"
   },
   {
    "duration": 30,
    "start_time": "2023-02-22T12:25:58.784Z"
   },
   {
    "duration": 26,
    "start_time": "2023-02-22T12:25:58.816Z"
   },
   {
    "duration": 14,
    "start_time": "2023-02-22T12:25:58.844Z"
   },
   {
    "duration": 7,
    "start_time": "2023-02-22T12:25:58.860Z"
   },
   {
    "duration": 21,
    "start_time": "2023-02-22T12:25:58.869Z"
   },
   {
    "duration": 230,
    "start_time": "2023-02-22T12:25:58.892Z"
   },
   {
    "duration": 6,
    "start_time": "2023-02-22T12:25:59.126Z"
   },
   {
    "duration": 26,
    "start_time": "2023-02-22T12:25:59.133Z"
   },
   {
    "duration": 5,
    "start_time": "2023-02-22T12:25:59.161Z"
   },
   {
    "duration": 12,
    "start_time": "2023-02-22T12:25:59.167Z"
   },
   {
    "duration": 9,
    "start_time": "2023-02-22T12:25:59.181Z"
   },
   {
    "duration": 8,
    "start_time": "2023-02-22T12:25:59.192Z"
   },
   {
    "duration": 18,
    "start_time": "2023-02-22T12:25:59.202Z"
   },
   {
    "duration": 35,
    "start_time": "2023-02-22T12:25:59.221Z"
   },
   {
    "duration": 10,
    "start_time": "2023-02-22T12:25:59.258Z"
   },
   {
    "duration": 11,
    "start_time": "2023-02-22T12:25:59.270Z"
   },
   {
    "duration": 8,
    "start_time": "2023-02-22T12:25:59.283Z"
   },
   {
    "duration": 14,
    "start_time": "2023-02-22T12:25:59.294Z"
   },
   {
    "duration": 10,
    "start_time": "2023-02-22T12:25:59.310Z"
   },
   {
    "duration": 949,
    "start_time": "2023-02-22T12:25:59.322Z"
   },
   {
    "duration": 7,
    "start_time": "2023-02-22T12:26:00.273Z"
   },
   {
    "duration": 19,
    "start_time": "2023-02-22T12:26:00.282Z"
   },
   {
    "duration": 23,
    "start_time": "2023-02-22T12:26:00.303Z"
   },
   {
    "duration": 19,
    "start_time": "2023-02-22T12:26:00.328Z"
   },
   {
    "duration": 26,
    "start_time": "2023-02-22T12:26:00.349Z"
   },
   {
    "duration": 25,
    "start_time": "2023-02-22T12:26:00.378Z"
   },
   {
    "duration": 18,
    "start_time": "2023-02-22T12:26:00.405Z"
   },
   {
    "duration": 37,
    "start_time": "2023-02-22T12:26:00.426Z"
   },
   {
    "duration": 101,
    "start_time": "2023-02-22T12:26:00.465Z"
   },
   {
    "duration": 59,
    "start_time": "2023-02-22T12:26:00.568Z"
   },
   {
    "duration": 33,
    "start_time": "2023-02-22T12:26:00.628Z"
   },
   {
    "duration": 32,
    "start_time": "2023-02-22T12:26:00.663Z"
   },
   {
    "duration": 35,
    "start_time": "2023-02-22T12:26:00.697Z"
   },
   {
    "duration": 21,
    "start_time": "2023-02-22T12:26:00.736Z"
   },
   {
    "duration": 36,
    "start_time": "2023-02-22T12:26:00.759Z"
   },
   {
    "duration": 32,
    "start_time": "2023-02-22T12:26:00.798Z"
   },
   {
    "duration": 230,
    "start_time": "2023-02-22T12:26:00.832Z"
   },
   {
    "duration": 36,
    "start_time": "2023-02-22T12:26:01.064Z"
   },
   {
    "duration": 1025,
    "start_time": "2023-02-22T12:26:01.102Z"
   },
   {
    "duration": 30,
    "start_time": "2023-02-22T12:26:02.130Z"
   },
   {
    "duration": 38,
    "start_time": "2023-02-22T12:26:02.163Z"
   },
   {
    "duration": 25,
    "start_time": "2023-02-22T12:26:02.204Z"
   },
   {
    "duration": 34,
    "start_time": "2023-02-22T12:26:02.232Z"
   },
   {
    "duration": 36,
    "start_time": "2023-02-22T12:26:02.268Z"
   },
   {
    "duration": 9,
    "start_time": "2023-02-22T12:26:02.306Z"
   },
   {
    "duration": 22,
    "start_time": "2023-02-22T12:26:02.317Z"
   },
   {
    "duration": 30,
    "start_time": "2023-02-22T12:26:02.341Z"
   },
   {
    "duration": 26,
    "start_time": "2023-02-22T12:26:02.373Z"
   },
   {
    "duration": 976,
    "start_time": "2023-02-22T12:26:02.401Z"
   },
   {
    "duration": 352,
    "start_time": "2023-02-22T12:26:03.379Z"
   },
   {
    "duration": 5,
    "start_time": "2023-02-22T12:26:03.733Z"
   },
   {
    "duration": 391,
    "start_time": "2023-02-22T12:26:03.739Z"
   },
   {
    "duration": 7,
    "start_time": "2023-02-22T12:26:04.132Z"
   },
   {
    "duration": 6,
    "start_time": "2023-02-22T12:26:04.142Z"
   },
   {
    "duration": 20,
    "start_time": "2023-02-22T12:26:04.150Z"
   },
   {
    "duration": 262,
    "start_time": "2023-02-22T12:26:04.174Z"
   },
   {
    "duration": 39,
    "start_time": "2023-02-22T12:26:04.438Z"
   },
   {
    "duration": 526,
    "start_time": "2023-02-22T12:26:04.479Z"
   },
   {
    "duration": 8,
    "start_time": "2023-02-22T12:26:05.007Z"
   },
   {
    "duration": 72,
    "start_time": "2023-02-22T12:26:05.017Z"
   },
   {
    "duration": 223,
    "start_time": "2023-02-22T12:26:05.091Z"
   },
   {
    "duration": 223,
    "start_time": "2023-02-22T12:27:25.685Z"
   },
   {
    "duration": 1215,
    "start_time": "2023-02-22T12:28:32.164Z"
   },
   {
    "duration": 53,
    "start_time": "2023-02-22T12:28:33.381Z"
   },
   {
    "duration": 22,
    "start_time": "2023-02-22T12:28:33.435Z"
   },
   {
    "duration": 23,
    "start_time": "2023-02-22T12:28:33.459Z"
   },
   {
    "duration": 17,
    "start_time": "2023-02-22T12:28:33.484Z"
   },
   {
    "duration": 27,
    "start_time": "2023-02-22T12:28:33.503Z"
   },
   {
    "duration": 29,
    "start_time": "2023-02-22T12:28:33.532Z"
   },
   {
    "duration": 34,
    "start_time": "2023-02-22T12:28:33.563Z"
   },
   {
    "duration": 31,
    "start_time": "2023-02-22T12:28:33.599Z"
   },
   {
    "duration": 17,
    "start_time": "2023-02-22T12:28:33.633Z"
   },
   {
    "duration": 12,
    "start_time": "2023-02-22T12:28:33.651Z"
   },
   {
    "duration": 32,
    "start_time": "2023-02-22T12:28:33.665Z"
   },
   {
    "duration": 185,
    "start_time": "2023-02-22T12:28:33.699Z"
   },
   {
    "duration": 5,
    "start_time": "2023-02-22T12:28:33.887Z"
   },
   {
    "duration": 28,
    "start_time": "2023-02-22T12:28:33.894Z"
   },
   {
    "duration": 6,
    "start_time": "2023-02-22T12:28:33.924Z"
   },
   {
    "duration": 15,
    "start_time": "2023-02-22T12:28:33.932Z"
   },
   {
    "duration": 14,
    "start_time": "2023-02-22T12:28:33.948Z"
   },
   {
    "duration": 15,
    "start_time": "2023-02-22T12:28:33.963Z"
   },
   {
    "duration": 23,
    "start_time": "2023-02-22T12:28:33.979Z"
   },
   {
    "duration": 8,
    "start_time": "2023-02-22T12:28:34.004Z"
   },
   {
    "duration": 12,
    "start_time": "2023-02-22T12:28:34.014Z"
   },
   {
    "duration": 12,
    "start_time": "2023-02-22T12:28:34.028Z"
   },
   {
    "duration": 17,
    "start_time": "2023-02-22T12:28:34.042Z"
   },
   {
    "duration": 21,
    "start_time": "2023-02-22T12:28:34.061Z"
   },
   {
    "duration": 10,
    "start_time": "2023-02-22T12:28:34.084Z"
   },
   {
    "duration": 871,
    "start_time": "2023-02-22T12:28:34.096Z"
   },
   {
    "duration": 5,
    "start_time": "2023-02-22T12:28:34.969Z"
   },
   {
    "duration": 22,
    "start_time": "2023-02-22T12:28:34.976Z"
   },
   {
    "duration": 28,
    "start_time": "2023-02-22T12:28:34.999Z"
   },
   {
    "duration": 19,
    "start_time": "2023-02-22T12:28:35.029Z"
   },
   {
    "duration": 42,
    "start_time": "2023-02-22T12:28:35.049Z"
   },
   {
    "duration": 20,
    "start_time": "2023-02-22T12:28:35.093Z"
   },
   {
    "duration": 20,
    "start_time": "2023-02-22T12:28:35.115Z"
   },
   {
    "duration": 27,
    "start_time": "2023-02-22T12:28:35.137Z"
   },
   {
    "duration": 12,
    "start_time": "2023-02-22T12:28:35.166Z"
   },
   {
    "duration": 47,
    "start_time": "2023-02-22T12:28:35.180Z"
   },
   {
    "duration": 18,
    "start_time": "2023-02-22T12:28:35.229Z"
   },
   {
    "duration": 6,
    "start_time": "2023-02-22T12:28:35.249Z"
   },
   {
    "duration": 9,
    "start_time": "2023-02-22T12:28:35.257Z"
   },
   {
    "duration": 12,
    "start_time": "2023-02-22T12:28:35.271Z"
   },
   {
    "duration": 22,
    "start_time": "2023-02-22T12:28:35.285Z"
   },
   {
    "duration": 24,
    "start_time": "2023-02-22T12:28:35.308Z"
   },
   {
    "duration": 242,
    "start_time": "2023-02-22T12:28:35.334Z"
   },
   {
    "duration": 34,
    "start_time": "2023-02-22T12:28:35.578Z"
   },
   {
    "duration": 974,
    "start_time": "2023-02-22T12:28:35.614Z"
   },
   {
    "duration": 16,
    "start_time": "2023-02-22T12:28:36.589Z"
   },
   {
    "duration": 31,
    "start_time": "2023-02-22T12:28:36.607Z"
   },
   {
    "duration": 14,
    "start_time": "2023-02-22T12:28:36.640Z"
   },
   {
    "duration": 22,
    "start_time": "2023-02-22T12:28:36.655Z"
   },
   {
    "duration": 22,
    "start_time": "2023-02-22T12:28:36.678Z"
   },
   {
    "duration": 7,
    "start_time": "2023-02-22T12:28:36.701Z"
   },
   {
    "duration": 36,
    "start_time": "2023-02-22T12:28:36.709Z"
   },
   {
    "duration": 38,
    "start_time": "2023-02-22T12:28:36.746Z"
   },
   {
    "duration": 21,
    "start_time": "2023-02-22T12:28:36.785Z"
   },
   {
    "duration": 976,
    "start_time": "2023-02-22T12:28:36.808Z"
   },
   {
    "duration": 439,
    "start_time": "2023-02-22T12:28:37.786Z"
   },
   {
    "duration": 6,
    "start_time": "2023-02-22T12:28:38.227Z"
   },
   {
    "duration": 411,
    "start_time": "2023-02-22T12:28:38.235Z"
   },
   {
    "duration": 7,
    "start_time": "2023-02-22T12:28:38.648Z"
   },
   {
    "duration": 22,
    "start_time": "2023-02-22T12:28:38.657Z"
   },
   {
    "duration": 28,
    "start_time": "2023-02-22T12:28:38.681Z"
   },
   {
    "duration": 195,
    "start_time": "2023-02-22T12:28:38.711Z"
   },
   {
    "duration": 28,
    "start_time": "2023-02-22T12:28:38.908Z"
   },
   {
    "duration": 518,
    "start_time": "2023-02-22T12:28:38.939Z"
   },
   {
    "duration": 5,
    "start_time": "2023-02-22T12:28:39.458Z"
   },
   {
    "duration": 38,
    "start_time": "2023-02-22T12:28:39.465Z"
   },
   {
    "duration": 248,
    "start_time": "2023-02-22T12:28:39.505Z"
   },
   {
    "duration": 257,
    "start_time": "2023-02-22T12:28:39.755Z"
   },
   {
    "duration": 4,
    "start_time": "2023-02-22T12:30:41.325Z"
   },
   {
    "duration": 152,
    "start_time": "2023-02-22T12:30:51.827Z"
   },
   {
    "duration": 5,
    "start_time": "2023-02-22T12:31:03.912Z"
   },
   {
    "duration": 174,
    "start_time": "2023-02-22T12:31:31.357Z"
   },
   {
    "duration": 5,
    "start_time": "2023-02-22T12:32:15.872Z"
   },
   {
    "duration": 9,
    "start_time": "2023-02-22T12:33:32.917Z"
   },
   {
    "duration": 1865,
    "start_time": "2023-02-22T12:33:37.548Z"
   },
   {
    "duration": 1173,
    "start_time": "2023-02-22T12:35:20.113Z"
   },
   {
    "duration": 51,
    "start_time": "2023-02-22T12:35:21.288Z"
   },
   {
    "duration": 16,
    "start_time": "2023-02-22T12:35:21.341Z"
   },
   {
    "duration": 23,
    "start_time": "2023-02-22T12:35:21.359Z"
   },
   {
    "duration": 16,
    "start_time": "2023-02-22T12:35:21.383Z"
   },
   {
    "duration": 20,
    "start_time": "2023-02-22T12:35:21.400Z"
   },
   {
    "duration": 25,
    "start_time": "2023-02-22T12:35:21.422Z"
   },
   {
    "duration": 16,
    "start_time": "2023-02-22T12:35:21.454Z"
   },
   {
    "duration": 26,
    "start_time": "2023-02-22T12:35:21.472Z"
   },
   {
    "duration": 19,
    "start_time": "2023-02-22T12:35:21.501Z"
   },
   {
    "duration": 19,
    "start_time": "2023-02-22T12:35:21.522Z"
   },
   {
    "duration": 33,
    "start_time": "2023-02-22T12:35:21.543Z"
   },
   {
    "duration": 184,
    "start_time": "2023-02-22T12:35:21.578Z"
   },
   {
    "duration": 6,
    "start_time": "2023-02-22T12:35:21.764Z"
   },
   {
    "duration": 12,
    "start_time": "2023-02-22T12:35:21.772Z"
   },
   {
    "duration": 19,
    "start_time": "2023-02-22T12:35:21.786Z"
   },
   {
    "duration": 13,
    "start_time": "2023-02-22T12:35:21.807Z"
   },
   {
    "duration": 32,
    "start_time": "2023-02-22T12:35:21.822Z"
   },
   {
    "duration": 7,
    "start_time": "2023-02-22T12:35:21.856Z"
   },
   {
    "duration": 19,
    "start_time": "2023-02-22T12:35:21.864Z"
   },
   {
    "duration": 8,
    "start_time": "2023-02-22T12:35:21.884Z"
   },
   {
    "duration": 6,
    "start_time": "2023-02-22T12:35:21.894Z"
   },
   {
    "duration": 8,
    "start_time": "2023-02-22T12:35:21.902Z"
   },
   {
    "duration": 8,
    "start_time": "2023-02-22T12:35:21.912Z"
   },
   {
    "duration": 33,
    "start_time": "2023-02-22T12:35:21.922Z"
   },
   {
    "duration": 10,
    "start_time": "2023-02-22T12:35:21.956Z"
   },
   {
    "duration": 842,
    "start_time": "2023-02-22T12:35:21.968Z"
   },
   {
    "duration": 5,
    "start_time": "2023-02-22T12:35:22.814Z"
   },
   {
    "duration": 21,
    "start_time": "2023-02-22T12:35:22.821Z"
   },
   {
    "duration": 9,
    "start_time": "2023-02-22T12:35:22.844Z"
   },
   {
    "duration": 19,
    "start_time": "2023-02-22T12:35:22.855Z"
   },
   {
    "duration": 15,
    "start_time": "2023-02-22T12:35:22.875Z"
   },
   {
    "duration": 12,
    "start_time": "2023-02-22T12:35:22.891Z"
   },
   {
    "duration": 9,
    "start_time": "2023-02-22T12:35:22.904Z"
   },
   {
    "duration": 39,
    "start_time": "2023-02-22T12:35:22.915Z"
   },
   {
    "duration": 8,
    "start_time": "2023-02-22T12:35:22.956Z"
   },
   {
    "duration": 17,
    "start_time": "2023-02-22T12:35:22.966Z"
   },
   {
    "duration": 14,
    "start_time": "2023-02-22T12:35:22.984Z"
   },
   {
    "duration": 3,
    "start_time": "2023-02-22T12:35:23.000Z"
   },
   {
    "duration": 10,
    "start_time": "2023-02-22T12:35:23.004Z"
   },
   {
    "duration": 26,
    "start_time": "2023-02-22T12:35:23.016Z"
   },
   {
    "duration": 19,
    "start_time": "2023-02-22T12:35:23.044Z"
   },
   {
    "duration": 12,
    "start_time": "2023-02-22T12:35:23.064Z"
   },
   {
    "duration": 222,
    "start_time": "2023-02-22T12:35:23.078Z"
   },
   {
    "duration": 32,
    "start_time": "2023-02-22T12:35:23.302Z"
   },
   {
    "duration": 880,
    "start_time": "2023-02-22T12:35:23.335Z"
   },
   {
    "duration": 15,
    "start_time": "2023-02-22T12:35:24.217Z"
   },
   {
    "duration": 29,
    "start_time": "2023-02-22T12:35:24.234Z"
   },
   {
    "duration": 8,
    "start_time": "2023-02-22T12:35:24.265Z"
   },
   {
    "duration": 18,
    "start_time": "2023-02-22T12:35:24.274Z"
   },
   {
    "duration": 13,
    "start_time": "2023-02-22T12:35:24.294Z"
   },
   {
    "duration": 6,
    "start_time": "2023-02-22T12:35:24.310Z"
   },
   {
    "duration": 36,
    "start_time": "2023-02-22T12:35:24.318Z"
   },
   {
    "duration": 15,
    "start_time": "2023-02-22T12:35:24.356Z"
   },
   {
    "duration": 7,
    "start_time": "2023-02-22T12:35:24.372Z"
   },
   {
    "duration": 884,
    "start_time": "2023-02-22T12:35:24.381Z"
   },
   {
    "duration": 351,
    "start_time": "2023-02-22T12:35:25.267Z"
   },
   {
    "duration": 5,
    "start_time": "2023-02-22T12:35:25.620Z"
   },
   {
    "duration": 403,
    "start_time": "2023-02-22T12:35:25.627Z"
   },
   {
    "duration": 8,
    "start_time": "2023-02-22T12:35:26.032Z"
   },
   {
    "duration": 14,
    "start_time": "2023-02-22T12:35:26.042Z"
   },
   {
    "duration": 20,
    "start_time": "2023-02-22T12:35:26.058Z"
   },
   {
    "duration": 222,
    "start_time": "2023-02-22T12:35:26.079Z"
   },
   {
    "duration": 27,
    "start_time": "2023-02-22T12:35:26.303Z"
   },
   {
    "duration": 508,
    "start_time": "2023-02-22T12:35:26.331Z"
   },
   {
    "duration": 5,
    "start_time": "2023-02-22T12:35:26.853Z"
   },
   {
    "duration": 33,
    "start_time": "2023-02-22T12:35:26.859Z"
   },
   {
    "duration": 222,
    "start_time": "2023-02-22T12:35:26.893Z"
   },
   {
    "duration": 230,
    "start_time": "2023-02-22T12:35:27.116Z"
   },
   {
    "duration": 6,
    "start_time": "2023-02-22T12:35:27.348Z"
   },
   {
    "duration": 180,
    "start_time": "2023-02-22T12:35:27.356Z"
   },
   {
    "duration": 5,
    "start_time": "2023-02-22T12:35:27.538Z"
   },
   {
    "duration": 227,
    "start_time": "2023-02-22T12:35:27.553Z"
   },
   {
    "duration": 5,
    "start_time": "2023-02-22T12:35:27.782Z"
   },
   {
    "duration": 9,
    "start_time": "2023-02-22T12:35:27.789Z"
   },
   {
    "duration": 1630,
    "start_time": "2023-02-22T12:35:27.799Z"
   },
   {
    "duration": 5,
    "start_time": "2023-02-22T12:36:05.534Z"
   },
   {
    "duration": 4,
    "start_time": "2023-02-22T12:36:24.168Z"
   },
   {
    "duration": 197,
    "start_time": "2023-02-22T12:36:34.324Z"
   },
   {
    "duration": 188,
    "start_time": "2023-02-22T12:36:44.625Z"
   },
   {
    "duration": 210,
    "start_time": "2023-02-22T12:36:53.303Z"
   },
   {
    "duration": 29,
    "start_time": "2023-02-22T12:37:13.501Z"
   },
   {
    "duration": 6,
    "start_time": "2023-02-22T13:02:43.055Z"
   },
   {
    "duration": 383,
    "start_time": "2023-02-22T13:03:04.215Z"
   },
   {
    "duration": 6,
    "start_time": "2023-02-22T13:04:05.772Z"
   },
   {
    "duration": 378,
    "start_time": "2023-02-22T13:04:08.248Z"
   },
   {
    "duration": 506,
    "start_time": "2023-02-22T13:04:34.691Z"
   },
   {
    "duration": 379,
    "start_time": "2023-02-22T13:07:38.263Z"
   },
   {
    "duration": 455,
    "start_time": "2023-02-22T13:07:57.173Z"
   },
   {
    "duration": 462,
    "start_time": "2023-02-22T13:10:57.651Z"
   },
   {
    "duration": 401,
    "start_time": "2023-02-22T13:11:22.512Z"
   },
   {
    "duration": 7,
    "start_time": "2023-02-22T13:15:59.944Z"
   },
   {
    "duration": 104,
    "start_time": "2023-02-22T13:16:16.682Z"
   },
   {
    "duration": 6,
    "start_time": "2023-02-22T13:16:34.637Z"
   },
   {
    "duration": 8,
    "start_time": "2023-02-22T13:16:59.459Z"
   },
   {
    "duration": 6,
    "start_time": "2023-02-22T13:17:01.062Z"
   },
   {
    "duration": 12,
    "start_time": "2023-02-22T13:20:12.584Z"
   },
   {
    "duration": 10,
    "start_time": "2023-02-22T13:20:30.456Z"
   },
   {
    "duration": 12,
    "start_time": "2023-02-22T13:20:53.311Z"
   },
   {
    "duration": 13,
    "start_time": "2023-02-22T13:21:54.890Z"
   },
   {
    "duration": 5,
    "start_time": "2023-02-22T13:21:57.292Z"
   },
   {
    "duration": 6,
    "start_time": "2023-02-22T13:22:07.099Z"
   },
   {
    "duration": 5,
    "start_time": "2023-02-22T13:22:09.443Z"
   },
   {
    "duration": 7,
    "start_time": "2023-02-22T13:22:36.667Z"
   },
   {
    "duration": 6,
    "start_time": "2023-02-22T13:23:38.366Z"
   },
   {
    "duration": 6,
    "start_time": "2023-02-22T13:26:06.203Z"
   },
   {
    "duration": 9,
    "start_time": "2023-02-22T13:26:08.756Z"
   },
   {
    "duration": 6,
    "start_time": "2023-02-22T13:26:14.680Z"
   },
   {
    "duration": 14,
    "start_time": "2023-02-22T13:26:49.015Z"
   },
   {
    "duration": 13,
    "start_time": "2023-02-22T13:27:12.129Z"
   },
   {
    "duration": 6,
    "start_time": "2023-02-22T13:27:18.355Z"
   },
   {
    "duration": 7,
    "start_time": "2023-02-22T13:27:32.612Z"
   },
   {
    "duration": 9,
    "start_time": "2023-02-22T13:27:40.977Z"
   },
   {
    "duration": 10,
    "start_time": "2023-02-22T13:27:58.420Z"
   },
   {
    "duration": 6,
    "start_time": "2023-02-22T13:28:01.492Z"
   },
   {
    "duration": 6,
    "start_time": "2023-02-22T13:28:43.675Z"
   },
   {
    "duration": 1356,
    "start_time": "2023-02-25T09:27:41.224Z"
   },
   {
    "duration": 183,
    "start_time": "2023-02-25T09:27:42.582Z"
   },
   {
    "duration": 13,
    "start_time": "2023-02-25T09:27:42.767Z"
   },
   {
    "duration": 18,
    "start_time": "2023-02-25T09:27:42.782Z"
   },
   {
    "duration": 15,
    "start_time": "2023-02-25T09:27:42.801Z"
   },
   {
    "duration": 17,
    "start_time": "2023-02-25T09:27:42.817Z"
   },
   {
    "duration": 12,
    "start_time": "2023-02-25T09:27:42.836Z"
   },
   {
    "duration": 14,
    "start_time": "2023-02-25T09:27:42.849Z"
   },
   {
    "duration": 34,
    "start_time": "2023-02-25T09:27:42.865Z"
   },
   {
    "duration": 9,
    "start_time": "2023-02-25T09:27:42.902Z"
   },
   {
    "duration": 6,
    "start_time": "2023-02-25T09:27:42.913Z"
   },
   {
    "duration": 21,
    "start_time": "2023-02-25T09:27:42.920Z"
   },
   {
    "duration": 196,
    "start_time": "2023-02-25T09:27:42.942Z"
   },
   {
    "duration": 4,
    "start_time": "2023-02-25T09:27:43.140Z"
   },
   {
    "duration": 11,
    "start_time": "2023-02-25T09:27:43.146Z"
   },
   {
    "duration": 5,
    "start_time": "2023-02-25T09:27:43.158Z"
   },
   {
    "duration": 30,
    "start_time": "2023-02-25T09:27:43.165Z"
   },
   {
    "duration": 10,
    "start_time": "2023-02-25T09:27:43.197Z"
   },
   {
    "duration": 8,
    "start_time": "2023-02-25T09:27:43.208Z"
   },
   {
    "duration": 34,
    "start_time": "2023-02-25T09:27:43.217Z"
   },
   {
    "duration": 9,
    "start_time": "2023-02-25T09:27:43.254Z"
   },
   {
    "duration": 7,
    "start_time": "2023-02-25T09:27:43.265Z"
   },
   {
    "duration": 8,
    "start_time": "2023-02-25T09:27:43.293Z"
   },
   {
    "duration": 7,
    "start_time": "2023-02-25T09:27:43.303Z"
   },
   {
    "duration": 11,
    "start_time": "2023-02-25T09:27:43.312Z"
   },
   {
    "duration": 10,
    "start_time": "2023-02-25T09:27:43.325Z"
   },
   {
    "duration": 780,
    "start_time": "2023-02-25T09:27:43.337Z"
   },
   {
    "duration": 6,
    "start_time": "2023-02-25T09:27:44.122Z"
   },
   {
    "duration": 13,
    "start_time": "2023-02-25T09:27:44.129Z"
   },
   {
    "duration": 8,
    "start_time": "2023-02-25T09:27:44.144Z"
   },
   {
    "duration": 16,
    "start_time": "2023-02-25T09:27:44.154Z"
   },
   {
    "duration": 23,
    "start_time": "2023-02-25T09:27:44.172Z"
   },
   {
    "duration": 9,
    "start_time": "2023-02-25T09:27:44.197Z"
   },
   {
    "duration": 17,
    "start_time": "2023-02-25T09:27:44.208Z"
   },
   {
    "duration": 16,
    "start_time": "2023-02-25T09:27:44.227Z"
   },
   {
    "duration": 8,
    "start_time": "2023-02-25T09:27:44.245Z"
   },
   {
    "duration": 46,
    "start_time": "2023-02-25T09:27:44.255Z"
   },
   {
    "duration": 13,
    "start_time": "2023-02-25T09:27:44.303Z"
   },
   {
    "duration": 5,
    "start_time": "2023-02-25T09:27:44.318Z"
   },
   {
    "duration": 10,
    "start_time": "2023-02-25T09:27:44.325Z"
   },
   {
    "duration": 12,
    "start_time": "2023-02-25T09:27:44.336Z"
   },
   {
    "duration": 24,
    "start_time": "2023-02-25T09:27:44.350Z"
   },
   {
    "duration": 24,
    "start_time": "2023-02-25T09:27:44.376Z"
   },
   {
    "duration": 211,
    "start_time": "2023-02-25T09:27:44.402Z"
   },
   {
    "duration": 34,
    "start_time": "2023-02-25T09:27:44.615Z"
   },
   {
    "duration": 983,
    "start_time": "2023-02-25T09:27:44.650Z"
   },
   {
    "duration": 16,
    "start_time": "2023-02-25T09:27:45.635Z"
   },
   {
    "duration": 21,
    "start_time": "2023-02-25T09:27:45.653Z"
   },
   {
    "duration": 21,
    "start_time": "2023-02-25T09:27:45.676Z"
   },
   {
    "duration": 15,
    "start_time": "2023-02-25T09:27:45.699Z"
   },
   {
    "duration": 19,
    "start_time": "2023-02-25T09:27:45.716Z"
   },
   {
    "duration": 8,
    "start_time": "2023-02-25T09:27:45.737Z"
   },
   {
    "duration": 19,
    "start_time": "2023-02-25T09:27:45.747Z"
   },
   {
    "duration": 20,
    "start_time": "2023-02-25T09:27:45.791Z"
   },
   {
    "duration": 10,
    "start_time": "2023-02-25T09:27:45.813Z"
   },
   {
    "duration": 944,
    "start_time": "2023-02-25T09:27:45.825Z"
   },
   {
    "duration": 327,
    "start_time": "2023-02-25T09:27:46.771Z"
   },
   {
    "duration": 5,
    "start_time": "2023-02-25T09:27:47.099Z"
   },
   {
    "duration": 380,
    "start_time": "2023-02-25T09:27:47.105Z"
   },
   {
    "duration": 7,
    "start_time": "2023-02-25T09:27:47.487Z"
   },
   {
    "duration": 5,
    "start_time": "2023-02-25T09:27:47.496Z"
   },
   {
    "duration": 17,
    "start_time": "2023-02-25T09:27:47.502Z"
   },
   {
    "duration": 199,
    "start_time": "2023-02-25T09:27:47.521Z"
   },
   {
    "duration": 26,
    "start_time": "2023-02-25T09:27:47.721Z"
   },
   {
    "duration": 507,
    "start_time": "2023-02-25T09:27:47.748Z"
   },
   {
    "duration": 7,
    "start_time": "2023-02-25T09:27:48.258Z"
   },
   {
    "duration": 57,
    "start_time": "2023-02-25T09:27:48.267Z"
   },
   {
    "duration": 229,
    "start_time": "2023-02-25T09:27:48.326Z"
   },
   {
    "duration": 228,
    "start_time": "2023-02-25T09:27:48.556Z"
   },
   {
    "duration": 7,
    "start_time": "2023-02-25T09:27:48.786Z"
   },
   {
    "duration": 160,
    "start_time": "2023-02-25T09:27:48.795Z"
   },
   {
    "duration": 5,
    "start_time": "2023-02-25T09:27:48.957Z"
   },
   {
    "duration": 173,
    "start_time": "2023-02-25T09:27:48.963Z"
   },
   {
    "duration": 4,
    "start_time": "2023-02-25T09:27:49.138Z"
   },
   {
    "duration": 14,
    "start_time": "2023-02-25T09:27:49.144Z"
   },
   {
    "duration": 1717,
    "start_time": "2023-02-25T09:27:49.159Z"
   },
   {
    "duration": 14,
    "start_time": "2023-02-25T09:27:50.878Z"
   },
   {
    "duration": 225,
    "start_time": "2023-02-25T09:27:50.893Z"
   },
   {
    "duration": 211,
    "start_time": "2023-02-25T09:27:51.120Z"
   },
   {
    "duration": 198,
    "start_time": "2023-02-25T09:27:51.333Z"
   },
   {
    "duration": 27,
    "start_time": "2023-02-25T09:27:51.533Z"
   },
   {
    "duration": 6,
    "start_time": "2023-02-25T09:27:51.566Z"
   },
   {
    "duration": 392,
    "start_time": "2023-02-25T09:27:51.574Z"
   },
   {
    "duration": 432,
    "start_time": "2023-02-25T09:27:51.968Z"
   },
   {
    "duration": 484,
    "start_time": "2023-02-25T09:27:52.401Z"
   },
   {
    "duration": 429,
    "start_time": "2023-02-25T09:27:52.892Z"
   },
   {
    "duration": 416,
    "start_time": "2023-02-25T09:27:53.322Z"
   },
   {
    "duration": 424,
    "start_time": "2023-02-25T09:27:53.740Z"
   },
   {
    "duration": 6,
    "start_time": "2023-02-25T09:27:54.166Z"
   },
   {
    "duration": 19,
    "start_time": "2023-02-25T09:27:54.174Z"
   },
   {
    "duration": 9,
    "start_time": "2023-02-25T09:27:54.195Z"
   },
   {
    "duration": 10,
    "start_time": "2023-02-25T09:27:54.206Z"
   },
   {
    "duration": 8,
    "start_time": "2023-02-25T09:27:54.217Z"
   },
   {
    "duration": 8,
    "start_time": "2023-02-25T09:27:54.227Z"
   },
   {
    "duration": 1245,
    "start_time": "2023-02-26T08:09:39.805Z"
   },
   {
    "duration": 99,
    "start_time": "2023-02-26T08:09:41.052Z"
   },
   {
    "duration": 14,
    "start_time": "2023-02-26T08:09:41.155Z"
   },
   {
    "duration": 19,
    "start_time": "2023-02-26T08:09:41.171Z"
   },
   {
    "duration": 16,
    "start_time": "2023-02-26T08:09:41.191Z"
   },
   {
    "duration": 30,
    "start_time": "2023-02-26T08:09:41.209Z"
   },
   {
    "duration": 14,
    "start_time": "2023-02-26T08:09:41.241Z"
   },
   {
    "duration": 13,
    "start_time": "2023-02-26T08:09:41.257Z"
   },
   {
    "duration": 10,
    "start_time": "2023-02-26T08:09:41.272Z"
   },
   {
    "duration": 8,
    "start_time": "2023-02-26T08:09:41.284Z"
   },
   {
    "duration": 8,
    "start_time": "2023-02-26T08:09:41.294Z"
   },
   {
    "duration": 21,
    "start_time": "2023-02-26T08:09:41.328Z"
   },
   {
    "duration": 184,
    "start_time": "2023-02-26T08:09:41.351Z"
   },
   {
    "duration": 5,
    "start_time": "2023-02-26T08:09:41.537Z"
   },
   {
    "duration": 10,
    "start_time": "2023-02-26T08:09:41.544Z"
   },
   {
    "duration": 4,
    "start_time": "2023-02-26T08:09:41.555Z"
   },
   {
    "duration": 14,
    "start_time": "2023-02-26T08:09:41.561Z"
   },
   {
    "duration": 7,
    "start_time": "2023-02-26T08:09:41.576Z"
   },
   {
    "duration": 5,
    "start_time": "2023-02-26T08:09:41.585Z"
   },
   {
    "duration": 51,
    "start_time": "2023-02-26T08:09:41.592Z"
   },
   {
    "duration": 5,
    "start_time": "2023-02-26T08:09:41.644Z"
   },
   {
    "duration": 10,
    "start_time": "2023-02-26T08:09:41.650Z"
   },
   {
    "duration": 16,
    "start_time": "2023-02-26T08:09:41.662Z"
   },
   {
    "duration": 6,
    "start_time": "2023-02-26T08:09:41.680Z"
   },
   {
    "duration": 10,
    "start_time": "2023-02-26T08:09:41.688Z"
   },
   {
    "duration": 7,
    "start_time": "2023-02-26T08:09:41.700Z"
   },
   {
    "duration": 808,
    "start_time": "2023-02-26T08:09:41.712Z"
   },
   {
    "duration": 9,
    "start_time": "2023-02-26T08:09:42.522Z"
   },
   {
    "duration": 17,
    "start_time": "2023-02-26T08:09:42.534Z"
   },
   {
    "duration": 17,
    "start_time": "2023-02-26T08:09:42.553Z"
   },
   {
    "duration": 11,
    "start_time": "2023-02-26T08:09:42.572Z"
   },
   {
    "duration": 15,
    "start_time": "2023-02-26T08:09:42.585Z"
   },
   {
    "duration": 8,
    "start_time": "2023-02-26T08:09:42.602Z"
   },
   {
    "duration": 27,
    "start_time": "2023-02-26T08:09:42.611Z"
   },
   {
    "duration": 20,
    "start_time": "2023-02-26T08:09:42.640Z"
   },
   {
    "duration": 8,
    "start_time": "2023-02-26T08:09:42.662Z"
   },
   {
    "duration": 18,
    "start_time": "2023-02-26T08:09:42.671Z"
   },
   {
    "duration": 13,
    "start_time": "2023-02-26T08:09:42.690Z"
   },
   {
    "duration": 26,
    "start_time": "2023-02-26T08:09:42.704Z"
   },
   {
    "duration": 21,
    "start_time": "2023-02-26T08:09:42.733Z"
   },
   {
    "duration": 6,
    "start_time": "2023-02-26T08:09:42.756Z"
   },
   {
    "duration": 15,
    "start_time": "2023-02-26T08:09:42.764Z"
   },
   {
    "duration": 11,
    "start_time": "2023-02-26T08:09:42.780Z"
   },
   {
    "duration": 210,
    "start_time": "2023-02-26T08:09:42.793Z"
   },
   {
    "duration": 45,
    "start_time": "2023-02-26T08:09:43.005Z"
   },
   {
    "duration": 909,
    "start_time": "2023-02-26T08:09:43.051Z"
   },
   {
    "duration": 14,
    "start_time": "2023-02-26T08:09:43.962Z"
   },
   {
    "duration": 20,
    "start_time": "2023-02-26T08:09:43.978Z"
   },
   {
    "duration": 13,
    "start_time": "2023-02-26T08:09:44.001Z"
   },
   {
    "duration": 24,
    "start_time": "2023-02-26T08:09:44.016Z"
   },
   {
    "duration": 21,
    "start_time": "2023-02-26T08:09:44.042Z"
   },
   {
    "duration": 21,
    "start_time": "2023-02-26T08:09:44.065Z"
   },
   {
    "duration": 44,
    "start_time": "2023-02-26T08:09:44.087Z"
   },
   {
    "duration": 85,
    "start_time": "2023-02-26T08:09:44.133Z"
   },
   {
    "duration": 57,
    "start_time": "2023-02-26T08:09:44.220Z"
   },
   {
    "duration": 946,
    "start_time": "2023-02-26T08:09:44.279Z"
   },
   {
    "duration": 347,
    "start_time": "2023-02-26T08:09:45.228Z"
   },
   {
    "duration": 5,
    "start_time": "2023-02-26T08:09:45.576Z"
   },
   {
    "duration": 392,
    "start_time": "2023-02-26T08:09:45.583Z"
   },
   {
    "duration": 8,
    "start_time": "2023-02-26T08:09:45.977Z"
   },
   {
    "duration": 11,
    "start_time": "2023-02-26T08:09:45.986Z"
   },
   {
    "duration": 18,
    "start_time": "2023-02-26T08:09:45.999Z"
   },
   {
    "duration": 197,
    "start_time": "2023-02-26T08:09:46.018Z"
   },
   {
    "duration": 25,
    "start_time": "2023-02-26T08:09:46.217Z"
   },
   {
    "duration": 519,
    "start_time": "2023-02-26T08:09:46.244Z"
   },
   {
    "duration": 5,
    "start_time": "2023-02-26T08:09:46.765Z"
   },
   {
    "duration": 33,
    "start_time": "2023-02-26T08:09:46.772Z"
   },
   {
    "duration": 243,
    "start_time": "2023-02-26T08:09:46.807Z"
   },
   {
    "duration": 256,
    "start_time": "2023-02-26T08:09:47.051Z"
   },
   {
    "duration": 4,
    "start_time": "2023-02-26T08:09:47.309Z"
   },
   {
    "duration": 191,
    "start_time": "2023-02-26T08:09:47.315Z"
   },
   {
    "duration": 5,
    "start_time": "2023-02-26T08:09:47.508Z"
   },
   {
    "duration": 186,
    "start_time": "2023-02-26T08:09:47.514Z"
   },
   {
    "duration": 5,
    "start_time": "2023-02-26T08:09:47.701Z"
   },
   {
    "duration": 26,
    "start_time": "2023-02-26T08:09:47.707Z"
   },
   {
    "duration": 1865,
    "start_time": "2023-02-26T08:09:47.735Z"
   },
   {
    "duration": 4,
    "start_time": "2023-02-26T08:09:49.602Z"
   },
   {
    "duration": 241,
    "start_time": "2023-02-26T08:09:49.607Z"
   },
   {
    "duration": 225,
    "start_time": "2023-02-26T08:09:49.849Z"
   },
   {
    "duration": 244,
    "start_time": "2023-02-26T08:09:50.076Z"
   },
   {
    "duration": 41,
    "start_time": "2023-02-26T08:09:50.326Z"
   },
   {
    "duration": 9,
    "start_time": "2023-02-26T08:09:50.369Z"
   },
   {
    "duration": 477,
    "start_time": "2023-02-26T08:09:50.380Z"
   },
   {
    "duration": 446,
    "start_time": "2023-02-26T08:09:50.859Z"
   },
   {
    "duration": 510,
    "start_time": "2023-02-26T08:09:51.307Z"
   },
   {
    "duration": 496,
    "start_time": "2023-02-26T08:09:51.818Z"
   },
   {
    "duration": 447,
    "start_time": "2023-02-26T08:09:52.316Z"
   },
   {
    "duration": 448,
    "start_time": "2023-02-26T08:09:52.765Z"
   },
   {
    "duration": 15,
    "start_time": "2023-02-26T08:09:53.215Z"
   },
   {
    "duration": 14,
    "start_time": "2023-02-26T08:09:53.233Z"
   },
   {
    "duration": 33,
    "start_time": "2023-02-26T08:09:53.249Z"
   },
   {
    "duration": 39,
    "start_time": "2023-02-26T08:09:53.284Z"
   },
   {
    "duration": 19,
    "start_time": "2023-02-26T08:09:53.325Z"
   },
   {
    "duration": 11,
    "start_time": "2023-02-26T08:09:53.346Z"
   },
   {
    "duration": 92,
    "start_time": "2023-02-26T08:34:52.058Z"
   },
   {
    "duration": 1341,
    "start_time": "2023-02-27T05:50:21.120Z"
   },
   {
    "duration": 202,
    "start_time": "2023-02-27T05:50:22.462Z"
   },
   {
    "duration": 15,
    "start_time": "2023-02-27T05:50:22.665Z"
   },
   {
    "duration": 137,
    "start_time": "2023-02-27T05:50:22.682Z"
   },
   {
    "duration": 86,
    "start_time": "2023-02-27T05:50:22.820Z"
   },
   {
    "duration": 16,
    "start_time": "2023-02-27T05:50:22.908Z"
   },
   {
    "duration": 11,
    "start_time": "2023-02-27T05:50:22.926Z"
   },
   {
    "duration": 17,
    "start_time": "2023-02-27T05:50:22.939Z"
   },
   {
    "duration": 23,
    "start_time": "2023-02-27T05:50:22.957Z"
   },
   {
    "duration": 10,
    "start_time": "2023-02-27T05:50:22.983Z"
   },
   {
    "duration": 5,
    "start_time": "2023-02-27T05:50:22.994Z"
   },
   {
    "duration": 18,
    "start_time": "2023-02-27T05:50:23.001Z"
   },
   {
    "duration": 192,
    "start_time": "2023-02-27T05:50:23.021Z"
   },
   {
    "duration": 4,
    "start_time": "2023-02-27T05:50:23.215Z"
   },
   {
    "duration": 10,
    "start_time": "2023-02-27T05:50:23.221Z"
   },
   {
    "duration": 18,
    "start_time": "2023-02-27T05:50:23.233Z"
   },
   {
    "duration": 10,
    "start_time": "2023-02-27T05:50:23.253Z"
   },
   {
    "duration": 8,
    "start_time": "2023-02-27T05:50:23.265Z"
   },
   {
    "duration": 8,
    "start_time": "2023-02-27T05:50:23.274Z"
   },
   {
    "duration": 16,
    "start_time": "2023-02-27T05:50:23.284Z"
   },
   {
    "duration": 5,
    "start_time": "2023-02-27T05:50:23.301Z"
   },
   {
    "duration": 42,
    "start_time": "2023-02-27T05:50:23.308Z"
   },
   {
    "duration": 8,
    "start_time": "2023-02-27T05:50:23.352Z"
   },
   {
    "duration": 9,
    "start_time": "2023-02-27T05:50:23.362Z"
   },
   {
    "duration": 15,
    "start_time": "2023-02-27T05:50:23.373Z"
   },
   {
    "duration": 8,
    "start_time": "2023-02-27T05:50:23.390Z"
   },
   {
    "duration": 879,
    "start_time": "2023-02-27T05:50:23.399Z"
   },
   {
    "duration": 5,
    "start_time": "2023-02-27T05:50:24.284Z"
   },
   {
    "duration": 9,
    "start_time": "2023-02-27T05:50:24.291Z"
   },
   {
    "duration": 6,
    "start_time": "2023-02-27T05:50:24.301Z"
   },
   {
    "duration": 16,
    "start_time": "2023-02-27T05:50:24.308Z"
   },
   {
    "duration": 37,
    "start_time": "2023-02-27T05:50:24.326Z"
   },
   {
    "duration": 10,
    "start_time": "2023-02-27T05:50:24.365Z"
   },
   {
    "duration": 10,
    "start_time": "2023-02-27T05:50:24.377Z"
   },
   {
    "duration": 15,
    "start_time": "2023-02-27T05:50:24.388Z"
   },
   {
    "duration": 46,
    "start_time": "2023-02-27T05:50:24.405Z"
   },
   {
    "duration": 16,
    "start_time": "2023-02-27T05:50:24.452Z"
   },
   {
    "duration": 16,
    "start_time": "2023-02-27T05:50:24.469Z"
   },
   {
    "duration": 4,
    "start_time": "2023-02-27T05:50:24.486Z"
   },
   {
    "duration": 5,
    "start_time": "2023-02-27T05:50:24.491Z"
   },
   {
    "duration": 5,
    "start_time": "2023-02-27T05:50:24.498Z"
   },
   {
    "duration": 44,
    "start_time": "2023-02-27T05:50:24.505Z"
   },
   {
    "duration": 11,
    "start_time": "2023-02-27T05:50:24.551Z"
   },
   {
    "duration": 210,
    "start_time": "2023-02-27T05:50:24.563Z"
   },
   {
    "duration": 31,
    "start_time": "2023-02-27T05:50:24.774Z"
   },
   {
    "duration": 985,
    "start_time": "2023-02-27T05:50:24.807Z"
   },
   {
    "duration": 14,
    "start_time": "2023-02-27T05:50:25.793Z"
   },
   {
    "duration": 22,
    "start_time": "2023-02-27T05:50:25.809Z"
   },
   {
    "duration": 30,
    "start_time": "2023-02-27T05:50:25.833Z"
   },
   {
    "duration": 19,
    "start_time": "2023-02-27T05:50:25.865Z"
   },
   {
    "duration": 14,
    "start_time": "2023-02-27T05:50:25.886Z"
   },
   {
    "duration": 6,
    "start_time": "2023-02-27T05:50:25.902Z"
   },
   {
    "duration": 15,
    "start_time": "2023-02-27T05:50:25.910Z"
   },
   {
    "duration": 28,
    "start_time": "2023-02-27T05:50:25.926Z"
   },
   {
    "duration": 164,
    "start_time": "2023-02-27T05:50:25.955Z"
   },
   {
    "duration": 931,
    "start_time": "2023-02-27T05:50:26.121Z"
   },
   {
    "duration": 326,
    "start_time": "2023-02-27T05:50:27.053Z"
   },
   {
    "duration": 5,
    "start_time": "2023-02-27T05:50:27.381Z"
   },
   {
    "duration": 381,
    "start_time": "2023-02-27T05:50:27.388Z"
   },
   {
    "duration": 7,
    "start_time": "2023-02-27T05:50:27.770Z"
   },
   {
    "duration": 11,
    "start_time": "2023-02-27T05:50:27.779Z"
   },
   {
    "duration": 20,
    "start_time": "2023-02-27T05:50:27.793Z"
   },
   {
    "duration": 203,
    "start_time": "2023-02-27T05:50:27.815Z"
   },
   {
    "duration": 31,
    "start_time": "2023-02-27T05:50:28.020Z"
   },
   {
    "duration": 433,
    "start_time": "2023-02-27T05:50:28.053Z"
   },
   {
    "duration": 5,
    "start_time": "2023-02-27T05:50:28.488Z"
   },
   {
    "duration": 36,
    "start_time": "2023-02-27T05:50:28.494Z"
   },
   {
    "duration": 221,
    "start_time": "2023-02-27T05:50:28.532Z"
   },
   {
    "duration": 224,
    "start_time": "2023-02-27T05:50:28.754Z"
   },
   {
    "duration": 4,
    "start_time": "2023-02-27T05:50:28.979Z"
   },
   {
    "duration": 175,
    "start_time": "2023-02-27T05:50:28.984Z"
   },
   {
    "duration": 5,
    "start_time": "2023-02-27T05:50:29.161Z"
   },
   {
    "duration": 173,
    "start_time": "2023-02-27T05:50:29.168Z"
   },
   {
    "duration": 8,
    "start_time": "2023-02-27T05:50:29.343Z"
   },
   {
    "duration": 8,
    "start_time": "2023-02-27T05:50:29.353Z"
   },
   {
    "duration": 1686,
    "start_time": "2023-02-27T05:50:29.363Z"
   },
   {
    "duration": 5,
    "start_time": "2023-02-27T05:50:31.051Z"
   },
   {
    "duration": 255,
    "start_time": "2023-02-27T05:50:31.058Z"
   },
   {
    "duration": 244,
    "start_time": "2023-02-27T05:50:31.315Z"
   },
   {
    "duration": 229,
    "start_time": "2023-02-27T05:50:31.561Z"
   },
   {
    "duration": 28,
    "start_time": "2023-02-27T05:50:31.791Z"
   },
   {
    "duration": 5,
    "start_time": "2023-02-27T05:50:31.825Z"
   },
   {
    "duration": 422,
    "start_time": "2023-02-27T05:50:31.832Z"
   },
   {
    "duration": 394,
    "start_time": "2023-02-27T05:50:32.256Z"
   },
   {
    "duration": 474,
    "start_time": "2023-02-27T05:50:32.652Z"
   },
   {
    "duration": 439,
    "start_time": "2023-02-27T05:50:33.128Z"
   },
   {
    "duration": 398,
    "start_time": "2023-02-27T05:50:33.569Z"
   },
   {
    "duration": 383,
    "start_time": "2023-02-27T05:50:33.969Z"
   },
   {
    "duration": 5,
    "start_time": "2023-02-27T05:50:34.354Z"
   },
   {
    "duration": 23,
    "start_time": "2023-02-27T05:50:34.361Z"
   },
   {
    "duration": 17,
    "start_time": "2023-02-27T05:50:34.385Z"
   },
   {
    "duration": 33,
    "start_time": "2023-02-27T05:50:34.404Z"
   },
   {
    "duration": 30,
    "start_time": "2023-02-27T05:50:34.439Z"
   },
   {
    "duration": 28,
    "start_time": "2023-02-27T05:50:34.470Z"
   },
   {
    "duration": 49,
    "start_time": "2023-02-27T05:54:42.117Z"
   },
   {
    "duration": 4,
    "start_time": "2023-02-27T05:55:25.007Z"
   },
   {
    "duration": 19,
    "start_time": "2023-02-27T05:55:28.374Z"
   },
   {
    "duration": 237,
    "start_time": "2023-02-27T05:55:50.609Z"
   },
   {
    "duration": 49,
    "start_time": "2023-02-27T05:59:31.362Z"
   },
   {
    "duration": 6,
    "start_time": "2023-02-27T06:07:10.210Z"
   },
   {
    "duration": 44,
    "start_time": "2023-02-27T06:07:12.889Z"
   },
   {
    "duration": 185,
    "start_time": "2023-02-27T06:07:31.197Z"
   },
   {
    "duration": 211,
    "start_time": "2023-02-27T06:07:57.362Z"
   },
   {
    "duration": 1257,
    "start_time": "2023-02-27T06:12:41.316Z"
   },
   {
    "duration": 60,
    "start_time": "2023-02-27T06:12:42.575Z"
   },
   {
    "duration": 17,
    "start_time": "2023-02-27T06:12:42.637Z"
   },
   {
    "duration": 29,
    "start_time": "2023-02-27T06:12:42.656Z"
   },
   {
    "duration": 22,
    "start_time": "2023-02-27T06:12:42.688Z"
   },
   {
    "duration": 22,
    "start_time": "2023-02-27T06:12:42.712Z"
   },
   {
    "duration": 16,
    "start_time": "2023-02-27T06:12:42.736Z"
   },
   {
    "duration": 15,
    "start_time": "2023-02-27T06:12:42.754Z"
   },
   {
    "duration": 15,
    "start_time": "2023-02-27T06:12:42.771Z"
   },
   {
    "duration": 10,
    "start_time": "2023-02-27T06:12:42.788Z"
   },
   {
    "duration": 6,
    "start_time": "2023-02-27T06:12:42.800Z"
   },
   {
    "duration": 60,
    "start_time": "2023-02-27T06:12:42.808Z"
   },
   {
    "duration": 189,
    "start_time": "2023-02-27T06:12:42.870Z"
   },
   {
    "duration": 6,
    "start_time": "2023-02-27T06:12:43.064Z"
   },
   {
    "duration": 14,
    "start_time": "2023-02-27T06:12:43.072Z"
   },
   {
    "duration": 20,
    "start_time": "2023-02-27T06:12:43.088Z"
   },
   {
    "duration": 18,
    "start_time": "2023-02-27T06:12:43.110Z"
   },
   {
    "duration": 24,
    "start_time": "2023-02-27T06:12:43.131Z"
   },
   {
    "duration": 15,
    "start_time": "2023-02-27T06:12:43.157Z"
   },
   {
    "duration": 22,
    "start_time": "2023-02-27T06:12:43.174Z"
   },
   {
    "duration": 6,
    "start_time": "2023-02-27T06:12:43.198Z"
   },
   {
    "duration": 45,
    "start_time": "2023-02-27T06:12:43.206Z"
   },
   {
    "duration": 19,
    "start_time": "2023-02-27T06:12:43.253Z"
   },
   {
    "duration": 11,
    "start_time": "2023-02-27T06:12:43.273Z"
   },
   {
    "duration": 25,
    "start_time": "2023-02-27T06:12:43.286Z"
   },
   {
    "duration": 13,
    "start_time": "2023-02-27T06:12:43.313Z"
   },
   {
    "duration": 946,
    "start_time": "2023-02-27T06:12:43.329Z"
   },
   {
    "duration": 7,
    "start_time": "2023-02-27T06:12:44.277Z"
   },
   {
    "duration": 22,
    "start_time": "2023-02-27T06:12:44.285Z"
   },
   {
    "duration": 11,
    "start_time": "2023-02-27T06:12:44.309Z"
   },
   {
    "duration": 28,
    "start_time": "2023-02-27T06:12:44.322Z"
   },
   {
    "duration": 21,
    "start_time": "2023-02-27T06:12:44.352Z"
   },
   {
    "duration": 17,
    "start_time": "2023-02-27T06:12:44.375Z"
   },
   {
    "duration": 11,
    "start_time": "2023-02-27T06:12:44.394Z"
   },
   {
    "duration": 48,
    "start_time": "2023-02-27T06:12:44.407Z"
   },
   {
    "duration": 11,
    "start_time": "2023-02-27T06:12:44.457Z"
   },
   {
    "duration": 20,
    "start_time": "2023-02-27T06:12:44.471Z"
   },
   {
    "duration": 22,
    "start_time": "2023-02-27T06:12:44.494Z"
   },
   {
    "duration": 6,
    "start_time": "2023-02-27T06:12:44.548Z"
   },
   {
    "duration": 6,
    "start_time": "2023-02-27T06:12:44.556Z"
   },
   {
    "duration": 7,
    "start_time": "2023-02-27T06:12:44.569Z"
   },
   {
    "duration": 23,
    "start_time": "2023-02-27T06:12:44.578Z"
   },
   {
    "duration": 45,
    "start_time": "2023-02-27T06:12:44.604Z"
   },
   {
    "duration": 259,
    "start_time": "2023-02-27T06:12:44.652Z"
   },
   {
    "duration": 45,
    "start_time": "2023-02-27T06:12:44.913Z"
   },
   {
    "duration": 1103,
    "start_time": "2023-02-27T06:12:44.960Z"
   },
   {
    "duration": 16,
    "start_time": "2023-02-27T06:12:46.065Z"
   },
   {
    "duration": 28,
    "start_time": "2023-02-27T06:12:46.083Z"
   },
   {
    "duration": 9,
    "start_time": "2023-02-27T06:12:46.114Z"
   },
   {
    "duration": 16,
    "start_time": "2023-02-27T06:12:46.149Z"
   },
   {
    "duration": 17,
    "start_time": "2023-02-27T06:12:46.167Z"
   },
   {
    "duration": 13,
    "start_time": "2023-02-27T06:12:46.186Z"
   },
   {
    "duration": 38,
    "start_time": "2023-02-27T06:12:46.201Z"
   },
   {
    "duration": 37,
    "start_time": "2023-02-27T06:12:46.248Z"
   },
   {
    "duration": 7,
    "start_time": "2023-02-27T06:12:46.287Z"
   },
   {
    "duration": 1027,
    "start_time": "2023-02-27T06:12:46.296Z"
   },
   {
    "duration": 361,
    "start_time": "2023-02-27T06:12:47.325Z"
   },
   {
    "duration": 5,
    "start_time": "2023-02-27T06:12:47.688Z"
   },
   {
    "duration": 406,
    "start_time": "2023-02-27T06:12:47.694Z"
   },
   {
    "duration": 8,
    "start_time": "2023-02-27T06:12:48.102Z"
   },
   {
    "duration": 9,
    "start_time": "2023-02-27T06:12:48.112Z"
   },
   {
    "duration": 20,
    "start_time": "2023-02-27T06:12:48.122Z"
   },
   {
    "duration": 207,
    "start_time": "2023-02-27T06:12:48.144Z"
   },
   {
    "duration": 28,
    "start_time": "2023-02-27T06:12:48.353Z"
   },
   {
    "duration": 541,
    "start_time": "2023-02-27T06:12:48.383Z"
   },
   {
    "duration": 6,
    "start_time": "2023-02-27T06:12:48.926Z"
   },
   {
    "duration": 41,
    "start_time": "2023-02-27T06:12:48.934Z"
   },
   {
    "duration": 209,
    "start_time": "2023-02-27T06:12:48.977Z"
   },
   {
    "duration": 215,
    "start_time": "2023-02-27T06:12:49.187Z"
   },
   {
    "duration": 4,
    "start_time": "2023-02-27T06:12:49.404Z"
   },
   {
    "duration": 206,
    "start_time": "2023-02-27T06:12:49.410Z"
   },
   {
    "duration": 5,
    "start_time": "2023-02-27T06:12:49.618Z"
   },
   {
    "duration": 174,
    "start_time": "2023-02-27T06:12:49.625Z"
   },
   {
    "duration": 6,
    "start_time": "2023-02-27T06:12:49.800Z"
   },
   {
    "duration": 9,
    "start_time": "2023-02-27T06:12:49.807Z"
   },
   {
    "duration": 122,
    "start_time": "2023-02-27T06:12:49.818Z"
   },
   {
    "duration": 0,
    "start_time": "2023-02-27T06:12:49.942Z"
   },
   {
    "duration": 0,
    "start_time": "2023-02-27T06:12:49.949Z"
   },
   {
    "duration": 0,
    "start_time": "2023-02-27T06:12:49.950Z"
   },
   {
    "duration": 0,
    "start_time": "2023-02-27T06:12:49.951Z"
   },
   {
    "duration": 0,
    "start_time": "2023-02-27T06:12:49.952Z"
   },
   {
    "duration": 0,
    "start_time": "2023-02-27T06:12:49.953Z"
   },
   {
    "duration": 0,
    "start_time": "2023-02-27T06:12:49.954Z"
   },
   {
    "duration": 0,
    "start_time": "2023-02-27T06:12:49.955Z"
   },
   {
    "duration": 0,
    "start_time": "2023-02-27T06:12:49.956Z"
   },
   {
    "duration": 0,
    "start_time": "2023-02-27T06:12:49.958Z"
   },
   {
    "duration": 0,
    "start_time": "2023-02-27T06:12:49.958Z"
   },
   {
    "duration": 0,
    "start_time": "2023-02-27T06:12:49.960Z"
   },
   {
    "duration": 0,
    "start_time": "2023-02-27T06:12:49.961Z"
   },
   {
    "duration": 0,
    "start_time": "2023-02-27T06:12:49.962Z"
   },
   {
    "duration": 0,
    "start_time": "2023-02-27T06:12:49.963Z"
   },
   {
    "duration": 0,
    "start_time": "2023-02-27T06:12:49.964Z"
   },
   {
    "duration": 0,
    "start_time": "2023-02-27T06:12:49.965Z"
   },
   {
    "duration": 0,
    "start_time": "2023-02-27T06:12:49.966Z"
   },
   {
    "duration": 1203,
    "start_time": "2023-02-27T06:13:11.160Z"
   },
   {
    "duration": 86,
    "start_time": "2023-02-27T06:20:39.254Z"
   },
   {
    "duration": 6,
    "start_time": "2023-02-27T06:20:57.239Z"
   },
   {
    "duration": 221,
    "start_time": "2023-02-27T06:20:58.406Z"
   },
   {
    "duration": 247,
    "start_time": "2023-02-27T06:21:03.368Z"
   },
   {
    "duration": 224,
    "start_time": "2023-02-27T06:21:07.736Z"
   },
   {
    "duration": 46,
    "start_time": "2023-02-27T06:21:13.961Z"
   },
   {
    "duration": 51,
    "start_time": "2023-02-27T06:26:38.605Z"
   },
   {
    "duration": 7,
    "start_time": "2023-02-27T06:26:51.177Z"
   },
   {
    "duration": 428,
    "start_time": "2023-02-27T06:26:57.312Z"
   },
   {
    "duration": 422,
    "start_time": "2023-02-27T06:27:19.666Z"
   },
   {
    "duration": 5,
    "start_time": "2023-02-27T06:33:17.772Z"
   },
   {
    "duration": 38,
    "start_time": "2023-02-27T06:33:19.588Z"
   },
   {
    "duration": 228,
    "start_time": "2023-02-27T06:33:29.194Z"
   },
   {
    "duration": 206,
    "start_time": "2023-02-27T06:33:51.415Z"
   },
   {
    "duration": 243,
    "start_time": "2023-02-27T06:33:59.622Z"
   },
   {
    "duration": 1204,
    "start_time": "2023-02-27T06:35:49.870Z"
   },
   {
    "duration": 56,
    "start_time": "2023-02-27T06:35:51.076Z"
   },
   {
    "duration": 22,
    "start_time": "2023-02-27T06:35:51.134Z"
   },
   {
    "duration": 22,
    "start_time": "2023-02-27T06:35:51.157Z"
   },
   {
    "duration": 16,
    "start_time": "2023-02-27T06:35:51.182Z"
   },
   {
    "duration": 19,
    "start_time": "2023-02-27T06:35:51.200Z"
   },
   {
    "duration": 35,
    "start_time": "2023-02-27T06:35:51.220Z"
   },
   {
    "duration": 16,
    "start_time": "2023-02-27T06:35:51.257Z"
   },
   {
    "duration": 11,
    "start_time": "2023-02-27T06:35:51.275Z"
   },
   {
    "duration": 10,
    "start_time": "2023-02-27T06:35:51.288Z"
   },
   {
    "duration": 15,
    "start_time": "2023-02-27T06:35:51.300Z"
   },
   {
    "duration": 52,
    "start_time": "2023-02-27T06:35:51.317Z"
   },
   {
    "duration": 208,
    "start_time": "2023-02-27T06:35:51.373Z"
   },
   {
    "duration": 5,
    "start_time": "2023-02-27T06:35:51.586Z"
   },
   {
    "duration": 12,
    "start_time": "2023-02-27T06:35:51.593Z"
   },
   {
    "duration": 5,
    "start_time": "2023-02-27T06:35:51.607Z"
   },
   {
    "duration": 35,
    "start_time": "2023-02-27T06:35:51.615Z"
   },
   {
    "duration": 12,
    "start_time": "2023-02-27T06:35:51.660Z"
   },
   {
    "duration": 10,
    "start_time": "2023-02-27T06:35:51.675Z"
   },
   {
    "duration": 17,
    "start_time": "2023-02-27T06:35:51.687Z"
   },
   {
    "duration": 7,
    "start_time": "2023-02-27T06:35:51.705Z"
   },
   {
    "duration": 9,
    "start_time": "2023-02-27T06:35:51.713Z"
   },
   {
    "duration": 32,
    "start_time": "2023-02-27T06:35:51.723Z"
   },
   {
    "duration": 22,
    "start_time": "2023-02-27T06:35:51.756Z"
   },
   {
    "duration": 12,
    "start_time": "2023-02-27T06:35:51.780Z"
   },
   {
    "duration": 8,
    "start_time": "2023-02-27T06:35:51.794Z"
   },
   {
    "duration": 903,
    "start_time": "2023-02-27T06:35:51.804Z"
   },
   {
    "duration": 6,
    "start_time": "2023-02-27T06:35:52.708Z"
   },
   {
    "duration": 9,
    "start_time": "2023-02-27T06:35:52.717Z"
   },
   {
    "duration": 23,
    "start_time": "2023-02-27T06:35:52.727Z"
   },
   {
    "duration": 18,
    "start_time": "2023-02-27T06:35:52.755Z"
   },
   {
    "duration": 14,
    "start_time": "2023-02-27T06:35:52.775Z"
   },
   {
    "duration": 10,
    "start_time": "2023-02-27T06:35:52.790Z"
   },
   {
    "duration": 12,
    "start_time": "2023-02-27T06:35:52.801Z"
   },
   {
    "duration": 50,
    "start_time": "2023-02-27T06:35:52.814Z"
   },
   {
    "duration": 10,
    "start_time": "2023-02-27T06:35:52.871Z"
   },
   {
    "duration": 22,
    "start_time": "2023-02-27T06:35:52.882Z"
   },
   {
    "duration": 14,
    "start_time": "2023-02-27T06:35:52.905Z"
   },
   {
    "duration": 4,
    "start_time": "2023-02-27T06:35:52.921Z"
   },
   {
    "duration": 43,
    "start_time": "2023-02-27T06:35:52.927Z"
   },
   {
    "duration": 5,
    "start_time": "2023-02-27T06:35:52.975Z"
   },
   {
    "duration": 17,
    "start_time": "2023-02-27T06:35:52.982Z"
   },
   {
    "duration": 12,
    "start_time": "2023-02-27T06:35:53.000Z"
   },
   {
    "duration": 226,
    "start_time": "2023-02-27T06:35:53.014Z"
   },
   {
    "duration": 39,
    "start_time": "2023-02-27T06:35:53.242Z"
   },
   {
    "duration": 966,
    "start_time": "2023-02-27T06:35:53.282Z"
   },
   {
    "duration": 18,
    "start_time": "2023-02-27T06:35:54.257Z"
   },
   {
    "duration": 15,
    "start_time": "2023-02-27T06:35:54.277Z"
   },
   {
    "duration": 8,
    "start_time": "2023-02-27T06:35:54.294Z"
   },
   {
    "duration": 17,
    "start_time": "2023-02-27T06:35:54.303Z"
   },
   {
    "duration": 47,
    "start_time": "2023-02-27T06:35:54.322Z"
   },
   {
    "duration": 12,
    "start_time": "2023-02-27T06:35:54.371Z"
   },
   {
    "duration": 25,
    "start_time": "2023-02-27T06:35:54.385Z"
   },
   {
    "duration": 19,
    "start_time": "2023-02-27T06:35:54.413Z"
   },
   {
    "duration": 24,
    "start_time": "2023-02-27T06:35:54.434Z"
   },
   {
    "duration": 977,
    "start_time": "2023-02-27T06:35:54.467Z"
   },
   {
    "duration": 376,
    "start_time": "2023-02-27T06:35:55.445Z"
   },
   {
    "duration": 7,
    "start_time": "2023-02-27T06:35:55.823Z"
   },
   {
    "duration": 451,
    "start_time": "2023-02-27T06:35:55.832Z"
   },
   {
    "duration": 8,
    "start_time": "2023-02-27T06:35:56.286Z"
   },
   {
    "duration": 23,
    "start_time": "2023-02-27T06:35:56.296Z"
   },
   {
    "duration": 33,
    "start_time": "2023-02-27T06:35:56.321Z"
   },
   {
    "duration": 311,
    "start_time": "2023-02-27T06:35:56.356Z"
   },
   {
    "duration": 33,
    "start_time": "2023-02-27T06:35:56.669Z"
   },
   {
    "duration": 544,
    "start_time": "2023-02-27T06:35:56.704Z"
   },
   {
    "duration": 7,
    "start_time": "2023-02-27T06:35:57.250Z"
   },
   {
    "duration": 85,
    "start_time": "2023-02-27T06:35:57.259Z"
   },
   {
    "duration": 260,
    "start_time": "2023-02-27T06:35:57.346Z"
   },
   {
    "duration": 251,
    "start_time": "2023-02-27T06:35:57.608Z"
   },
   {
    "duration": 12,
    "start_time": "2023-02-27T06:35:57.861Z"
   },
   {
    "duration": 189,
    "start_time": "2023-02-27T06:35:57.875Z"
   },
   {
    "duration": 7,
    "start_time": "2023-02-27T06:35:58.065Z"
   },
   {
    "duration": 189,
    "start_time": "2023-02-27T06:35:58.074Z"
   },
   {
    "duration": 5,
    "start_time": "2023-02-27T06:35:58.267Z"
   },
   {
    "duration": 13,
    "start_time": "2023-02-27T06:35:58.274Z"
   },
   {
    "duration": 127,
    "start_time": "2023-02-27T06:35:58.290Z"
   },
   {
    "duration": 0,
    "start_time": "2023-02-27T06:35:58.419Z"
   },
   {
    "duration": 0,
    "start_time": "2023-02-27T06:35:58.421Z"
   },
   {
    "duration": 0,
    "start_time": "2023-02-27T06:35:58.423Z"
   },
   {
    "duration": 0,
    "start_time": "2023-02-27T06:35:58.425Z"
   },
   {
    "duration": 0,
    "start_time": "2023-02-27T06:35:58.427Z"
   },
   {
    "duration": 0,
    "start_time": "2023-02-27T06:35:58.428Z"
   },
   {
    "duration": 0,
    "start_time": "2023-02-27T06:35:58.430Z"
   },
   {
    "duration": 0,
    "start_time": "2023-02-27T06:35:58.451Z"
   },
   {
    "duration": 0,
    "start_time": "2023-02-27T06:35:58.452Z"
   },
   {
    "duration": 0,
    "start_time": "2023-02-27T06:35:58.452Z"
   },
   {
    "duration": 0,
    "start_time": "2023-02-27T06:35:58.453Z"
   },
   {
    "duration": 0,
    "start_time": "2023-02-27T06:35:58.454Z"
   },
   {
    "duration": 0,
    "start_time": "2023-02-27T06:35:58.454Z"
   },
   {
    "duration": 0,
    "start_time": "2023-02-27T06:35:58.455Z"
   },
   {
    "duration": 0,
    "start_time": "2023-02-27T06:35:58.456Z"
   },
   {
    "duration": 0,
    "start_time": "2023-02-27T06:35:58.456Z"
   },
   {
    "duration": 0,
    "start_time": "2023-02-27T06:35:58.457Z"
   },
   {
    "duration": 0,
    "start_time": "2023-02-27T06:35:58.458Z"
   },
   {
    "duration": 292,
    "start_time": "2023-02-27T06:40:03.372Z"
   },
   {
    "duration": 264,
    "start_time": "2023-02-27T06:40:30.041Z"
   },
   {
    "duration": 1312,
    "start_time": "2023-02-27T06:41:17.589Z"
   },
   {
    "duration": 70,
    "start_time": "2023-02-27T06:41:18.903Z"
   },
   {
    "duration": 17,
    "start_time": "2023-02-27T06:41:18.975Z"
   },
   {
    "duration": 28,
    "start_time": "2023-02-27T06:41:18.994Z"
   },
   {
    "duration": 45,
    "start_time": "2023-02-27T06:41:19.025Z"
   },
   {
    "duration": 26,
    "start_time": "2023-02-27T06:41:19.073Z"
   },
   {
    "duration": 13,
    "start_time": "2023-02-27T06:41:19.102Z"
   },
   {
    "duration": 48,
    "start_time": "2023-02-27T06:41:19.118Z"
   },
   {
    "duration": 22,
    "start_time": "2023-02-27T06:41:19.168Z"
   },
   {
    "duration": 13,
    "start_time": "2023-02-27T06:41:19.193Z"
   },
   {
    "duration": 6,
    "start_time": "2023-02-27T06:41:19.208Z"
   },
   {
    "duration": 42,
    "start_time": "2023-02-27T06:41:19.216Z"
   },
   {
    "duration": 299,
    "start_time": "2023-02-27T06:41:19.261Z"
   },
   {
    "duration": 6,
    "start_time": "2023-02-27T06:41:19.568Z"
   },
   {
    "duration": 19,
    "start_time": "2023-02-27T06:41:19.576Z"
   },
   {
    "duration": 6,
    "start_time": "2023-02-27T06:41:19.598Z"
   },
   {
    "duration": 14,
    "start_time": "2023-02-27T06:41:19.606Z"
   },
   {
    "duration": 33,
    "start_time": "2023-02-27T06:41:19.622Z"
   },
   {
    "duration": 25,
    "start_time": "2023-02-27T06:41:19.658Z"
   },
   {
    "duration": 20,
    "start_time": "2023-02-27T06:41:19.685Z"
   },
   {
    "duration": 6,
    "start_time": "2023-02-27T06:41:19.707Z"
   },
   {
    "duration": 13,
    "start_time": "2023-02-27T06:41:19.714Z"
   },
   {
    "duration": 25,
    "start_time": "2023-02-27T06:41:19.730Z"
   },
   {
    "duration": 25,
    "start_time": "2023-02-27T06:41:19.759Z"
   },
   {
    "duration": 20,
    "start_time": "2023-02-27T06:41:19.786Z"
   },
   {
    "duration": 12,
    "start_time": "2023-02-27T06:41:19.808Z"
   },
   {
    "duration": 1027,
    "start_time": "2023-02-27T06:41:19.822Z"
   },
   {
    "duration": 6,
    "start_time": "2023-02-27T06:41:20.852Z"
   },
   {
    "duration": 38,
    "start_time": "2023-02-27T06:41:20.860Z"
   },
   {
    "duration": 7,
    "start_time": "2023-02-27T06:41:20.899Z"
   },
   {
    "duration": 17,
    "start_time": "2023-02-27T06:41:20.909Z"
   },
   {
    "duration": 30,
    "start_time": "2023-02-27T06:41:20.928Z"
   },
   {
    "duration": 32,
    "start_time": "2023-02-27T06:41:20.960Z"
   },
   {
    "duration": 15,
    "start_time": "2023-02-27T06:41:20.994Z"
   },
   {
    "duration": 18,
    "start_time": "2023-02-27T06:41:21.012Z"
   },
   {
    "duration": 8,
    "start_time": "2023-02-27T06:41:21.032Z"
   },
   {
    "duration": 31,
    "start_time": "2023-02-27T06:41:21.042Z"
   },
   {
    "duration": 33,
    "start_time": "2023-02-27T06:41:21.076Z"
   },
   {
    "duration": 5,
    "start_time": "2023-02-27T06:41:21.111Z"
   },
   {
    "duration": 18,
    "start_time": "2023-02-27T06:41:21.118Z"
   },
   {
    "duration": 10,
    "start_time": "2023-02-27T06:41:21.145Z"
   },
   {
    "duration": 55,
    "start_time": "2023-02-27T06:41:21.156Z"
   },
   {
    "duration": 17,
    "start_time": "2023-02-27T06:41:21.214Z"
   },
   {
    "duration": 332,
    "start_time": "2023-02-27T06:41:21.234Z"
   },
   {
    "duration": 45,
    "start_time": "2023-02-27T06:41:21.568Z"
   },
   {
    "duration": 1119,
    "start_time": "2023-02-27T06:41:21.616Z"
   },
   {
    "duration": 34,
    "start_time": "2023-02-27T06:41:22.737Z"
   },
   {
    "duration": 31,
    "start_time": "2023-02-27T06:41:22.773Z"
   },
   {
    "duration": 8,
    "start_time": "2023-02-27T06:41:22.805Z"
   },
   {
    "duration": 15,
    "start_time": "2023-02-27T06:41:22.814Z"
   },
   {
    "duration": 16,
    "start_time": "2023-02-27T06:41:22.830Z"
   },
   {
    "duration": 42,
    "start_time": "2023-02-27T06:41:22.849Z"
   },
   {
    "duration": 16,
    "start_time": "2023-02-27T06:41:22.893Z"
   },
   {
    "duration": 15,
    "start_time": "2023-02-27T06:41:22.911Z"
   },
   {
    "duration": 10,
    "start_time": "2023-02-27T06:41:22.927Z"
   },
   {
    "duration": 1149,
    "start_time": "2023-02-27T06:41:22.939Z"
   },
   {
    "duration": 396,
    "start_time": "2023-02-27T06:41:24.090Z"
   },
   {
    "duration": 5,
    "start_time": "2023-02-27T06:41:24.490Z"
   },
   {
    "duration": 464,
    "start_time": "2023-02-27T06:41:24.497Z"
   },
   {
    "duration": 10,
    "start_time": "2023-02-27T06:41:24.963Z"
   },
   {
    "duration": 21,
    "start_time": "2023-02-27T06:41:24.975Z"
   },
   {
    "duration": 28,
    "start_time": "2023-02-27T06:41:24.998Z"
   },
   {
    "duration": 259,
    "start_time": "2023-02-27T06:41:25.028Z"
   },
   {
    "duration": 24,
    "start_time": "2023-02-27T06:41:25.289Z"
   },
   {
    "duration": 590,
    "start_time": "2023-02-27T06:41:25.315Z"
   },
   {
    "duration": 4,
    "start_time": "2023-02-27T06:41:25.907Z"
   },
   {
    "duration": 67,
    "start_time": "2023-02-27T06:41:25.913Z"
   },
   {
    "duration": 280,
    "start_time": "2023-02-27T06:41:25.985Z"
   },
   {
    "duration": 343,
    "start_time": "2023-02-27T06:41:26.267Z"
   },
   {
    "duration": 4,
    "start_time": "2023-02-27T06:41:26.613Z"
   },
   {
    "duration": 236,
    "start_time": "2023-02-27T06:41:26.620Z"
   },
   {
    "duration": 5,
    "start_time": "2023-02-27T06:41:26.858Z"
   },
   {
    "duration": 216,
    "start_time": "2023-02-27T06:41:26.865Z"
   },
   {
    "duration": 7,
    "start_time": "2023-02-27T06:41:27.083Z"
   },
   {
    "duration": 10,
    "start_time": "2023-02-27T06:41:27.091Z"
   },
   {
    "duration": 144,
    "start_time": "2023-02-27T06:41:27.103Z"
   },
   {
    "duration": 0,
    "start_time": "2023-02-27T06:41:27.249Z"
   },
   {
    "duration": 0,
    "start_time": "2023-02-27T06:41:27.251Z"
   },
   {
    "duration": 0,
    "start_time": "2023-02-27T06:41:27.252Z"
   },
   {
    "duration": 0,
    "start_time": "2023-02-27T06:41:27.253Z"
   },
   {
    "duration": 0,
    "start_time": "2023-02-27T06:41:27.255Z"
   },
   {
    "duration": 0,
    "start_time": "2023-02-27T06:41:27.256Z"
   },
   {
    "duration": 0,
    "start_time": "2023-02-27T06:41:27.257Z"
   },
   {
    "duration": 0,
    "start_time": "2023-02-27T06:41:27.259Z"
   },
   {
    "duration": 0,
    "start_time": "2023-02-27T06:41:27.262Z"
   },
   {
    "duration": 0,
    "start_time": "2023-02-27T06:41:27.263Z"
   },
   {
    "duration": 0,
    "start_time": "2023-02-27T06:41:27.264Z"
   },
   {
    "duration": 0,
    "start_time": "2023-02-27T06:41:27.265Z"
   },
   {
    "duration": 0,
    "start_time": "2023-02-27T06:41:27.267Z"
   },
   {
    "duration": 0,
    "start_time": "2023-02-27T06:41:27.268Z"
   },
   {
    "duration": 0,
    "start_time": "2023-02-27T06:41:27.269Z"
   },
   {
    "duration": 0,
    "start_time": "2023-02-27T06:41:27.270Z"
   },
   {
    "duration": 0,
    "start_time": "2023-02-27T06:41:27.271Z"
   },
   {
    "duration": 0,
    "start_time": "2023-02-27T06:41:27.273Z"
   },
   {
    "duration": 1343,
    "start_time": "2023-02-27T06:41:49.892Z"
   },
   {
    "duration": 84,
    "start_time": "2023-02-27T06:41:51.237Z"
   },
   {
    "duration": 17,
    "start_time": "2023-02-27T06:41:51.323Z"
   },
   {
    "duration": 46,
    "start_time": "2023-02-27T06:41:51.342Z"
   },
   {
    "duration": 23,
    "start_time": "2023-02-27T06:41:51.393Z"
   },
   {
    "duration": 23,
    "start_time": "2023-02-27T06:41:51.418Z"
   },
   {
    "duration": 51,
    "start_time": "2023-02-27T06:41:51.443Z"
   },
   {
    "duration": 21,
    "start_time": "2023-02-27T06:41:51.497Z"
   },
   {
    "duration": 18,
    "start_time": "2023-02-27T06:41:51.521Z"
   },
   {
    "duration": 11,
    "start_time": "2023-02-27T06:41:51.542Z"
   },
   {
    "duration": 37,
    "start_time": "2023-02-27T06:41:51.554Z"
   },
   {
    "duration": 24,
    "start_time": "2023-02-27T06:41:51.594Z"
   },
   {
    "duration": 220,
    "start_time": "2023-02-27T06:41:51.620Z"
   },
   {
    "duration": 5,
    "start_time": "2023-02-27T06:41:51.841Z"
   },
   {
    "duration": 61,
    "start_time": "2023-02-27T06:41:51.848Z"
   },
   {
    "duration": 8,
    "start_time": "2023-02-27T06:41:51.912Z"
   },
   {
    "duration": 17,
    "start_time": "2023-02-27T06:41:51.923Z"
   },
   {
    "duration": 62,
    "start_time": "2023-02-27T06:41:51.941Z"
   },
   {
    "duration": 11,
    "start_time": "2023-02-27T06:41:52.005Z"
   },
   {
    "duration": 19,
    "start_time": "2023-02-27T06:41:52.018Z"
   },
   {
    "duration": 44,
    "start_time": "2023-02-27T06:41:52.039Z"
   },
   {
    "duration": 8,
    "start_time": "2023-02-27T06:41:52.085Z"
   },
   {
    "duration": 10,
    "start_time": "2023-02-27T06:41:52.095Z"
   },
   {
    "duration": 8,
    "start_time": "2023-02-27T06:41:52.107Z"
   },
   {
    "duration": 12,
    "start_time": "2023-02-27T06:41:52.117Z"
   },
   {
    "duration": 10,
    "start_time": "2023-02-27T06:41:52.131Z"
   },
   {
    "duration": 1168,
    "start_time": "2023-02-27T06:41:52.143Z"
   },
   {
    "duration": 5,
    "start_time": "2023-02-27T06:41:53.316Z"
   },
   {
    "duration": 9,
    "start_time": "2023-02-27T06:41:53.323Z"
   },
   {
    "duration": 60,
    "start_time": "2023-02-27T06:41:53.333Z"
   },
   {
    "duration": 14,
    "start_time": "2023-02-27T06:41:53.396Z"
   },
   {
    "duration": 18,
    "start_time": "2023-02-27T06:41:53.412Z"
   },
   {
    "duration": 31,
    "start_time": "2023-02-27T06:41:53.433Z"
   },
   {
    "duration": 26,
    "start_time": "2023-02-27T06:41:53.474Z"
   },
   {
    "duration": 20,
    "start_time": "2023-02-27T06:41:53.502Z"
   },
   {
    "duration": 11,
    "start_time": "2023-02-27T06:41:53.524Z"
   },
   {
    "duration": 41,
    "start_time": "2023-02-27T06:41:53.537Z"
   },
   {
    "duration": 25,
    "start_time": "2023-02-27T06:41:53.579Z"
   },
   {
    "duration": 3,
    "start_time": "2023-02-27T06:41:53.606Z"
   },
   {
    "duration": 5,
    "start_time": "2023-02-27T06:41:53.611Z"
   },
   {
    "duration": 8,
    "start_time": "2023-02-27T06:41:53.618Z"
   },
   {
    "duration": 28,
    "start_time": "2023-02-27T06:41:53.629Z"
   },
   {
    "duration": 17,
    "start_time": "2023-02-27T06:41:53.663Z"
   },
   {
    "duration": 268,
    "start_time": "2023-02-27T06:41:53.688Z"
   },
   {
    "duration": 44,
    "start_time": "2023-02-27T06:41:53.959Z"
   },
   {
    "duration": 1087,
    "start_time": "2023-02-27T06:41:54.005Z"
   },
   {
    "duration": 26,
    "start_time": "2023-02-27T06:41:55.093Z"
   },
   {
    "duration": 33,
    "start_time": "2023-02-27T06:41:55.125Z"
   },
   {
    "duration": 38,
    "start_time": "2023-02-27T06:41:55.164Z"
   },
   {
    "duration": 24,
    "start_time": "2023-02-27T06:41:55.204Z"
   },
   {
    "duration": 21,
    "start_time": "2023-02-27T06:41:55.230Z"
   },
   {
    "duration": 43,
    "start_time": "2023-02-27T06:41:55.253Z"
   },
   {
    "duration": 29,
    "start_time": "2023-02-27T06:41:55.298Z"
   },
   {
    "duration": 29,
    "start_time": "2023-02-27T06:41:55.329Z"
   },
   {
    "duration": 43,
    "start_time": "2023-02-27T06:41:55.360Z"
   },
   {
    "duration": 1143,
    "start_time": "2023-02-27T06:41:55.405Z"
   },
   {
    "duration": 454,
    "start_time": "2023-02-27T06:41:56.553Z"
   },
   {
    "duration": 5,
    "start_time": "2023-02-27T06:41:57.010Z"
   },
   {
    "duration": 459,
    "start_time": "2023-02-27T06:41:57.016Z"
   },
   {
    "duration": 12,
    "start_time": "2023-02-27T06:41:57.477Z"
   },
   {
    "duration": 8,
    "start_time": "2023-02-27T06:41:57.491Z"
   },
   {
    "duration": 20,
    "start_time": "2023-02-27T06:41:57.500Z"
   },
   {
    "duration": 237,
    "start_time": "2023-02-27T06:41:57.522Z"
   },
   {
    "duration": 33,
    "start_time": "2023-02-27T06:41:57.761Z"
   },
   {
    "duration": 572,
    "start_time": "2023-02-27T06:41:57.796Z"
   },
   {
    "duration": 11,
    "start_time": "2023-02-27T06:41:58.370Z"
   },
   {
    "duration": 48,
    "start_time": "2023-02-27T06:41:58.383Z"
   },
   {
    "duration": 245,
    "start_time": "2023-02-27T06:41:58.433Z"
   },
   {
    "duration": 248,
    "start_time": "2023-02-27T06:41:58.683Z"
   },
   {
    "duration": 4,
    "start_time": "2023-02-27T06:41:58.933Z"
   },
   {
    "duration": 188,
    "start_time": "2023-02-27T06:41:58.952Z"
   },
   {
    "duration": 27,
    "start_time": "2023-02-27T06:41:59.142Z"
   },
   {
    "duration": 216,
    "start_time": "2023-02-27T06:41:59.172Z"
   },
   {
    "duration": 10,
    "start_time": "2023-02-27T06:41:59.391Z"
   },
   {
    "duration": 11,
    "start_time": "2023-02-27T06:41:59.404Z"
   },
   {
    "duration": 134,
    "start_time": "2023-02-27T06:41:59.418Z"
   },
   {
    "duration": 0,
    "start_time": "2023-02-27T06:41:59.555Z"
   },
   {
    "duration": 0,
    "start_time": "2023-02-27T06:41:59.557Z"
   },
   {
    "duration": 0,
    "start_time": "2023-02-27T06:41:59.558Z"
   },
   {
    "duration": 0,
    "start_time": "2023-02-27T06:41:59.559Z"
   },
   {
    "duration": 0,
    "start_time": "2023-02-27T06:41:59.560Z"
   },
   {
    "duration": 0,
    "start_time": "2023-02-27T06:41:59.562Z"
   },
   {
    "duration": 0,
    "start_time": "2023-02-27T06:41:59.563Z"
   },
   {
    "duration": 0,
    "start_time": "2023-02-27T06:41:59.564Z"
   },
   {
    "duration": 0,
    "start_time": "2023-02-27T06:41:59.565Z"
   },
   {
    "duration": 0,
    "start_time": "2023-02-27T06:41:59.567Z"
   },
   {
    "duration": 0,
    "start_time": "2023-02-27T06:41:59.568Z"
   },
   {
    "duration": 0,
    "start_time": "2023-02-27T06:41:59.569Z"
   },
   {
    "duration": 0,
    "start_time": "2023-02-27T06:41:59.571Z"
   },
   {
    "duration": 0,
    "start_time": "2023-02-27T06:41:59.572Z"
   },
   {
    "duration": 0,
    "start_time": "2023-02-27T06:41:59.573Z"
   },
   {
    "duration": 0,
    "start_time": "2023-02-27T06:41:59.575Z"
   },
   {
    "duration": 0,
    "start_time": "2023-02-27T06:41:59.576Z"
   },
   {
    "duration": 0,
    "start_time": "2023-02-27T06:41:59.578Z"
   },
   {
    "duration": 239,
    "start_time": "2023-02-27T06:43:33.928Z"
   },
   {
    "duration": 5,
    "start_time": "2023-02-27T06:47:41.217Z"
   },
   {
    "duration": 1243,
    "start_time": "2023-02-27T06:47:45.681Z"
   },
   {
    "duration": 68,
    "start_time": "2023-02-27T06:47:46.926Z"
   },
   {
    "duration": 18,
    "start_time": "2023-02-27T06:47:46.996Z"
   },
   {
    "duration": 22,
    "start_time": "2023-02-27T06:47:47.017Z"
   },
   {
    "duration": 29,
    "start_time": "2023-02-27T06:47:47.041Z"
   },
   {
    "duration": 20,
    "start_time": "2023-02-27T06:47:47.072Z"
   },
   {
    "duration": 18,
    "start_time": "2023-02-27T06:47:47.094Z"
   },
   {
    "duration": 17,
    "start_time": "2023-02-27T06:47:47.114Z"
   },
   {
    "duration": 19,
    "start_time": "2023-02-27T06:47:47.150Z"
   },
   {
    "duration": 9,
    "start_time": "2023-02-27T06:47:47.172Z"
   },
   {
    "duration": 6,
    "start_time": "2023-02-27T06:47:47.182Z"
   },
   {
    "duration": 19,
    "start_time": "2023-02-27T06:47:47.189Z"
   },
   {
    "duration": 219,
    "start_time": "2023-02-27T06:47:47.210Z"
   },
   {
    "duration": 4,
    "start_time": "2023-02-27T06:47:47.431Z"
   },
   {
    "duration": 18,
    "start_time": "2023-02-27T06:47:47.437Z"
   },
   {
    "duration": 14,
    "start_time": "2023-02-27T06:47:47.457Z"
   },
   {
    "duration": 10,
    "start_time": "2023-02-27T06:47:47.472Z"
   },
   {
    "duration": 10,
    "start_time": "2023-02-27T06:47:47.484Z"
   },
   {
    "duration": 7,
    "start_time": "2023-02-27T06:47:47.495Z"
   },
   {
    "duration": 18,
    "start_time": "2023-02-27T06:47:47.503Z"
   },
   {
    "duration": 32,
    "start_time": "2023-02-27T06:47:47.522Z"
   },
   {
    "duration": 15,
    "start_time": "2023-02-27T06:47:47.562Z"
   },
   {
    "duration": 11,
    "start_time": "2023-02-27T06:47:47.578Z"
   },
   {
    "duration": 14,
    "start_time": "2023-02-27T06:47:47.591Z"
   },
   {
    "duration": 13,
    "start_time": "2023-02-27T06:47:47.607Z"
   },
   {
    "duration": 9,
    "start_time": "2023-02-27T06:47:47.622Z"
   },
   {
    "duration": 946,
    "start_time": "2023-02-27T06:47:47.633Z"
   },
   {
    "duration": 5,
    "start_time": "2023-02-27T06:47:48.584Z"
   },
   {
    "duration": 31,
    "start_time": "2023-02-27T06:47:48.590Z"
   },
   {
    "duration": 17,
    "start_time": "2023-02-27T06:47:48.623Z"
   },
   {
    "duration": 19,
    "start_time": "2023-02-27T06:47:48.641Z"
   },
   {
    "duration": 44,
    "start_time": "2023-02-27T06:47:48.661Z"
   },
   {
    "duration": 10,
    "start_time": "2023-02-27T06:47:48.706Z"
   },
   {
    "duration": 15,
    "start_time": "2023-02-27T06:47:48.717Z"
   },
   {
    "duration": 28,
    "start_time": "2023-02-27T06:47:48.734Z"
   },
   {
    "duration": 27,
    "start_time": "2023-02-27T06:47:48.764Z"
   },
   {
    "duration": 27,
    "start_time": "2023-02-27T06:47:48.793Z"
   },
   {
    "duration": 13,
    "start_time": "2023-02-27T06:47:48.822Z"
   },
   {
    "duration": 27,
    "start_time": "2023-02-27T06:47:48.837Z"
   },
   {
    "duration": 34,
    "start_time": "2023-02-27T06:47:48.866Z"
   },
   {
    "duration": 6,
    "start_time": "2023-02-27T06:47:48.903Z"
   },
   {
    "duration": 21,
    "start_time": "2023-02-27T06:47:48.911Z"
   },
   {
    "duration": 11,
    "start_time": "2023-02-27T06:47:48.934Z"
   },
   {
    "duration": 224,
    "start_time": "2023-02-27T06:47:48.947Z"
   },
   {
    "duration": 31,
    "start_time": "2023-02-27T06:47:49.173Z"
   },
   {
    "duration": 1018,
    "start_time": "2023-02-27T06:47:49.205Z"
   },
   {
    "duration": 27,
    "start_time": "2023-02-27T06:47:50.225Z"
   },
   {
    "duration": 24,
    "start_time": "2023-02-27T06:47:50.262Z"
   },
   {
    "duration": 7,
    "start_time": "2023-02-27T06:47:50.288Z"
   },
   {
    "duration": 22,
    "start_time": "2023-02-27T06:47:50.297Z"
   },
   {
    "duration": 37,
    "start_time": "2023-02-27T06:47:50.321Z"
   },
   {
    "duration": 12,
    "start_time": "2023-02-27T06:47:50.364Z"
   },
   {
    "duration": 23,
    "start_time": "2023-02-27T06:47:50.378Z"
   },
   {
    "duration": 17,
    "start_time": "2023-02-27T06:47:50.403Z"
   },
   {
    "duration": 19,
    "start_time": "2023-02-27T06:47:50.422Z"
   },
   {
    "duration": 948,
    "start_time": "2023-02-27T06:47:50.442Z"
   },
   {
    "duration": 396,
    "start_time": "2023-02-27T06:47:51.391Z"
   },
   {
    "duration": 5,
    "start_time": "2023-02-27T06:47:51.789Z"
   },
   {
    "duration": 437,
    "start_time": "2023-02-27T06:47:51.796Z"
   },
   {
    "duration": 8,
    "start_time": "2023-02-27T06:47:52.236Z"
   },
   {
    "duration": 20,
    "start_time": "2023-02-27T06:47:52.246Z"
   },
   {
    "duration": 47,
    "start_time": "2023-02-27T06:47:52.268Z"
   },
   {
    "duration": 216,
    "start_time": "2023-02-27T06:47:52.317Z"
   },
   {
    "duration": 37,
    "start_time": "2023-02-27T06:47:52.535Z"
   },
   {
    "duration": 455,
    "start_time": "2023-02-27T06:47:52.576Z"
   },
   {
    "duration": 4,
    "start_time": "2023-02-27T06:47:53.033Z"
   },
   {
    "duration": 60,
    "start_time": "2023-02-27T06:47:53.039Z"
   },
   {
    "duration": 209,
    "start_time": "2023-02-27T06:47:53.101Z"
   },
   {
    "duration": 251,
    "start_time": "2023-02-27T06:47:53.311Z"
   },
   {
    "duration": 4,
    "start_time": "2023-02-27T06:47:53.564Z"
   },
   {
    "duration": 176,
    "start_time": "2023-02-27T06:47:53.570Z"
   },
   {
    "duration": 6,
    "start_time": "2023-02-27T06:47:53.751Z"
   },
   {
    "duration": 178,
    "start_time": "2023-02-27T06:47:53.763Z"
   },
   {
    "duration": 23,
    "start_time": "2023-02-27T06:47:53.943Z"
   },
   {
    "duration": 10,
    "start_time": "2023-02-27T06:47:53.968Z"
   },
   {
    "duration": 116,
    "start_time": "2023-02-27T06:47:53.979Z"
   },
   {
    "duration": 0,
    "start_time": "2023-02-27T06:47:54.098Z"
   },
   {
    "duration": 0,
    "start_time": "2023-02-27T06:47:54.099Z"
   },
   {
    "duration": 1,
    "start_time": "2023-02-27T06:47:54.099Z"
   },
   {
    "duration": 0,
    "start_time": "2023-02-27T06:47:54.101Z"
   },
   {
    "duration": 0,
    "start_time": "2023-02-27T06:47:54.102Z"
   },
   {
    "duration": 0,
    "start_time": "2023-02-27T06:47:54.103Z"
   },
   {
    "duration": 0,
    "start_time": "2023-02-27T06:47:54.104Z"
   },
   {
    "duration": 0,
    "start_time": "2023-02-27T06:47:54.106Z"
   },
   {
    "duration": 0,
    "start_time": "2023-02-27T06:47:54.107Z"
   },
   {
    "duration": 0,
    "start_time": "2023-02-27T06:47:54.108Z"
   },
   {
    "duration": 0,
    "start_time": "2023-02-27T06:47:54.109Z"
   },
   {
    "duration": 0,
    "start_time": "2023-02-27T06:47:54.111Z"
   },
   {
    "duration": 0,
    "start_time": "2023-02-27T06:47:54.112Z"
   },
   {
    "duration": 0,
    "start_time": "2023-02-27T06:47:54.113Z"
   },
   {
    "duration": 0,
    "start_time": "2023-02-27T06:47:54.115Z"
   },
   {
    "duration": 0,
    "start_time": "2023-02-27T06:47:54.116Z"
   },
   {
    "duration": 0,
    "start_time": "2023-02-27T06:47:54.117Z"
   },
   {
    "duration": 0,
    "start_time": "2023-02-27T06:47:54.119Z"
   },
   {
    "duration": 41,
    "start_time": "2023-02-27T06:48:44.134Z"
   },
   {
    "duration": 5,
    "start_time": "2023-02-27T06:49:45.409Z"
   },
   {
    "duration": 1294,
    "start_time": "2023-02-27T06:49:52.514Z"
   },
   {
    "duration": 71,
    "start_time": "2023-02-27T06:49:53.811Z"
   },
   {
    "duration": 19,
    "start_time": "2023-02-27T06:49:53.884Z"
   },
   {
    "duration": 22,
    "start_time": "2023-02-27T06:49:53.905Z"
   },
   {
    "duration": 40,
    "start_time": "2023-02-27T06:49:53.929Z"
   },
   {
    "duration": 40,
    "start_time": "2023-02-27T06:49:53.971Z"
   },
   {
    "duration": 21,
    "start_time": "2023-02-27T06:49:54.014Z"
   },
   {
    "duration": 17,
    "start_time": "2023-02-27T06:49:54.037Z"
   },
   {
    "duration": 27,
    "start_time": "2023-02-27T06:49:54.056Z"
   },
   {
    "duration": 11,
    "start_time": "2023-02-27T06:49:54.086Z"
   },
   {
    "duration": 10,
    "start_time": "2023-02-27T06:49:54.099Z"
   },
   {
    "duration": 36,
    "start_time": "2023-02-27T06:49:54.111Z"
   },
   {
    "duration": 201,
    "start_time": "2023-02-27T06:49:54.153Z"
   },
   {
    "duration": 6,
    "start_time": "2023-02-27T06:49:54.363Z"
   },
   {
    "duration": 11,
    "start_time": "2023-02-27T06:49:54.371Z"
   },
   {
    "duration": 6,
    "start_time": "2023-02-27T06:49:54.384Z"
   },
   {
    "duration": 17,
    "start_time": "2023-02-27T06:49:54.392Z"
   },
   {
    "duration": 11,
    "start_time": "2023-02-27T06:49:54.411Z"
   },
   {
    "duration": 11,
    "start_time": "2023-02-27T06:49:54.424Z"
   },
   {
    "duration": 45,
    "start_time": "2023-02-27T06:49:54.437Z"
   },
   {
    "duration": 5,
    "start_time": "2023-02-27T06:49:54.484Z"
   },
   {
    "duration": 10,
    "start_time": "2023-02-27T06:49:54.491Z"
   },
   {
    "duration": 16,
    "start_time": "2023-02-27T06:49:54.503Z"
   },
   {
    "duration": 12,
    "start_time": "2023-02-27T06:49:54.521Z"
   },
   {
    "duration": 31,
    "start_time": "2023-02-27T06:49:54.535Z"
   },
   {
    "duration": 17,
    "start_time": "2023-02-27T06:49:54.568Z"
   },
   {
    "duration": 936,
    "start_time": "2023-02-27T06:49:54.586Z"
   },
   {
    "duration": 6,
    "start_time": "2023-02-27T06:49:55.526Z"
   },
   {
    "duration": 48,
    "start_time": "2023-02-27T06:49:55.533Z"
   },
   {
    "duration": 19,
    "start_time": "2023-02-27T06:49:55.582Z"
   },
   {
    "duration": 15,
    "start_time": "2023-02-27T06:49:55.603Z"
   },
   {
    "duration": 44,
    "start_time": "2023-02-27T06:49:55.620Z"
   },
   {
    "duration": 11,
    "start_time": "2023-02-27T06:49:55.666Z"
   },
   {
    "duration": 18,
    "start_time": "2023-02-27T06:49:55.680Z"
   },
   {
    "duration": 27,
    "start_time": "2023-02-27T06:49:55.700Z"
   },
   {
    "duration": 43,
    "start_time": "2023-02-27T06:49:55.728Z"
   },
   {
    "duration": 20,
    "start_time": "2023-02-27T06:49:55.773Z"
   },
   {
    "duration": 16,
    "start_time": "2023-02-27T06:49:55.795Z"
   },
   {
    "duration": 4,
    "start_time": "2023-02-27T06:49:55.814Z"
   },
   {
    "duration": 5,
    "start_time": "2023-02-27T06:49:55.820Z"
   },
   {
    "duration": 8,
    "start_time": "2023-02-27T06:49:55.826Z"
   },
   {
    "duration": 36,
    "start_time": "2023-02-27T06:49:55.836Z"
   },
   {
    "duration": 13,
    "start_time": "2023-02-27T06:49:55.874Z"
   },
   {
    "duration": 238,
    "start_time": "2023-02-27T06:49:55.889Z"
   },
   {
    "duration": 44,
    "start_time": "2023-02-27T06:49:56.129Z"
   },
   {
    "duration": 1059,
    "start_time": "2023-02-27T06:49:56.175Z"
   },
   {
    "duration": 30,
    "start_time": "2023-02-27T06:49:57.237Z"
   },
   {
    "duration": 29,
    "start_time": "2023-02-27T06:49:57.269Z"
   },
   {
    "duration": 18,
    "start_time": "2023-02-27T06:49:57.300Z"
   },
   {
    "duration": 23,
    "start_time": "2023-02-27T06:49:57.320Z"
   },
   {
    "duration": 21,
    "start_time": "2023-02-27T06:49:57.345Z"
   },
   {
    "duration": 15,
    "start_time": "2023-02-27T06:49:57.367Z"
   },
   {
    "duration": 19,
    "start_time": "2023-02-27T06:49:57.384Z"
   },
   {
    "duration": 17,
    "start_time": "2023-02-27T06:49:57.405Z"
   },
   {
    "duration": 10,
    "start_time": "2023-02-27T06:49:57.424Z"
   },
   {
    "duration": 966,
    "start_time": "2023-02-27T06:49:57.437Z"
   },
   {
    "duration": 378,
    "start_time": "2023-02-27T06:49:58.405Z"
   },
   {
    "duration": 5,
    "start_time": "2023-02-27T06:49:58.785Z"
   },
   {
    "duration": 421,
    "start_time": "2023-02-27T06:49:58.792Z"
   },
   {
    "duration": 8,
    "start_time": "2023-02-27T06:49:59.214Z"
   },
   {
    "duration": 22,
    "start_time": "2023-02-27T06:49:59.224Z"
   },
   {
    "duration": 45,
    "start_time": "2023-02-27T06:49:59.248Z"
   },
   {
    "duration": 243,
    "start_time": "2023-02-27T06:49:59.296Z"
   },
   {
    "duration": 41,
    "start_time": "2023-02-27T06:49:59.541Z"
   },
   {
    "duration": 491,
    "start_time": "2023-02-27T06:49:59.585Z"
   },
   {
    "duration": 5,
    "start_time": "2023-02-27T06:50:00.077Z"
   },
   {
    "duration": 42,
    "start_time": "2023-02-27T06:50:00.084Z"
   },
   {
    "duration": 241,
    "start_time": "2023-02-27T06:50:00.127Z"
   },
   {
    "duration": 225,
    "start_time": "2023-02-27T06:50:00.369Z"
   },
   {
    "duration": 5,
    "start_time": "2023-02-27T06:50:00.596Z"
   },
   {
    "duration": 243,
    "start_time": "2023-02-27T06:50:00.602Z"
   },
   {
    "duration": 13,
    "start_time": "2023-02-27T06:50:00.848Z"
   },
   {
    "duration": 220,
    "start_time": "2023-02-27T06:50:00.863Z"
   },
   {
    "duration": 6,
    "start_time": "2023-02-27T06:50:01.085Z"
   },
   {
    "duration": 42,
    "start_time": "2023-02-27T06:50:01.098Z"
   },
   {
    "duration": 175,
    "start_time": "2023-02-27T06:50:01.141Z"
   },
   {
    "duration": 0,
    "start_time": "2023-02-27T06:50:01.318Z"
   },
   {
    "duration": 0,
    "start_time": "2023-02-27T06:50:01.320Z"
   },
   {
    "duration": 0,
    "start_time": "2023-02-27T06:50:01.321Z"
   },
   {
    "duration": 0,
    "start_time": "2023-02-27T06:50:01.322Z"
   },
   {
    "duration": 0,
    "start_time": "2023-02-27T06:50:01.323Z"
   },
   {
    "duration": 0,
    "start_time": "2023-02-27T06:50:01.325Z"
   },
   {
    "duration": 0,
    "start_time": "2023-02-27T06:50:01.326Z"
   },
   {
    "duration": 0,
    "start_time": "2023-02-27T06:50:01.328Z"
   },
   {
    "duration": 1,
    "start_time": "2023-02-27T06:50:01.328Z"
   },
   {
    "duration": 0,
    "start_time": "2023-02-27T06:50:01.330Z"
   },
   {
    "duration": 0,
    "start_time": "2023-02-27T06:50:01.331Z"
   },
   {
    "duration": 0,
    "start_time": "2023-02-27T06:50:01.349Z"
   },
   {
    "duration": 0,
    "start_time": "2023-02-27T06:50:01.350Z"
   },
   {
    "duration": 0,
    "start_time": "2023-02-27T06:50:01.351Z"
   },
   {
    "duration": 0,
    "start_time": "2023-02-27T06:50:01.352Z"
   },
   {
    "duration": 0,
    "start_time": "2023-02-27T06:50:01.353Z"
   },
   {
    "duration": 0,
    "start_time": "2023-02-27T06:50:01.354Z"
   },
   {
    "duration": 0,
    "start_time": "2023-02-27T06:50:01.355Z"
   },
   {
    "duration": 14,
    "start_time": "2023-02-27T06:50:50.576Z"
   },
   {
    "duration": 1462,
    "start_time": "2023-02-27T06:50:54.778Z"
   },
   {
    "duration": 89,
    "start_time": "2023-02-27T06:50:56.242Z"
   },
   {
    "duration": 28,
    "start_time": "2023-02-27T06:50:56.334Z"
   },
   {
    "duration": 51,
    "start_time": "2023-02-27T06:50:56.368Z"
   },
   {
    "duration": 51,
    "start_time": "2023-02-27T06:50:56.421Z"
   },
   {
    "duration": 59,
    "start_time": "2023-02-27T06:50:56.475Z"
   },
   {
    "duration": 78,
    "start_time": "2023-02-27T06:50:56.536Z"
   },
   {
    "duration": 25,
    "start_time": "2023-02-27T06:50:56.617Z"
   },
   {
    "duration": 68,
    "start_time": "2023-02-27T06:50:56.645Z"
   },
   {
    "duration": 13,
    "start_time": "2023-02-27T06:50:56.717Z"
   },
   {
    "duration": 11,
    "start_time": "2023-02-27T06:50:56.732Z"
   },
   {
    "duration": 82,
    "start_time": "2023-02-27T06:50:56.745Z"
   },
   {
    "duration": 211,
    "start_time": "2023-02-27T06:50:56.828Z"
   },
   {
    "duration": 8,
    "start_time": "2023-02-27T06:50:57.041Z"
   },
   {
    "duration": 52,
    "start_time": "2023-02-27T06:50:57.050Z"
   },
   {
    "duration": 9,
    "start_time": "2023-02-27T06:50:57.104Z"
   },
   {
    "duration": 11,
    "start_time": "2023-02-27T06:50:57.114Z"
   },
   {
    "duration": 10,
    "start_time": "2023-02-27T06:50:57.127Z"
   },
   {
    "duration": 51,
    "start_time": "2023-02-27T06:50:57.139Z"
   },
   {
    "duration": 28,
    "start_time": "2023-02-27T06:50:57.192Z"
   },
   {
    "duration": 8,
    "start_time": "2023-02-27T06:50:57.222Z"
   },
   {
    "duration": 9,
    "start_time": "2023-02-27T06:50:57.232Z"
   },
   {
    "duration": 13,
    "start_time": "2023-02-27T06:50:57.243Z"
   },
   {
    "duration": 39,
    "start_time": "2023-02-27T06:50:57.258Z"
   },
   {
    "duration": 26,
    "start_time": "2023-02-27T06:50:57.300Z"
   },
   {
    "duration": 16,
    "start_time": "2023-02-27T06:50:57.328Z"
   },
   {
    "duration": 1123,
    "start_time": "2023-02-27T06:50:57.348Z"
   },
   {
    "duration": 8,
    "start_time": "2023-02-27T06:50:58.477Z"
   },
   {
    "duration": 11,
    "start_time": "2023-02-27T06:50:58.489Z"
   },
   {
    "duration": 9,
    "start_time": "2023-02-27T06:50:58.501Z"
   },
   {
    "duration": 14,
    "start_time": "2023-02-27T06:50:58.513Z"
   },
   {
    "duration": 32,
    "start_time": "2023-02-27T06:50:58.530Z"
   },
   {
    "duration": 31,
    "start_time": "2023-02-27T06:50:58.567Z"
   },
   {
    "duration": 16,
    "start_time": "2023-02-27T06:50:58.601Z"
   },
   {
    "duration": 27,
    "start_time": "2023-02-27T06:50:58.619Z"
   },
   {
    "duration": 21,
    "start_time": "2023-02-27T06:50:58.648Z"
   },
   {
    "duration": 47,
    "start_time": "2023-02-27T06:50:58.672Z"
   },
   {
    "duration": 25,
    "start_time": "2023-02-27T06:50:58.721Z"
   },
   {
    "duration": 8,
    "start_time": "2023-02-27T06:50:58.748Z"
   },
   {
    "duration": 36,
    "start_time": "2023-02-27T06:50:58.759Z"
   },
   {
    "duration": 7,
    "start_time": "2023-02-27T06:50:58.798Z"
   },
   {
    "duration": 21,
    "start_time": "2023-02-27T06:50:58.808Z"
   },
   {
    "duration": 25,
    "start_time": "2023-02-27T06:50:58.831Z"
   },
   {
    "duration": 237,
    "start_time": "2023-02-27T06:50:58.860Z"
   },
   {
    "duration": 36,
    "start_time": "2023-02-27T06:50:59.099Z"
   },
   {
    "duration": 1077,
    "start_time": "2023-02-27T06:50:59.136Z"
   },
   {
    "duration": 16,
    "start_time": "2023-02-27T06:51:00.215Z"
   },
   {
    "duration": 71,
    "start_time": "2023-02-27T06:51:00.234Z"
   },
   {
    "duration": 30,
    "start_time": "2023-02-27T06:51:00.307Z"
   },
   {
    "duration": 100,
    "start_time": "2023-02-27T06:51:00.340Z"
   },
   {
    "duration": 48,
    "start_time": "2023-02-27T06:51:00.443Z"
   },
   {
    "duration": 42,
    "start_time": "2023-02-27T06:51:00.493Z"
   },
   {
    "duration": 63,
    "start_time": "2023-02-27T06:51:00.537Z"
   },
   {
    "duration": 103,
    "start_time": "2023-02-27T06:51:00.602Z"
   },
   {
    "duration": 81,
    "start_time": "2023-02-27T06:51:00.708Z"
   },
   {
    "duration": 1141,
    "start_time": "2023-02-27T06:51:00.792Z"
   },
   {
    "duration": 432,
    "start_time": "2023-02-27T06:51:01.935Z"
   },
   {
    "duration": 11,
    "start_time": "2023-02-27T06:51:02.373Z"
   },
   {
    "duration": 556,
    "start_time": "2023-02-27T06:51:02.389Z"
   },
   {
    "duration": 14,
    "start_time": "2023-02-27T06:51:02.947Z"
   },
   {
    "duration": 47,
    "start_time": "2023-02-27T06:51:02.967Z"
   },
   {
    "duration": 24,
    "start_time": "2023-02-27T06:51:03.016Z"
   },
   {
    "duration": 277,
    "start_time": "2023-02-27T06:51:03.042Z"
   },
   {
    "duration": 42,
    "start_time": "2023-02-27T06:51:03.321Z"
   },
   {
    "duration": 540,
    "start_time": "2023-02-27T06:51:03.364Z"
   },
   {
    "duration": 8,
    "start_time": "2023-02-27T06:51:03.907Z"
   },
   {
    "duration": 47,
    "start_time": "2023-02-27T06:51:03.917Z"
   },
   {
    "duration": 230,
    "start_time": "2023-02-27T06:51:03.966Z"
   },
   {
    "duration": 135,
    "start_time": "2023-02-27T06:51:04.198Z"
   },
   {
    "duration": 0,
    "start_time": "2023-02-27T06:51:04.335Z"
   },
   {
    "duration": 0,
    "start_time": "2023-02-27T06:51:04.337Z"
   },
   {
    "duration": 0,
    "start_time": "2023-02-27T06:51:04.350Z"
   },
   {
    "duration": 0,
    "start_time": "2023-02-27T06:51:04.351Z"
   },
   {
    "duration": 0,
    "start_time": "2023-02-27T06:51:04.352Z"
   },
   {
    "duration": 0,
    "start_time": "2023-02-27T06:51:04.353Z"
   },
   {
    "duration": 0,
    "start_time": "2023-02-27T06:51:04.354Z"
   },
   {
    "duration": 0,
    "start_time": "2023-02-27T06:51:04.355Z"
   },
   {
    "duration": 0,
    "start_time": "2023-02-27T06:51:04.356Z"
   },
   {
    "duration": 0,
    "start_time": "2023-02-27T06:51:04.356Z"
   },
   {
    "duration": 0,
    "start_time": "2023-02-27T06:51:04.357Z"
   },
   {
    "duration": 0,
    "start_time": "2023-02-27T06:51:04.358Z"
   },
   {
    "duration": 0,
    "start_time": "2023-02-27T06:51:04.359Z"
   },
   {
    "duration": 0,
    "start_time": "2023-02-27T06:51:04.359Z"
   },
   {
    "duration": 0,
    "start_time": "2023-02-27T06:51:04.360Z"
   },
   {
    "duration": 0,
    "start_time": "2023-02-27T06:51:04.361Z"
   },
   {
    "duration": 0,
    "start_time": "2023-02-27T06:51:04.362Z"
   },
   {
    "duration": 0,
    "start_time": "2023-02-27T06:51:04.365Z"
   },
   {
    "duration": 0,
    "start_time": "2023-02-27T06:51:04.366Z"
   },
   {
    "duration": 0,
    "start_time": "2023-02-27T06:51:04.367Z"
   },
   {
    "duration": 0,
    "start_time": "2023-02-27T06:51:04.368Z"
   },
   {
    "duration": 0,
    "start_time": "2023-02-27T06:51:04.369Z"
   },
   {
    "duration": 0,
    "start_time": "2023-02-27T06:51:04.378Z"
   },
   {
    "duration": 0,
    "start_time": "2023-02-27T06:51:04.380Z"
   },
   {
    "duration": 0,
    "start_time": "2023-02-27T06:51:04.382Z"
   },
   {
    "duration": 232,
    "start_time": "2023-02-27T06:51:18.182Z"
   },
   {
    "duration": 5,
    "start_time": "2023-02-27T06:51:40.705Z"
   },
   {
    "duration": 205,
    "start_time": "2023-02-27T06:51:42.135Z"
   },
   {
    "duration": 7,
    "start_time": "2023-02-27T06:51:44.813Z"
   },
   {
    "duration": 191,
    "start_time": "2023-02-27T06:51:49.912Z"
   },
   {
    "duration": 7,
    "start_time": "2023-02-27T06:51:59.680Z"
   },
   {
    "duration": 8,
    "start_time": "2023-02-27T06:52:07.697Z"
   },
   {
    "duration": 1333,
    "start_time": "2023-02-27T06:52:13.901Z"
   },
   {
    "duration": 4,
    "start_time": "2023-02-27T06:57:08.787Z"
   },
   {
    "duration": 245,
    "start_time": "2023-02-27T06:57:10.523Z"
   },
   {
    "duration": 214,
    "start_time": "2023-02-27T06:57:11.073Z"
   },
   {
    "duration": 247,
    "start_time": "2023-02-27T06:57:11.918Z"
   },
   {
    "duration": 38,
    "start_time": "2023-02-27T06:57:13.046Z"
   },
   {
    "duration": 6,
    "start_time": "2023-02-27T06:57:27.009Z"
   },
   {
    "duration": 458,
    "start_time": "2023-02-27T06:57:53.011Z"
   },
   {
    "duration": 482,
    "start_time": "2023-02-27T06:58:00.335Z"
   },
   {
    "duration": 53,
    "start_time": "2023-02-27T07:13:13.697Z"
   },
   {
    "duration": 423,
    "start_time": "2023-02-27T07:13:26.564Z"
   },
   {
    "duration": 198,
    "start_time": "2023-02-27T07:16:00.273Z"
   },
   {
    "duration": 534,
    "start_time": "2023-02-27T07:16:14.645Z"
   },
   {
    "duration": 7,
    "start_time": "2023-02-27T07:19:25.508Z"
   },
   {
    "duration": 7,
    "start_time": "2023-02-27T07:19:26.324Z"
   },
   {
    "duration": 7,
    "start_time": "2023-02-27T07:19:47.613Z"
   },
   {
    "duration": 6,
    "start_time": "2023-02-27T07:31:41.895Z"
   },
   {
    "duration": 5,
    "start_time": "2023-02-27T07:31:42.540Z"
   },
   {
    "duration": 9,
    "start_time": "2023-02-27T07:32:06.137Z"
   }
  ],
  "kernelspec": {
   "display_name": "Python 3 (ipykernel)",
   "language": "python",
   "name": "python3"
  },
  "language_info": {
   "codemirror_mode": {
    "name": "ipython",
    "version": 3
   },
   "file_extension": ".py",
   "mimetype": "text/x-python",
   "name": "python",
   "nbconvert_exporter": "python",
   "pygments_lexer": "ipython3",
   "version": "3.9.5"
  },
  "toc": {
   "base_numbering": 1,
   "nav_menu": {},
   "number_sections": true,
   "sideBar": true,
   "skip_h1_title": true,
   "title_cell": "Table of Contents",
   "title_sidebar": "Contents",
   "toc_cell": false,
   "toc_position": {},
   "toc_section_display": true,
   "toc_window_display": false
  }
 },
 "nbformat": 4,
 "nbformat_minor": 2
}
